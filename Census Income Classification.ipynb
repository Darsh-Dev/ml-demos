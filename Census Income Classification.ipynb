{
 "cells": [
  {
   "cell_type": "markdown",
   "metadata": {},
   "source": [
    "# Initialisation"
   ]
  },
  {
   "cell_type": "code",
   "execution_count": 199,
   "metadata": {
    "ExecuteTime": {
     "end_time": "2019-03-25T22:26:15.831700Z",
     "start_time": "2019-03-25T22:26:15.822630Z"
    }
   },
   "outputs": [
    {
     "data": {
      "text/html": [
       "<style> .container{ width:90%; } </style>"
      ],
      "text/plain": [
       "<IPython.core.display.HTML object>"
      ]
     },
     "execution_count": 199,
     "metadata": {},
     "output_type": "execute_result"
    }
   ],
   "source": [
    "from IPython.core.display import HTML\n",
    "HTML('<style> .container{ width:90%; } </style>')"
   ]
  },
  {
   "cell_type": "markdown",
   "metadata": {},
   "source": [
    "Standard libraries:\n",
    "- Scientific computing (numpy)\n",
    "- Data analysis (pandas)\n",
    "- Plotting (matplotlib, seaborn)\n",
    "- Machine learning (scikit-learn)\n",
    "- Gradient-boosted trees (xgboost)\n",
    "- Deep learning (tensorflow, keras, keras_metrics)"
   ]
  },
  {
   "cell_type": "code",
   "execution_count": 249,
   "metadata": {
    "ExecuteTime": {
     "end_time": "2019-03-25T23:47:08.290504Z",
     "start_time": "2019-03-25T23:46:46.189865Z"
    }
   },
   "outputs": [],
   "source": [
    "import sys\n",
    "!{sys.executable} -m pip install --quiet numpy\n",
    "!{sys.executable} -m pip install --quiet pandas\n",
    "!{sys.executable} -m pip install --quiet matplotlib\n",
    "!{sys.executable} -m pip install --quiet seaborn\n",
    "!{sys.executable} -m pip install --quiet sklearn\n",
    "!{sys.executable} -m pip install --quiet xgboost\n",
    "!{sys.executable} -m pip install --quiet tensorflow\n",
    "!{sys.executable} -m pip install --quiet keras\n",
    "!{sys.executable} -m pip install --quiet keras_metrics"
   ]
  },
  {
   "cell_type": "code",
   "execution_count": 64,
   "metadata": {
    "ExecuteTime": {
     "end_time": "2019-03-25T21:34:54.160321Z",
     "start_time": "2019-03-25T21:34:54.146759Z"
    }
   },
   "outputs": [],
   "source": [
    "import numpy as np\n",
    "import pandas as pd\n",
    "import matplotlib as mpl\n",
    "import matplotlib.pyplot as plt\n",
    "import seaborn as sns\n",
    "\n",
    "%matplotlib inline"
   ]
  },
  {
   "cell_type": "markdown",
   "metadata": {},
   "source": [
    "# Data Loading"
   ]
  },
  {
   "cell_type": "markdown",
   "metadata": {},
   "source": [
    "Loading CVS file onto pandas dataframe, a tabular data structure.\n",
    "\n",
    "Printing first few rows, the shape of data (rows, column), the data types, and some basic analysis of the numeric features"
   ]
  },
  {
   "cell_type": "code",
   "execution_count": 65,
   "metadata": {
    "ExecuteTime": {
     "end_time": "2019-03-25T21:34:54.455393Z",
     "start_time": "2019-03-25T21:34:54.165539Z"
    }
   },
   "outputs": [
    {
     "data": {
      "text/html": [
       "<div>\n",
       "<style scoped>\n",
       "    .dataframe tbody tr th:only-of-type {\n",
       "        vertical-align: middle;\n",
       "    }\n",
       "\n",
       "    .dataframe tbody tr th {\n",
       "        vertical-align: top;\n",
       "    }\n",
       "\n",
       "    .dataframe thead th {\n",
       "        text-align: right;\n",
       "    }\n",
       "</style>\n",
       "<table border=\"1\" class=\"dataframe\">\n",
       "  <thead>\n",
       "    <tr style=\"text-align: right;\">\n",
       "      <th></th>\n",
       "      <th>age</th>\n",
       "      <th>workclass</th>\n",
       "      <th>fnlwgt</th>\n",
       "      <th>education</th>\n",
       "      <th>education-num</th>\n",
       "      <th>marital-status</th>\n",
       "      <th>occupation</th>\n",
       "      <th>relationship</th>\n",
       "      <th>race</th>\n",
       "      <th>sex</th>\n",
       "      <th>capital-gain</th>\n",
       "      <th>capital-loss</th>\n",
       "      <th>hours-per-week</th>\n",
       "      <th>native-country</th>\n",
       "      <th>income</th>\n",
       "    </tr>\n",
       "  </thead>\n",
       "  <tbody>\n",
       "    <tr>\n",
       "      <th>0</th>\n",
       "      <td>39</td>\n",
       "      <td>State-gov</td>\n",
       "      <td>77516</td>\n",
       "      <td>Bachelors</td>\n",
       "      <td>13</td>\n",
       "      <td>Never-married</td>\n",
       "      <td>Adm-clerical</td>\n",
       "      <td>Not-in-family</td>\n",
       "      <td>White</td>\n",
       "      <td>Male</td>\n",
       "      <td>2174</td>\n",
       "      <td>0</td>\n",
       "      <td>40</td>\n",
       "      <td>United-States</td>\n",
       "      <td>&lt;=50K</td>\n",
       "    </tr>\n",
       "    <tr>\n",
       "      <th>1</th>\n",
       "      <td>50</td>\n",
       "      <td>Self-emp-not-inc</td>\n",
       "      <td>83311</td>\n",
       "      <td>Bachelors</td>\n",
       "      <td>13</td>\n",
       "      <td>Married-civ-spouse</td>\n",
       "      <td>Exec-managerial</td>\n",
       "      <td>Husband</td>\n",
       "      <td>White</td>\n",
       "      <td>Male</td>\n",
       "      <td>0</td>\n",
       "      <td>0</td>\n",
       "      <td>13</td>\n",
       "      <td>United-States</td>\n",
       "      <td>&lt;=50K</td>\n",
       "    </tr>\n",
       "    <tr>\n",
       "      <th>2</th>\n",
       "      <td>38</td>\n",
       "      <td>Private</td>\n",
       "      <td>215646</td>\n",
       "      <td>HS-grad</td>\n",
       "      <td>9</td>\n",
       "      <td>Divorced</td>\n",
       "      <td>Handlers-cleaners</td>\n",
       "      <td>Not-in-family</td>\n",
       "      <td>White</td>\n",
       "      <td>Male</td>\n",
       "      <td>0</td>\n",
       "      <td>0</td>\n",
       "      <td>40</td>\n",
       "      <td>United-States</td>\n",
       "      <td>&lt;=50K</td>\n",
       "    </tr>\n",
       "    <tr>\n",
       "      <th>3</th>\n",
       "      <td>53</td>\n",
       "      <td>Private</td>\n",
       "      <td>234721</td>\n",
       "      <td>11th</td>\n",
       "      <td>7</td>\n",
       "      <td>Married-civ-spouse</td>\n",
       "      <td>Handlers-cleaners</td>\n",
       "      <td>Husband</td>\n",
       "      <td>Black</td>\n",
       "      <td>Male</td>\n",
       "      <td>0</td>\n",
       "      <td>0</td>\n",
       "      <td>40</td>\n",
       "      <td>United-States</td>\n",
       "      <td>&lt;=50K</td>\n",
       "    </tr>\n",
       "    <tr>\n",
       "      <th>4</th>\n",
       "      <td>28</td>\n",
       "      <td>Private</td>\n",
       "      <td>338409</td>\n",
       "      <td>Bachelors</td>\n",
       "      <td>13</td>\n",
       "      <td>Married-civ-spouse</td>\n",
       "      <td>Prof-specialty</td>\n",
       "      <td>Wife</td>\n",
       "      <td>Black</td>\n",
       "      <td>Female</td>\n",
       "      <td>0</td>\n",
       "      <td>0</td>\n",
       "      <td>40</td>\n",
       "      <td>Cuba</td>\n",
       "      <td>&lt;=50K</td>\n",
       "    </tr>\n",
       "    <tr>\n",
       "      <th>5</th>\n",
       "      <td>37</td>\n",
       "      <td>Private</td>\n",
       "      <td>284582</td>\n",
       "      <td>Masters</td>\n",
       "      <td>14</td>\n",
       "      <td>Married-civ-spouse</td>\n",
       "      <td>Exec-managerial</td>\n",
       "      <td>Wife</td>\n",
       "      <td>White</td>\n",
       "      <td>Female</td>\n",
       "      <td>0</td>\n",
       "      <td>0</td>\n",
       "      <td>40</td>\n",
       "      <td>United-States</td>\n",
       "      <td>&lt;=50K</td>\n",
       "    </tr>\n",
       "    <tr>\n",
       "      <th>6</th>\n",
       "      <td>49</td>\n",
       "      <td>Private</td>\n",
       "      <td>160187</td>\n",
       "      <td>9th</td>\n",
       "      <td>5</td>\n",
       "      <td>Married-spouse-absent</td>\n",
       "      <td>Other-service</td>\n",
       "      <td>Not-in-family</td>\n",
       "      <td>Black</td>\n",
       "      <td>Female</td>\n",
       "      <td>0</td>\n",
       "      <td>0</td>\n",
       "      <td>16</td>\n",
       "      <td>Jamaica</td>\n",
       "      <td>&lt;=50K</td>\n",
       "    </tr>\n",
       "    <tr>\n",
       "      <th>7</th>\n",
       "      <td>52</td>\n",
       "      <td>Self-emp-not-inc</td>\n",
       "      <td>209642</td>\n",
       "      <td>HS-grad</td>\n",
       "      <td>9</td>\n",
       "      <td>Married-civ-spouse</td>\n",
       "      <td>Exec-managerial</td>\n",
       "      <td>Husband</td>\n",
       "      <td>White</td>\n",
       "      <td>Male</td>\n",
       "      <td>0</td>\n",
       "      <td>0</td>\n",
       "      <td>45</td>\n",
       "      <td>United-States</td>\n",
       "      <td>&gt;50K</td>\n",
       "    </tr>\n",
       "    <tr>\n",
       "      <th>8</th>\n",
       "      <td>31</td>\n",
       "      <td>Private</td>\n",
       "      <td>45781</td>\n",
       "      <td>Masters</td>\n",
       "      <td>14</td>\n",
       "      <td>Never-married</td>\n",
       "      <td>Prof-specialty</td>\n",
       "      <td>Not-in-family</td>\n",
       "      <td>White</td>\n",
       "      <td>Female</td>\n",
       "      <td>14084</td>\n",
       "      <td>0</td>\n",
       "      <td>50</td>\n",
       "      <td>United-States</td>\n",
       "      <td>&gt;50K</td>\n",
       "    </tr>\n",
       "    <tr>\n",
       "      <th>9</th>\n",
       "      <td>42</td>\n",
       "      <td>Private</td>\n",
       "      <td>159449</td>\n",
       "      <td>Bachelors</td>\n",
       "      <td>13</td>\n",
       "      <td>Married-civ-spouse</td>\n",
       "      <td>Exec-managerial</td>\n",
       "      <td>Husband</td>\n",
       "      <td>White</td>\n",
       "      <td>Male</td>\n",
       "      <td>5178</td>\n",
       "      <td>0</td>\n",
       "      <td>40</td>\n",
       "      <td>United-States</td>\n",
       "      <td>&gt;50K</td>\n",
       "    </tr>\n",
       "  </tbody>\n",
       "</table>\n",
       "</div>"
      ],
      "text/plain": [
       "   age         workclass  fnlwgt  education  education-num  \\\n",
       "0   39         State-gov   77516  Bachelors             13   \n",
       "1   50  Self-emp-not-inc   83311  Bachelors             13   \n",
       "2   38           Private  215646    HS-grad              9   \n",
       "3   53           Private  234721       11th              7   \n",
       "4   28           Private  338409  Bachelors             13   \n",
       "5   37           Private  284582    Masters             14   \n",
       "6   49           Private  160187        9th              5   \n",
       "7   52  Self-emp-not-inc  209642    HS-grad              9   \n",
       "8   31           Private   45781    Masters             14   \n",
       "9   42           Private  159449  Bachelors             13   \n",
       "\n",
       "          marital-status         occupation   relationship   race     sex  \\\n",
       "0          Never-married       Adm-clerical  Not-in-family  White    Male   \n",
       "1     Married-civ-spouse    Exec-managerial        Husband  White    Male   \n",
       "2               Divorced  Handlers-cleaners  Not-in-family  White    Male   \n",
       "3     Married-civ-spouse  Handlers-cleaners        Husband  Black    Male   \n",
       "4     Married-civ-spouse     Prof-specialty           Wife  Black  Female   \n",
       "5     Married-civ-spouse    Exec-managerial           Wife  White  Female   \n",
       "6  Married-spouse-absent      Other-service  Not-in-family  Black  Female   \n",
       "7     Married-civ-spouse    Exec-managerial        Husband  White    Male   \n",
       "8          Never-married     Prof-specialty  Not-in-family  White  Female   \n",
       "9     Married-civ-spouse    Exec-managerial        Husband  White    Male   \n",
       "\n",
       "   capital-gain  capital-loss  hours-per-week native-country income  \n",
       "0          2174             0              40  United-States  <=50K  \n",
       "1             0             0              13  United-States  <=50K  \n",
       "2             0             0              40  United-States  <=50K  \n",
       "3             0             0              40  United-States  <=50K  \n",
       "4             0             0              40           Cuba  <=50K  \n",
       "5             0             0              40  United-States  <=50K  \n",
       "6             0             0              16        Jamaica  <=50K  \n",
       "7             0             0              45  United-States   >50K  \n",
       "8         14084             0              50  United-States   >50K  \n",
       "9          5178             0              40  United-States   >50K  "
      ]
     },
     "execution_count": 65,
     "metadata": {},
     "output_type": "execute_result"
    }
   ],
   "source": [
    "col_names = [\n",
    "    'age', \n",
    "    'workclass', \n",
    "    'fnlwgt', \n",
    "    'education', \n",
    "    'education-num', \n",
    "    'marital-status', \n",
    "    'occupation', \n",
    "    'relationship',\n",
    "    'race', \n",
    "    'sex', \n",
    "    'capital-gain', \n",
    "    'capital-loss', \n",
    "    'hours-per-week', \n",
    "    'native-country', \n",
    "    'income',\n",
    "]\n",
    "\n",
    "df = pd.read_csv('data/census_income.csv', names=col_names, skipinitialspace=True, na_values=['?'])\n",
    "df.head(10)"
   ]
  },
  {
   "cell_type": "code",
   "execution_count": 66,
   "metadata": {
    "ExecuteTime": {
     "end_time": "2019-03-25T21:34:54.470446Z",
     "start_time": "2019-03-25T21:34:54.459387Z"
    }
   },
   "outputs": [
    {
     "data": {
      "text/plain": [
       "(48842, 15)"
      ]
     },
     "execution_count": 66,
     "metadata": {},
     "output_type": "execute_result"
    }
   ],
   "source": [
    "df.shape"
   ]
  },
  {
   "cell_type": "code",
   "execution_count": 67,
   "metadata": {
    "ExecuteTime": {
     "end_time": "2019-03-25T21:34:54.574548Z",
     "start_time": "2019-03-25T21:34:54.476385Z"
    }
   },
   "outputs": [
    {
     "name": "stdout",
     "output_type": "stream",
     "text": [
      "<class 'pandas.core.frame.DataFrame'>\n",
      "RangeIndex: 48842 entries, 0 to 48841\n",
      "Data columns (total 15 columns):\n",
      "age               48842 non-null int64\n",
      "workclass         46043 non-null object\n",
      "fnlwgt            48842 non-null int64\n",
      "education         48842 non-null object\n",
      "education-num     48842 non-null int64\n",
      "marital-status    48842 non-null object\n",
      "occupation        46033 non-null object\n",
      "relationship      48842 non-null object\n",
      "race              48842 non-null object\n",
      "sex               48842 non-null object\n",
      "capital-gain      48842 non-null int64\n",
      "capital-loss      48842 non-null int64\n",
      "hours-per-week    48842 non-null int64\n",
      "native-country    47985 non-null object\n",
      "income            48842 non-null object\n",
      "dtypes: int64(6), object(9)\n",
      "memory usage: 5.6+ MB\n"
     ]
    }
   ],
   "source": [
    "df.info()"
   ]
  },
  {
   "cell_type": "code",
   "execution_count": 68,
   "metadata": {
    "ExecuteTime": {
     "end_time": "2019-03-25T21:34:54.652547Z",
     "start_time": "2019-03-25T21:34:54.581547Z"
    }
   },
   "outputs": [
    {
     "data": {
      "text/html": [
       "<div>\n",
       "<style scoped>\n",
       "    .dataframe tbody tr th:only-of-type {\n",
       "        vertical-align: middle;\n",
       "    }\n",
       "\n",
       "    .dataframe tbody tr th {\n",
       "        vertical-align: top;\n",
       "    }\n",
       "\n",
       "    .dataframe thead th {\n",
       "        text-align: right;\n",
       "    }\n",
       "</style>\n",
       "<table border=\"1\" class=\"dataframe\">\n",
       "  <thead>\n",
       "    <tr style=\"text-align: right;\">\n",
       "      <th></th>\n",
       "      <th>age</th>\n",
       "      <th>fnlwgt</th>\n",
       "      <th>education-num</th>\n",
       "      <th>capital-gain</th>\n",
       "      <th>capital-loss</th>\n",
       "      <th>hours-per-week</th>\n",
       "    </tr>\n",
       "  </thead>\n",
       "  <tbody>\n",
       "    <tr>\n",
       "      <th>count</th>\n",
       "      <td>48842.000000</td>\n",
       "      <td>4.884200e+04</td>\n",
       "      <td>48842.000000</td>\n",
       "      <td>48842.000000</td>\n",
       "      <td>48842.000000</td>\n",
       "      <td>48842.000000</td>\n",
       "    </tr>\n",
       "    <tr>\n",
       "      <th>mean</th>\n",
       "      <td>38.643585</td>\n",
       "      <td>1.896641e+05</td>\n",
       "      <td>10.078089</td>\n",
       "      <td>1079.067626</td>\n",
       "      <td>87.502314</td>\n",
       "      <td>40.422382</td>\n",
       "    </tr>\n",
       "    <tr>\n",
       "      <th>std</th>\n",
       "      <td>13.710510</td>\n",
       "      <td>1.056040e+05</td>\n",
       "      <td>2.570973</td>\n",
       "      <td>7452.019058</td>\n",
       "      <td>403.004552</td>\n",
       "      <td>12.391444</td>\n",
       "    </tr>\n",
       "    <tr>\n",
       "      <th>min</th>\n",
       "      <td>17.000000</td>\n",
       "      <td>1.228500e+04</td>\n",
       "      <td>1.000000</td>\n",
       "      <td>0.000000</td>\n",
       "      <td>0.000000</td>\n",
       "      <td>1.000000</td>\n",
       "    </tr>\n",
       "    <tr>\n",
       "      <th>25%</th>\n",
       "      <td>28.000000</td>\n",
       "      <td>1.175505e+05</td>\n",
       "      <td>9.000000</td>\n",
       "      <td>0.000000</td>\n",
       "      <td>0.000000</td>\n",
       "      <td>40.000000</td>\n",
       "    </tr>\n",
       "    <tr>\n",
       "      <th>50%</th>\n",
       "      <td>37.000000</td>\n",
       "      <td>1.781445e+05</td>\n",
       "      <td>10.000000</td>\n",
       "      <td>0.000000</td>\n",
       "      <td>0.000000</td>\n",
       "      <td>40.000000</td>\n",
       "    </tr>\n",
       "    <tr>\n",
       "      <th>75%</th>\n",
       "      <td>48.000000</td>\n",
       "      <td>2.376420e+05</td>\n",
       "      <td>12.000000</td>\n",
       "      <td>0.000000</td>\n",
       "      <td>0.000000</td>\n",
       "      <td>45.000000</td>\n",
       "    </tr>\n",
       "    <tr>\n",
       "      <th>max</th>\n",
       "      <td>90.000000</td>\n",
       "      <td>1.490400e+06</td>\n",
       "      <td>16.000000</td>\n",
       "      <td>99999.000000</td>\n",
       "      <td>4356.000000</td>\n",
       "      <td>99.000000</td>\n",
       "    </tr>\n",
       "  </tbody>\n",
       "</table>\n",
       "</div>"
      ],
      "text/plain": [
       "                age        fnlwgt  education-num  capital-gain  capital-loss  \\\n",
       "count  48842.000000  4.884200e+04   48842.000000  48842.000000  48842.000000   \n",
       "mean      38.643585  1.896641e+05      10.078089   1079.067626     87.502314   \n",
       "std       13.710510  1.056040e+05       2.570973   7452.019058    403.004552   \n",
       "min       17.000000  1.228500e+04       1.000000      0.000000      0.000000   \n",
       "25%       28.000000  1.175505e+05       9.000000      0.000000      0.000000   \n",
       "50%       37.000000  1.781445e+05      10.000000      0.000000      0.000000   \n",
       "75%       48.000000  2.376420e+05      12.000000      0.000000      0.000000   \n",
       "max       90.000000  1.490400e+06      16.000000  99999.000000   4356.000000   \n",
       "\n",
       "       hours-per-week  \n",
       "count    48842.000000  \n",
       "mean        40.422382  \n",
       "std         12.391444  \n",
       "min          1.000000  \n",
       "25%         40.000000  \n",
       "50%         40.000000  \n",
       "75%         45.000000  \n",
       "max         99.000000  "
      ]
     },
     "execution_count": 68,
     "metadata": {},
     "output_type": "execute_result"
    }
   ],
   "source": [
    "df.describe()"
   ]
  },
  {
   "cell_type": "markdown",
   "metadata": {},
   "source": [
    "Based on the data description available at https://archive.ics.uci.edu/ml/machine-learning-databases/adult/adult.names, \n",
    "feature 'fnlwgt' does not add any useful information, so it is best to remove.\n",
    "\n",
    "Feature \"education\" is also redundant because \"education-num\" encodes the same information with numerical values."
   ]
  },
  {
   "cell_type": "code",
   "execution_count": 69,
   "metadata": {
    "ExecuteTime": {
     "end_time": "2019-03-25T21:34:54.686545Z",
     "start_time": "2019-03-25T21:34:54.655545Z"
    }
   },
   "outputs": [],
   "source": [
    "df = df.drop('fnlwgt', axis=1)\n",
    "df = df.drop('education', axis=1)\n"
   ]
  },
  {
   "cell_type": "markdown",
   "metadata": {},
   "source": [
    "# Exploratory Data Analysis"
   ]
  },
  {
   "cell_type": "markdown",
   "metadata": {},
   "source": [
    "Check whether numeric features are correlated. Since they are not, all of them bring new relevant information"
   ]
  },
  {
   "cell_type": "code",
   "execution_count": 70,
   "metadata": {
    "ExecuteTime": {
     "end_time": "2019-03-25T21:34:55.190902Z",
     "start_time": "2019-03-25T21:34:54.692951Z"
    }
   },
   "outputs": [
    {
     "data": {
      "image/png": "[encoded data removed]",
      "text/plain": [
       "<Figure size 864x360 with 2 Axes>"
      ]
     },
     "metadata": {
      "needs_background": "light"
     },
     "output_type": "display_data"
    }
   ],
   "source": [
    "plt.figure(figsize=(12,5))\n",
    "sns.heatmap(df.corr(), annot=True, cmap='Blues', linecolor='white', linewidths=1)\n",
    "plt.show()"
   ]
  },
  {
   "cell_type": "markdown",
   "metadata": {},
   "source": [
    "Plot data to understand it, determine whether any features look strongly correlated with high or low income"
   ]
  },
  {
   "cell_type": "code",
   "execution_count": 71,
   "metadata": {
    "ExecuteTime": {
     "end_time": "2019-03-25T21:34:55.780943Z",
     "start_time": "2019-03-25T21:34:55.195871Z"
    }
   },
   "outputs": [
    {
     "data": {
      "image/png": "[encoded data removed]",
      "text/plain": [
       "<Figure size 864x432 with 1 Axes>"
      ]
     },
     "metadata": {
      "needs_background": "light"
     },
     "output_type": "display_data"
    }
   ],
   "source": [
    "plt.figure(figsize=(12,6))\n",
    "sns.countplot(x = df['income'], hue = df['education-num'], palette = 'rainbow', edgecolor = [(0,0,0), (0,0,0)])\n",
    "plt.show()"
   ]
  },
  {
   "cell_type": "code",
   "execution_count": 72,
   "metadata": {
    "ExecuteTime": {
     "end_time": "2019-03-25T21:34:56.067788Z",
     "start_time": "2019-03-25T21:34:55.784819Z"
    },
    "scrolled": true
   },
   "outputs": [
    {
     "data": {
      "image/png": "[encoded data removed]",
      "text/plain": [
       "<Figure size 864x288 with 1 Axes>"
      ]
     },
     "metadata": {
      "needs_background": "light"
     },
     "output_type": "display_data"
    }
   ],
   "source": [
    "plt.figure(figsize=(12,4))\n",
    "sns.countplot(y = df['income'], hue = df['sex'], palette = 'Set1', edgecolor = [(0,0,0), (0,0,0)])\n",
    "plt.show()"
   ]
  },
  {
   "cell_type": "code",
   "execution_count": 73,
   "metadata": {
    "ExecuteTime": {
     "end_time": "2019-03-25T21:34:56.481016Z",
     "start_time": "2019-03-25T21:34:56.070854Z"
    }
   },
   "outputs": [
    {
     "data": {
      "image/png": "[encoded data removed]",
      "text/plain": [
       "<Figure size 864x288 with 1 Axes>"
      ]
     },
     "metadata": {
      "needs_background": "light"
     },
     "output_type": "display_data"
    }
   ],
   "source": [
    "plt.figure(figsize=(12,4))\n",
    "sns.countplot(y = df['income'], hue = df['marital-status'], palette = 'Set1', edgecolor = [(0,0,0), (0,0,0)])\n",
    "plt.show()"
   ]
  },
  {
   "cell_type": "code",
   "execution_count": 74,
   "metadata": {
    "ExecuteTime": {
     "end_time": "2019-03-25T21:34:56.888640Z",
     "start_time": "2019-03-25T21:34:56.484928Z"
    }
   },
   "outputs": [
    {
     "data": {
      "image/png": "[encoded data removed]",
      "text/plain": [
       "<Figure size 864x288 with 1 Axes>"
      ]
     },
     "metadata": {
      "needs_background": "light"
     },
     "output_type": "display_data"
    }
   ],
   "source": [
    "plt.figure(figsize=(12,4))\n",
    "sns.countplot(y = df['income'], hue = df['relationship'], palette = 'Set1', edgecolor = [(0,0,0), (0,0,0)])\n",
    "plt.show()"
   ]
  },
  {
   "cell_type": "code",
   "execution_count": 75,
   "metadata": {
    "ExecuteTime": {
     "end_time": "2019-03-25T21:34:57.496356Z",
     "start_time": "2019-03-25T21:34:56.892634Z"
    }
   },
   "outputs": [
    {
     "data": {
      "image/png": "[encoded data removed]",
      "text/plain": [
       "<Figure size 864x432 with 1 Axes>"
      ]
     },
     "metadata": {
      "needs_background": "light"
     },
     "output_type": "display_data"
    }
   ],
   "source": [
    "plt.figure(figsize=(12,6))\n",
    "sns.countplot(y = df['income'], hue = df['occupation'], palette = 'tab20', edgecolor = [(0,0,0), (0,0,0)])\n",
    "plt.show()"
   ]
  },
  {
   "cell_type": "code",
   "execution_count": 76,
   "metadata": {
    "ExecuteTime": {
     "end_time": "2019-03-25T21:34:57.871898Z",
     "start_time": "2019-03-25T21:34:57.501356Z"
    }
   },
   "outputs": [
    {
     "data": {
      "image/png": "[encoded data removed]",
      "text/plain": [
       "<Figure size 864x288 with 1 Axes>"
      ]
     },
     "metadata": {
      "needs_background": "light"
     },
     "output_type": "display_data"
    }
   ],
   "source": [
    "plt.figure(figsize=(12,4))\n",
    "sns.countplot(y = df['income'], hue = df['race'], palette = 'Set1', edgecolor = [(0,0,0), (0,0,0)])\n",
    "plt.show()"
   ]
  },
  {
   "cell_type": "code",
   "execution_count": 77,
   "metadata": {
    "ExecuteTime": {
     "end_time": "2019-03-25T21:34:58.297340Z",
     "start_time": "2019-03-25T21:34:57.874884Z"
    }
   },
   "outputs": [
    {
     "data": {
      "image/png": "[encoded data removed]",
      "text/plain": [
       "<Figure size 864x360 with 1 Axes>"
      ]
     },
     "metadata": {
      "needs_background": "light"
     },
     "output_type": "display_data"
    }
   ],
   "source": [
    "plt.figure(figsize=(12,5))\n",
    "sns.countplot(y = df['income'], hue = df['workclass'], palette = 'Set1', edgecolor = [(0,0,0), (0,0,0)])\n",
    "plt.show()"
   ]
  },
  {
   "cell_type": "code",
   "execution_count": 78,
   "metadata": {
    "ExecuteTime": {
     "end_time": "2019-03-25T21:34:58.797319Z",
     "start_time": "2019-03-25T21:34:58.300334Z"
    }
   },
   "outputs": [
    {
     "data": {
      "image/png": "[encoded data removed]",
      "text/plain": [
       "<Figure size 864x432 with 1 Axes>"
      ]
     },
     "metadata": {
      "needs_background": "light"
     },
     "output_type": "display_data"
    }
   ],
   "source": [
    "plt.figure(figsize=(12, 6))\n",
    "sns.boxenplot(x='income', y='age', data=df, hue='sex', palette = 'prism')\n",
    "plt.show()"
   ]
  },
  {
   "cell_type": "markdown",
   "metadata": {},
   "source": [
    "# Dealing with NULLs"
   ]
  },
  {
   "cell_type": "code",
   "execution_count": 79,
   "metadata": {
    "ExecuteTime": {
     "end_time": "2019-03-25T21:34:58.866514Z",
     "start_time": "2019-03-25T21:34:58.801317Z"
    }
   },
   "outputs": [
    {
     "name": "stdout",
     "output_type": "stream",
     "text": [
      "<class 'pandas.core.frame.DataFrame'>\n",
      "RangeIndex: 48842 entries, 0 to 48841\n",
      "Data columns (total 13 columns):\n",
      "age               48842 non-null int64\n",
      "workclass         46043 non-null object\n",
      "education-num     48842 non-null int64\n",
      "marital-status    48842 non-null object\n",
      "occupation        46033 non-null object\n",
      "relationship      48842 non-null object\n",
      "race              48842 non-null object\n",
      "sex               48842 non-null object\n",
      "capital-gain      48842 non-null int64\n",
      "capital-loss      48842 non-null int64\n",
      "hours-per-week    48842 non-null int64\n",
      "native-country    47985 non-null object\n",
      "income            48842 non-null object\n",
      "dtypes: int64(5), object(8)\n",
      "memory usage: 4.8+ MB\n"
     ]
    }
   ],
   "source": [
    "df.info()"
   ]
  },
  {
   "cell_type": "code",
   "execution_count": 80,
   "metadata": {
    "ExecuteTime": {
     "end_time": "2019-03-25T21:34:58.992113Z",
     "start_time": "2019-03-25T21:34:58.871848Z"
    }
   },
   "outputs": [
    {
     "data": {
      "text/html": [
       "<div>\n",
       "<style scoped>\n",
       "    .dataframe tbody tr th:only-of-type {\n",
       "        vertical-align: middle;\n",
       "    }\n",
       "\n",
       "    .dataframe tbody tr th {\n",
       "        vertical-align: top;\n",
       "    }\n",
       "\n",
       "    .dataframe thead th {\n",
       "        text-align: right;\n",
       "    }\n",
       "</style>\n",
       "<table border=\"1\" class=\"dataframe\">\n",
       "  <thead>\n",
       "    <tr style=\"text-align: right;\">\n",
       "      <th></th>\n",
       "      <th>age</th>\n",
       "      <th>workclass</th>\n",
       "      <th>education-num</th>\n",
       "      <th>marital-status</th>\n",
       "      <th>occupation</th>\n",
       "      <th>relationship</th>\n",
       "      <th>race</th>\n",
       "      <th>sex</th>\n",
       "      <th>capital-gain</th>\n",
       "      <th>capital-loss</th>\n",
       "      <th>hours-per-week</th>\n",
       "      <th>native-country</th>\n",
       "      <th>income</th>\n",
       "    </tr>\n",
       "  </thead>\n",
       "  <tbody>\n",
       "    <tr>\n",
       "      <th>14</th>\n",
       "      <td>40</td>\n",
       "      <td>Private</td>\n",
       "      <td>11</td>\n",
       "      <td>Married-civ-spouse</td>\n",
       "      <td>Craft-repair</td>\n",
       "      <td>Husband</td>\n",
       "      <td>Asian-Pac-Islander</td>\n",
       "      <td>Male</td>\n",
       "      <td>0</td>\n",
       "      <td>0</td>\n",
       "      <td>40</td>\n",
       "      <td>NaN</td>\n",
       "      <td>&gt;50K</td>\n",
       "    </tr>\n",
       "    <tr>\n",
       "      <th>27</th>\n",
       "      <td>54</td>\n",
       "      <td>NaN</td>\n",
       "      <td>10</td>\n",
       "      <td>Married-civ-spouse</td>\n",
       "      <td>NaN</td>\n",
       "      <td>Husband</td>\n",
       "      <td>Asian-Pac-Islander</td>\n",
       "      <td>Male</td>\n",
       "      <td>0</td>\n",
       "      <td>0</td>\n",
       "      <td>60</td>\n",
       "      <td>South</td>\n",
       "      <td>&gt;50K</td>\n",
       "    </tr>\n",
       "    <tr>\n",
       "      <th>38</th>\n",
       "      <td>31</td>\n",
       "      <td>Private</td>\n",
       "      <td>10</td>\n",
       "      <td>Married-civ-spouse</td>\n",
       "      <td>Sales</td>\n",
       "      <td>Husband</td>\n",
       "      <td>White</td>\n",
       "      <td>Male</td>\n",
       "      <td>0</td>\n",
       "      <td>0</td>\n",
       "      <td>38</td>\n",
       "      <td>NaN</td>\n",
       "      <td>&gt;50K</td>\n",
       "    </tr>\n",
       "    <tr>\n",
       "      <th>51</th>\n",
       "      <td>18</td>\n",
       "      <td>Private</td>\n",
       "      <td>9</td>\n",
       "      <td>Never-married</td>\n",
       "      <td>Other-service</td>\n",
       "      <td>Own-child</td>\n",
       "      <td>White</td>\n",
       "      <td>Female</td>\n",
       "      <td>0</td>\n",
       "      <td>0</td>\n",
       "      <td>30</td>\n",
       "      <td>NaN</td>\n",
       "      <td>&lt;=50K</td>\n",
       "    </tr>\n",
       "    <tr>\n",
       "      <th>61</th>\n",
       "      <td>32</td>\n",
       "      <td>NaN</td>\n",
       "      <td>4</td>\n",
       "      <td>Married-spouse-absent</td>\n",
       "      <td>NaN</td>\n",
       "      <td>Not-in-family</td>\n",
       "      <td>White</td>\n",
       "      <td>Male</td>\n",
       "      <td>0</td>\n",
       "      <td>0</td>\n",
       "      <td>40</td>\n",
       "      <td>NaN</td>\n",
       "      <td>&lt;=50K</td>\n",
       "    </tr>\n",
       "    <tr>\n",
       "      <th>69</th>\n",
       "      <td>25</td>\n",
       "      <td>NaN</td>\n",
       "      <td>10</td>\n",
       "      <td>Never-married</td>\n",
       "      <td>NaN</td>\n",
       "      <td>Own-child</td>\n",
       "      <td>White</td>\n",
       "      <td>Male</td>\n",
       "      <td>0</td>\n",
       "      <td>0</td>\n",
       "      <td>40</td>\n",
       "      <td>United-States</td>\n",
       "      <td>&lt;=50K</td>\n",
       "    </tr>\n",
       "    <tr>\n",
       "      <th>77</th>\n",
       "      <td>67</td>\n",
       "      <td>NaN</td>\n",
       "      <td>6</td>\n",
       "      <td>Married-civ-spouse</td>\n",
       "      <td>NaN</td>\n",
       "      <td>Husband</td>\n",
       "      <td>White</td>\n",
       "      <td>Male</td>\n",
       "      <td>0</td>\n",
       "      <td>0</td>\n",
       "      <td>2</td>\n",
       "      <td>United-States</td>\n",
       "      <td>&lt;=50K</td>\n",
       "    </tr>\n",
       "    <tr>\n",
       "      <th>93</th>\n",
       "      <td>30</td>\n",
       "      <td>Private</td>\n",
       "      <td>9</td>\n",
       "      <td>Married-civ-spouse</td>\n",
       "      <td>Sales</td>\n",
       "      <td>Wife</td>\n",
       "      <td>Asian-Pac-Islander</td>\n",
       "      <td>Female</td>\n",
       "      <td>0</td>\n",
       "      <td>1573</td>\n",
       "      <td>35</td>\n",
       "      <td>NaN</td>\n",
       "      <td>&lt;=50K</td>\n",
       "    </tr>\n",
       "    <tr>\n",
       "      <th>106</th>\n",
       "      <td>17</td>\n",
       "      <td>NaN</td>\n",
       "      <td>6</td>\n",
       "      <td>Never-married</td>\n",
       "      <td>NaN</td>\n",
       "      <td>Own-child</td>\n",
       "      <td>White</td>\n",
       "      <td>Female</td>\n",
       "      <td>34095</td>\n",
       "      <td>0</td>\n",
       "      <td>32</td>\n",
       "      <td>United-States</td>\n",
       "      <td>&lt;=50K</td>\n",
       "    </tr>\n",
       "    <tr>\n",
       "      <th>128</th>\n",
       "      <td>35</td>\n",
       "      <td>NaN</td>\n",
       "      <td>9</td>\n",
       "      <td>Married-civ-spouse</td>\n",
       "      <td>NaN</td>\n",
       "      <td>Husband</td>\n",
       "      <td>White</td>\n",
       "      <td>Male</td>\n",
       "      <td>0</td>\n",
       "      <td>0</td>\n",
       "      <td>40</td>\n",
       "      <td>United-States</td>\n",
       "      <td>&lt;=50K</td>\n",
       "    </tr>\n",
       "    <tr>\n",
       "      <th>149</th>\n",
       "      <td>43</td>\n",
       "      <td>NaN</td>\n",
       "      <td>10</td>\n",
       "      <td>Divorced</td>\n",
       "      <td>NaN</td>\n",
       "      <td>Not-in-family</td>\n",
       "      <td>White</td>\n",
       "      <td>Female</td>\n",
       "      <td>0</td>\n",
       "      <td>0</td>\n",
       "      <td>40</td>\n",
       "      <td>United-States</td>\n",
       "      <td>&lt;=50K</td>\n",
       "    </tr>\n",
       "    <tr>\n",
       "      <th>154</th>\n",
       "      <td>52</td>\n",
       "      <td>NaN</td>\n",
       "      <td>9</td>\n",
       "      <td>Divorced</td>\n",
       "      <td>NaN</td>\n",
       "      <td>Not-in-family</td>\n",
       "      <td>White</td>\n",
       "      <td>Male</td>\n",
       "      <td>0</td>\n",
       "      <td>0</td>\n",
       "      <td>45</td>\n",
       "      <td>United-States</td>\n",
       "      <td>&gt;50K</td>\n",
       "    </tr>\n",
       "    <tr>\n",
       "      <th>160</th>\n",
       "      <td>68</td>\n",
       "      <td>NaN</td>\n",
       "      <td>2</td>\n",
       "      <td>Divorced</td>\n",
       "      <td>NaN</td>\n",
       "      <td>Not-in-family</td>\n",
       "      <td>White</td>\n",
       "      <td>Female</td>\n",
       "      <td>0</td>\n",
       "      <td>0</td>\n",
       "      <td>20</td>\n",
       "      <td>United-States</td>\n",
       "      <td>&lt;=50K</td>\n",
       "    </tr>\n",
       "    <tr>\n",
       "      <th>187</th>\n",
       "      <td>53</td>\n",
       "      <td>NaN</td>\n",
       "      <td>13</td>\n",
       "      <td>Divorced</td>\n",
       "      <td>NaN</td>\n",
       "      <td>Not-in-family</td>\n",
       "      <td>White</td>\n",
       "      <td>Female</td>\n",
       "      <td>0</td>\n",
       "      <td>0</td>\n",
       "      <td>50</td>\n",
       "      <td>United-States</td>\n",
       "      <td>&lt;=50K</td>\n",
       "    </tr>\n",
       "    <tr>\n",
       "      <th>201</th>\n",
       "      <td>19</td>\n",
       "      <td>NaN</td>\n",
       "      <td>9</td>\n",
       "      <td>Never-married</td>\n",
       "      <td>NaN</td>\n",
       "      <td>Own-child</td>\n",
       "      <td>White</td>\n",
       "      <td>Male</td>\n",
       "      <td>0</td>\n",
       "      <td>0</td>\n",
       "      <td>40</td>\n",
       "      <td>Italy</td>\n",
       "      <td>&lt;=50K</td>\n",
       "    </tr>\n",
       "    <tr>\n",
       "      <th>221</th>\n",
       "      <td>64</td>\n",
       "      <td>NaN</td>\n",
       "      <td>2</td>\n",
       "      <td>Divorced</td>\n",
       "      <td>NaN</td>\n",
       "      <td>Not-in-family</td>\n",
       "      <td>White</td>\n",
       "      <td>Male</td>\n",
       "      <td>0</td>\n",
       "      <td>0</td>\n",
       "      <td>40</td>\n",
       "      <td>United-States</td>\n",
       "      <td>&lt;=50K</td>\n",
       "    </tr>\n",
       "    <tr>\n",
       "      <th>226</th>\n",
       "      <td>60</td>\n",
       "      <td>NaN</td>\n",
       "      <td>6</td>\n",
       "      <td>Divorced</td>\n",
       "      <td>NaN</td>\n",
       "      <td>Not-in-family</td>\n",
       "      <td>Amer-Indian-Eskimo</td>\n",
       "      <td>Female</td>\n",
       "      <td>0</td>\n",
       "      <td>0</td>\n",
       "      <td>10</td>\n",
       "      <td>United-States</td>\n",
       "      <td>&lt;=50K</td>\n",
       "    </tr>\n",
       "    <tr>\n",
       "      <th>243</th>\n",
       "      <td>20</td>\n",
       "      <td>NaN</td>\n",
       "      <td>10</td>\n",
       "      <td>Never-married</td>\n",
       "      <td>NaN</td>\n",
       "      <td>Own-child</td>\n",
       "      <td>White</td>\n",
       "      <td>Male</td>\n",
       "      <td>0</td>\n",
       "      <td>0</td>\n",
       "      <td>20</td>\n",
       "      <td>United-States</td>\n",
       "      <td>&lt;=50K</td>\n",
       "    </tr>\n",
       "    <tr>\n",
       "      <th>245</th>\n",
       "      <td>56</td>\n",
       "      <td>Private</td>\n",
       "      <td>9</td>\n",
       "      <td>Married-civ-spouse</td>\n",
       "      <td>Adm-clerical</td>\n",
       "      <td>Husband</td>\n",
       "      <td>White</td>\n",
       "      <td>Male</td>\n",
       "      <td>0</td>\n",
       "      <td>0</td>\n",
       "      <td>35</td>\n",
       "      <td>NaN</td>\n",
       "      <td>&lt;=50K</td>\n",
       "    </tr>\n",
       "    <tr>\n",
       "      <th>249</th>\n",
       "      <td>45</td>\n",
       "      <td>Private</td>\n",
       "      <td>9</td>\n",
       "      <td>Married-civ-spouse</td>\n",
       "      <td>Adm-clerical</td>\n",
       "      <td>Husband</td>\n",
       "      <td>White</td>\n",
       "      <td>Male</td>\n",
       "      <td>0</td>\n",
       "      <td>0</td>\n",
       "      <td>40</td>\n",
       "      <td>NaN</td>\n",
       "      <td>&lt;=50K</td>\n",
       "    </tr>\n",
       "    <tr>\n",
       "      <th>266</th>\n",
       "      <td>19</td>\n",
       "      <td>NaN</td>\n",
       "      <td>10</td>\n",
       "      <td>Never-married</td>\n",
       "      <td>NaN</td>\n",
       "      <td>Own-child</td>\n",
       "      <td>White</td>\n",
       "      <td>Male</td>\n",
       "      <td>0</td>\n",
       "      <td>0</td>\n",
       "      <td>24</td>\n",
       "      <td>Canada</td>\n",
       "      <td>&lt;=50K</td>\n",
       "    </tr>\n",
       "    <tr>\n",
       "      <th>297</th>\n",
       "      <td>39</td>\n",
       "      <td>NaN</td>\n",
       "      <td>14</td>\n",
       "      <td>Married-civ-spouse</td>\n",
       "      <td>NaN</td>\n",
       "      <td>Wife</td>\n",
       "      <td>Asian-Pac-Islander</td>\n",
       "      <td>Female</td>\n",
       "      <td>3464</td>\n",
       "      <td>0</td>\n",
       "      <td>40</td>\n",
       "      <td>NaN</td>\n",
       "      <td>&lt;=50K</td>\n",
       "    </tr>\n",
       "    <tr>\n",
       "      <th>312</th>\n",
       "      <td>19</td>\n",
       "      <td>NaN</td>\n",
       "      <td>10</td>\n",
       "      <td>Never-married</td>\n",
       "      <td>NaN</td>\n",
       "      <td>Own-child</td>\n",
       "      <td>Black</td>\n",
       "      <td>Female</td>\n",
       "      <td>0</td>\n",
       "      <td>0</td>\n",
       "      <td>25</td>\n",
       "      <td>United-States</td>\n",
       "      <td>&lt;=50K</td>\n",
       "    </tr>\n",
       "    <tr>\n",
       "      <th>326</th>\n",
       "      <td>23</td>\n",
       "      <td>NaN</td>\n",
       "      <td>11</td>\n",
       "      <td>Never-married</td>\n",
       "      <td>NaN</td>\n",
       "      <td>Own-child</td>\n",
       "      <td>Black</td>\n",
       "      <td>Female</td>\n",
       "      <td>0</td>\n",
       "      <td>0</td>\n",
       "      <td>15</td>\n",
       "      <td>United-States</td>\n",
       "      <td>&lt;=50K</td>\n",
       "    </tr>\n",
       "    <tr>\n",
       "      <th>346</th>\n",
       "      <td>67</td>\n",
       "      <td>NaN</td>\n",
       "      <td>7</td>\n",
       "      <td>Married-civ-spouse</td>\n",
       "      <td>NaN</td>\n",
       "      <td>Husband</td>\n",
       "      <td>White</td>\n",
       "      <td>Male</td>\n",
       "      <td>0</td>\n",
       "      <td>0</td>\n",
       "      <td>8</td>\n",
       "      <td>United-States</td>\n",
       "      <td>&lt;=50K</td>\n",
       "    </tr>\n",
       "    <tr>\n",
       "      <th>347</th>\n",
       "      <td>30</td>\n",
       "      <td>NaN</td>\n",
       "      <td>11</td>\n",
       "      <td>Divorced</td>\n",
       "      <td>NaN</td>\n",
       "      <td>Unmarried</td>\n",
       "      <td>White</td>\n",
       "      <td>Female</td>\n",
       "      <td>0</td>\n",
       "      <td>0</td>\n",
       "      <td>40</td>\n",
       "      <td>United-States</td>\n",
       "      <td>&lt;=50K</td>\n",
       "    </tr>\n",
       "    <tr>\n",
       "      <th>354</th>\n",
       "      <td>59</td>\n",
       "      <td>NaN</td>\n",
       "      <td>13</td>\n",
       "      <td>Married-civ-spouse</td>\n",
       "      <td>NaN</td>\n",
       "      <td>Husband</td>\n",
       "      <td>White</td>\n",
       "      <td>Male</td>\n",
       "      <td>0</td>\n",
       "      <td>0</td>\n",
       "      <td>40</td>\n",
       "      <td>United-States</td>\n",
       "      <td>&gt;50K</td>\n",
       "    </tr>\n",
       "    <tr>\n",
       "      <th>393</th>\n",
       "      <td>34</td>\n",
       "      <td>State-gov</td>\n",
       "      <td>13</td>\n",
       "      <td>Married-civ-spouse</td>\n",
       "      <td>Exec-managerial</td>\n",
       "      <td>Husband</td>\n",
       "      <td>White</td>\n",
       "      <td>Male</td>\n",
       "      <td>7688</td>\n",
       "      <td>0</td>\n",
       "      <td>45</td>\n",
       "      <td>NaN</td>\n",
       "      <td>&gt;50K</td>\n",
       "    </tr>\n",
       "    <tr>\n",
       "      <th>397</th>\n",
       "      <td>20</td>\n",
       "      <td>NaN</td>\n",
       "      <td>9</td>\n",
       "      <td>Never-married</td>\n",
       "      <td>NaN</td>\n",
       "      <td>Other-relative</td>\n",
       "      <td>White</td>\n",
       "      <td>Female</td>\n",
       "      <td>0</td>\n",
       "      <td>0</td>\n",
       "      <td>35</td>\n",
       "      <td>United-States</td>\n",
       "      <td>&lt;=50K</td>\n",
       "    </tr>\n",
       "    <tr>\n",
       "      <th>408</th>\n",
       "      <td>28</td>\n",
       "      <td>NaN</td>\n",
       "      <td>10</td>\n",
       "      <td>Married-civ-spouse</td>\n",
       "      <td>NaN</td>\n",
       "      <td>Wife</td>\n",
       "      <td>White</td>\n",
       "      <td>Female</td>\n",
       "      <td>0</td>\n",
       "      <td>1887</td>\n",
       "      <td>40</td>\n",
       "      <td>United-States</td>\n",
       "      <td>&gt;50K</td>\n",
       "    </tr>\n",
       "    <tr>\n",
       "      <th>...</th>\n",
       "      <td>...</td>\n",
       "      <td>...</td>\n",
       "      <td>...</td>\n",
       "      <td>...</td>\n",
       "      <td>...</td>\n",
       "      <td>...</td>\n",
       "      <td>...</td>\n",
       "      <td>...</td>\n",
       "      <td>...</td>\n",
       "      <td>...</td>\n",
       "      <td>...</td>\n",
       "      <td>...</td>\n",
       "      <td>...</td>\n",
       "    </tr>\n",
       "    <tr>\n",
       "      <th>48407</th>\n",
       "      <td>17</td>\n",
       "      <td>NaN</td>\n",
       "      <td>8</td>\n",
       "      <td>Never-married</td>\n",
       "      <td>NaN</td>\n",
       "      <td>Own-child</td>\n",
       "      <td>White</td>\n",
       "      <td>Male</td>\n",
       "      <td>0</td>\n",
       "      <td>0</td>\n",
       "      <td>30</td>\n",
       "      <td>United-States</td>\n",
       "      <td>&lt;=50K</td>\n",
       "    </tr>\n",
       "    <tr>\n",
       "      <th>48412</th>\n",
       "      <td>26</td>\n",
       "      <td>NaN</td>\n",
       "      <td>9</td>\n",
       "      <td>Divorced</td>\n",
       "      <td>NaN</td>\n",
       "      <td>Not-in-family</td>\n",
       "      <td>White</td>\n",
       "      <td>Female</td>\n",
       "      <td>0</td>\n",
       "      <td>0</td>\n",
       "      <td>15</td>\n",
       "      <td>United-States</td>\n",
       "      <td>&lt;=50K</td>\n",
       "    </tr>\n",
       "    <tr>\n",
       "      <th>48417</th>\n",
       "      <td>57</td>\n",
       "      <td>NaN</td>\n",
       "      <td>13</td>\n",
       "      <td>Never-married</td>\n",
       "      <td>NaN</td>\n",
       "      <td>Not-in-family</td>\n",
       "      <td>Black</td>\n",
       "      <td>Female</td>\n",
       "      <td>0</td>\n",
       "      <td>0</td>\n",
       "      <td>35</td>\n",
       "      <td>United-States</td>\n",
       "      <td>&lt;=50K</td>\n",
       "    </tr>\n",
       "    <tr>\n",
       "      <th>48422</th>\n",
       "      <td>39</td>\n",
       "      <td>NaN</td>\n",
       "      <td>13</td>\n",
       "      <td>Divorced</td>\n",
       "      <td>NaN</td>\n",
       "      <td>Own-child</td>\n",
       "      <td>Black</td>\n",
       "      <td>Female</td>\n",
       "      <td>0</td>\n",
       "      <td>0</td>\n",
       "      <td>40</td>\n",
       "      <td>United-States</td>\n",
       "      <td>&lt;=50K</td>\n",
       "    </tr>\n",
       "    <tr>\n",
       "      <th>48425</th>\n",
       "      <td>39</td>\n",
       "      <td>NaN</td>\n",
       "      <td>9</td>\n",
       "      <td>Divorced</td>\n",
       "      <td>NaN</td>\n",
       "      <td>Unmarried</td>\n",
       "      <td>White</td>\n",
       "      <td>Female</td>\n",
       "      <td>0</td>\n",
       "      <td>0</td>\n",
       "      <td>16</td>\n",
       "      <td>United-States</td>\n",
       "      <td>&lt;=50K</td>\n",
       "    </tr>\n",
       "    <tr>\n",
       "      <th>48437</th>\n",
       "      <td>17</td>\n",
       "      <td>NaN</td>\n",
       "      <td>4</td>\n",
       "      <td>Never-married</td>\n",
       "      <td>NaN</td>\n",
       "      <td>Own-child</td>\n",
       "      <td>White</td>\n",
       "      <td>Female</td>\n",
       "      <td>0</td>\n",
       "      <td>0</td>\n",
       "      <td>15</td>\n",
       "      <td>United-States</td>\n",
       "      <td>&lt;=50K</td>\n",
       "    </tr>\n",
       "    <tr>\n",
       "      <th>48440</th>\n",
       "      <td>18</td>\n",
       "      <td>NaN</td>\n",
       "      <td>8</td>\n",
       "      <td>Never-married</td>\n",
       "      <td>NaN</td>\n",
       "      <td>Own-child</td>\n",
       "      <td>White</td>\n",
       "      <td>Male</td>\n",
       "      <td>0</td>\n",
       "      <td>0</td>\n",
       "      <td>10</td>\n",
       "      <td>United-States</td>\n",
       "      <td>&lt;=50K</td>\n",
       "    </tr>\n",
       "    <tr>\n",
       "      <th>48470</th>\n",
       "      <td>41</td>\n",
       "      <td>NaN</td>\n",
       "      <td>12</td>\n",
       "      <td>Married-civ-spouse</td>\n",
       "      <td>NaN</td>\n",
       "      <td>Husband</td>\n",
       "      <td>White</td>\n",
       "      <td>Male</td>\n",
       "      <td>0</td>\n",
       "      <td>0</td>\n",
       "      <td>99</td>\n",
       "      <td>United-States</td>\n",
       "      <td>&lt;=50K</td>\n",
       "    </tr>\n",
       "    <tr>\n",
       "      <th>48473</th>\n",
       "      <td>68</td>\n",
       "      <td>NaN</td>\n",
       "      <td>10</td>\n",
       "      <td>Married-civ-spouse</td>\n",
       "      <td>NaN</td>\n",
       "      <td>Husband</td>\n",
       "      <td>White</td>\n",
       "      <td>Male</td>\n",
       "      <td>0</td>\n",
       "      <td>1648</td>\n",
       "      <td>10</td>\n",
       "      <td>United-States</td>\n",
       "      <td>&gt;50K</td>\n",
       "    </tr>\n",
       "    <tr>\n",
       "      <th>48477</th>\n",
       "      <td>24</td>\n",
       "      <td>NaN</td>\n",
       "      <td>4</td>\n",
       "      <td>Never-married</td>\n",
       "      <td>NaN</td>\n",
       "      <td>Not-in-family</td>\n",
       "      <td>White</td>\n",
       "      <td>Female</td>\n",
       "      <td>0</td>\n",
       "      <td>0</td>\n",
       "      <td>25</td>\n",
       "      <td>United-States</td>\n",
       "      <td>&lt;=50K</td>\n",
       "    </tr>\n",
       "    <tr>\n",
       "      <th>48483</th>\n",
       "      <td>19</td>\n",
       "      <td>NaN</td>\n",
       "      <td>9</td>\n",
       "      <td>Never-married</td>\n",
       "      <td>NaN</td>\n",
       "      <td>Own-child</td>\n",
       "      <td>White</td>\n",
       "      <td>Male</td>\n",
       "      <td>0</td>\n",
       "      <td>0</td>\n",
       "      <td>40</td>\n",
       "      <td>United-States</td>\n",
       "      <td>&lt;=50K</td>\n",
       "    </tr>\n",
       "    <tr>\n",
       "      <th>48485</th>\n",
       "      <td>17</td>\n",
       "      <td>NaN</td>\n",
       "      <td>9</td>\n",
       "      <td>Never-married</td>\n",
       "      <td>NaN</td>\n",
       "      <td>Own-child</td>\n",
       "      <td>White</td>\n",
       "      <td>Male</td>\n",
       "      <td>0</td>\n",
       "      <td>0</td>\n",
       "      <td>14</td>\n",
       "      <td>United-States</td>\n",
       "      <td>&lt;=50K</td>\n",
       "    </tr>\n",
       "    <tr>\n",
       "      <th>48513</th>\n",
       "      <td>58</td>\n",
       "      <td>NaN</td>\n",
       "      <td>7</td>\n",
       "      <td>Divorced</td>\n",
       "      <td>NaN</td>\n",
       "      <td>Unmarried</td>\n",
       "      <td>Black</td>\n",
       "      <td>Female</td>\n",
       "      <td>0</td>\n",
       "      <td>0</td>\n",
       "      <td>32</td>\n",
       "      <td>United-States</td>\n",
       "      <td>&lt;=50K</td>\n",
       "    </tr>\n",
       "    <tr>\n",
       "      <th>48544</th>\n",
       "      <td>18</td>\n",
       "      <td>NaN</td>\n",
       "      <td>9</td>\n",
       "      <td>Never-married</td>\n",
       "      <td>NaN</td>\n",
       "      <td>Own-child</td>\n",
       "      <td>White</td>\n",
       "      <td>Male</td>\n",
       "      <td>0</td>\n",
       "      <td>0</td>\n",
       "      <td>15</td>\n",
       "      <td>United-States</td>\n",
       "      <td>&lt;=50K</td>\n",
       "    </tr>\n",
       "    <tr>\n",
       "      <th>48549</th>\n",
       "      <td>20</td>\n",
       "      <td>NaN</td>\n",
       "      <td>9</td>\n",
       "      <td>Never-married</td>\n",
       "      <td>NaN</td>\n",
       "      <td>Not-in-family</td>\n",
       "      <td>White</td>\n",
       "      <td>Female</td>\n",
       "      <td>0</td>\n",
       "      <td>0</td>\n",
       "      <td>40</td>\n",
       "      <td>United-States</td>\n",
       "      <td>&lt;=50K</td>\n",
       "    </tr>\n",
       "    <tr>\n",
       "      <th>48553</th>\n",
       "      <td>22</td>\n",
       "      <td>NaN</td>\n",
       "      <td>10</td>\n",
       "      <td>Never-married</td>\n",
       "      <td>NaN</td>\n",
       "      <td>Not-in-family</td>\n",
       "      <td>White</td>\n",
       "      <td>Female</td>\n",
       "      <td>0</td>\n",
       "      <td>1974</td>\n",
       "      <td>40</td>\n",
       "      <td>United-States</td>\n",
       "      <td>&lt;=50K</td>\n",
       "    </tr>\n",
       "    <tr>\n",
       "      <th>48562</th>\n",
       "      <td>18</td>\n",
       "      <td>NaN</td>\n",
       "      <td>10</td>\n",
       "      <td>Never-married</td>\n",
       "      <td>NaN</td>\n",
       "      <td>Not-in-family</td>\n",
       "      <td>Asian-Pac-Islander</td>\n",
       "      <td>Female</td>\n",
       "      <td>0</td>\n",
       "      <td>0</td>\n",
       "      <td>16</td>\n",
       "      <td>United-States</td>\n",
       "      <td>&lt;=50K</td>\n",
       "    </tr>\n",
       "    <tr>\n",
       "      <th>48567</th>\n",
       "      <td>76</td>\n",
       "      <td>NaN</td>\n",
       "      <td>9</td>\n",
       "      <td>Divorced</td>\n",
       "      <td>NaN</td>\n",
       "      <td>Not-in-family</td>\n",
       "      <td>White</td>\n",
       "      <td>Female</td>\n",
       "      <td>0</td>\n",
       "      <td>0</td>\n",
       "      <td>3</td>\n",
       "      <td>United-States</td>\n",
       "      <td>&lt;=50K</td>\n",
       "    </tr>\n",
       "    <tr>\n",
       "      <th>48579</th>\n",
       "      <td>21</td>\n",
       "      <td>NaN</td>\n",
       "      <td>10</td>\n",
       "      <td>Never-married</td>\n",
       "      <td>NaN</td>\n",
       "      <td>Own-child</td>\n",
       "      <td>White</td>\n",
       "      <td>Female</td>\n",
       "      <td>0</td>\n",
       "      <td>0</td>\n",
       "      <td>38</td>\n",
       "      <td>United-States</td>\n",
       "      <td>&lt;=50K</td>\n",
       "    </tr>\n",
       "    <tr>\n",
       "      <th>48593</th>\n",
       "      <td>56</td>\n",
       "      <td>NaN</td>\n",
       "      <td>14</td>\n",
       "      <td>Married-civ-spouse</td>\n",
       "      <td>NaN</td>\n",
       "      <td>Husband</td>\n",
       "      <td>White</td>\n",
       "      <td>Male</td>\n",
       "      <td>0</td>\n",
       "      <td>0</td>\n",
       "      <td>40</td>\n",
       "      <td>United-States</td>\n",
       "      <td>&gt;50K</td>\n",
       "    </tr>\n",
       "    <tr>\n",
       "      <th>48596</th>\n",
       "      <td>19</td>\n",
       "      <td>NaN</td>\n",
       "      <td>9</td>\n",
       "      <td>Never-married</td>\n",
       "      <td>NaN</td>\n",
       "      <td>Own-child</td>\n",
       "      <td>White</td>\n",
       "      <td>Male</td>\n",
       "      <td>0</td>\n",
       "      <td>0</td>\n",
       "      <td>44</td>\n",
       "      <td>United-States</td>\n",
       "      <td>&lt;=50K</td>\n",
       "    </tr>\n",
       "    <tr>\n",
       "      <th>48604</th>\n",
       "      <td>24</td>\n",
       "      <td>State-gov</td>\n",
       "      <td>13</td>\n",
       "      <td>Never-married</td>\n",
       "      <td>Transport-moving</td>\n",
       "      <td>Not-in-family</td>\n",
       "      <td>Black</td>\n",
       "      <td>Male</td>\n",
       "      <td>0</td>\n",
       "      <td>0</td>\n",
       "      <td>40</td>\n",
       "      <td>NaN</td>\n",
       "      <td>&lt;=50K</td>\n",
       "    </tr>\n",
       "    <tr>\n",
       "      <th>48651</th>\n",
       "      <td>34</td>\n",
       "      <td>Private</td>\n",
       "      <td>14</td>\n",
       "      <td>Never-married</td>\n",
       "      <td>Prof-specialty</td>\n",
       "      <td>Not-in-family</td>\n",
       "      <td>Black</td>\n",
       "      <td>Male</td>\n",
       "      <td>0</td>\n",
       "      <td>0</td>\n",
       "      <td>45</td>\n",
       "      <td>NaN</td>\n",
       "      <td>&gt;50K</td>\n",
       "    </tr>\n",
       "    <tr>\n",
       "      <th>48678</th>\n",
       "      <td>21</td>\n",
       "      <td>NaN</td>\n",
       "      <td>10</td>\n",
       "      <td>Never-married</td>\n",
       "      <td>NaN</td>\n",
       "      <td>Other-relative</td>\n",
       "      <td>White</td>\n",
       "      <td>Female</td>\n",
       "      <td>0</td>\n",
       "      <td>0</td>\n",
       "      <td>52</td>\n",
       "      <td>United-States</td>\n",
       "      <td>&lt;=50K</td>\n",
       "    </tr>\n",
       "    <tr>\n",
       "      <th>48682</th>\n",
       "      <td>61</td>\n",
       "      <td>NaN</td>\n",
       "      <td>10</td>\n",
       "      <td>Married-civ-spouse</td>\n",
       "      <td>NaN</td>\n",
       "      <td>Husband</td>\n",
       "      <td>White</td>\n",
       "      <td>Male</td>\n",
       "      <td>0</td>\n",
       "      <td>0</td>\n",
       "      <td>14</td>\n",
       "      <td>United-States</td>\n",
       "      <td>&lt;=50K</td>\n",
       "    </tr>\n",
       "    <tr>\n",
       "      <th>48769</th>\n",
       "      <td>21</td>\n",
       "      <td>NaN</td>\n",
       "      <td>10</td>\n",
       "      <td>Never-married</td>\n",
       "      <td>NaN</td>\n",
       "      <td>Own-child</td>\n",
       "      <td>White</td>\n",
       "      <td>Female</td>\n",
       "      <td>0</td>\n",
       "      <td>0</td>\n",
       "      <td>30</td>\n",
       "      <td>United-States</td>\n",
       "      <td>&lt;=50K</td>\n",
       "    </tr>\n",
       "    <tr>\n",
       "      <th>48800</th>\n",
       "      <td>73</td>\n",
       "      <td>NaN</td>\n",
       "      <td>9</td>\n",
       "      <td>Married-civ-spouse</td>\n",
       "      <td>NaN</td>\n",
       "      <td>Husband</td>\n",
       "      <td>White</td>\n",
       "      <td>Male</td>\n",
       "      <td>0</td>\n",
       "      <td>0</td>\n",
       "      <td>25</td>\n",
       "      <td>Canada</td>\n",
       "      <td>&lt;=50K</td>\n",
       "    </tr>\n",
       "    <tr>\n",
       "      <th>48812</th>\n",
       "      <td>81</td>\n",
       "      <td>NaN</td>\n",
       "      <td>11</td>\n",
       "      <td>Married-civ-spouse</td>\n",
       "      <td>NaN</td>\n",
       "      <td>Husband</td>\n",
       "      <td>White</td>\n",
       "      <td>Male</td>\n",
       "      <td>2936</td>\n",
       "      <td>0</td>\n",
       "      <td>20</td>\n",
       "      <td>United-States</td>\n",
       "      <td>&lt;=50K</td>\n",
       "    </tr>\n",
       "    <tr>\n",
       "      <th>48826</th>\n",
       "      <td>50</td>\n",
       "      <td>Local-gov</td>\n",
       "      <td>14</td>\n",
       "      <td>Married-civ-spouse</td>\n",
       "      <td>Prof-specialty</td>\n",
       "      <td>Wife</td>\n",
       "      <td>White</td>\n",
       "      <td>Female</td>\n",
       "      <td>0</td>\n",
       "      <td>0</td>\n",
       "      <td>40</td>\n",
       "      <td>NaN</td>\n",
       "      <td>&gt;50K</td>\n",
       "    </tr>\n",
       "    <tr>\n",
       "      <th>48838</th>\n",
       "      <td>64</td>\n",
       "      <td>NaN</td>\n",
       "      <td>9</td>\n",
       "      <td>Widowed</td>\n",
       "      <td>NaN</td>\n",
       "      <td>Other-relative</td>\n",
       "      <td>Black</td>\n",
       "      <td>Male</td>\n",
       "      <td>0</td>\n",
       "      <td>0</td>\n",
       "      <td>40</td>\n",
       "      <td>United-States</td>\n",
       "      <td>&lt;=50K</td>\n",
       "    </tr>\n",
       "  </tbody>\n",
       "</table>\n",
       "<p>3620 rows × 13 columns</p>\n",
       "</div>"
      ],
      "text/plain": [
       "       age  workclass  education-num         marital-status        occupation  \\\n",
       "14      40    Private             11     Married-civ-spouse      Craft-repair   \n",
       "27      54        NaN             10     Married-civ-spouse               NaN   \n",
       "38      31    Private             10     Married-civ-spouse             Sales   \n",
       "51      18    Private              9          Never-married     Other-service   \n",
       "61      32        NaN              4  Married-spouse-absent               NaN   \n",
       "69      25        NaN             10          Never-married               NaN   \n",
       "77      67        NaN              6     Married-civ-spouse               NaN   \n",
       "93      30    Private              9     Married-civ-spouse             Sales   \n",
       "106     17        NaN              6          Never-married               NaN   \n",
       "128     35        NaN              9     Married-civ-spouse               NaN   \n",
       "149     43        NaN             10               Divorced               NaN   \n",
       "154     52        NaN              9               Divorced               NaN   \n",
       "160     68        NaN              2               Divorced               NaN   \n",
       "187     53        NaN             13               Divorced               NaN   \n",
       "201     19        NaN              9          Never-married               NaN   \n",
       "221     64        NaN              2               Divorced               NaN   \n",
       "226     60        NaN              6               Divorced               NaN   \n",
       "243     20        NaN             10          Never-married               NaN   \n",
       "245     56    Private              9     Married-civ-spouse      Adm-clerical   \n",
       "249     45    Private              9     Married-civ-spouse      Adm-clerical   \n",
       "266     19        NaN             10          Never-married               NaN   \n",
       "297     39        NaN             14     Married-civ-spouse               NaN   \n",
       "312     19        NaN             10          Never-married               NaN   \n",
       "326     23        NaN             11          Never-married               NaN   \n",
       "346     67        NaN              7     Married-civ-spouse               NaN   \n",
       "347     30        NaN             11               Divorced               NaN   \n",
       "354     59        NaN             13     Married-civ-spouse               NaN   \n",
       "393     34  State-gov             13     Married-civ-spouse   Exec-managerial   \n",
       "397     20        NaN              9          Never-married               NaN   \n",
       "408     28        NaN             10     Married-civ-spouse               NaN   \n",
       "...    ...        ...            ...                    ...               ...   \n",
       "48407   17        NaN              8          Never-married               NaN   \n",
       "48412   26        NaN              9               Divorced               NaN   \n",
       "48417   57        NaN             13          Never-married               NaN   \n",
       "48422   39        NaN             13               Divorced               NaN   \n",
       "48425   39        NaN              9               Divorced               NaN   \n",
       "48437   17        NaN              4          Never-married               NaN   \n",
       "48440   18        NaN              8          Never-married               NaN   \n",
       "48470   41        NaN             12     Married-civ-spouse               NaN   \n",
       "48473   68        NaN             10     Married-civ-spouse               NaN   \n",
       "48477   24        NaN              4          Never-married               NaN   \n",
       "48483   19        NaN              9          Never-married               NaN   \n",
       "48485   17        NaN              9          Never-married               NaN   \n",
       "48513   58        NaN              7               Divorced               NaN   \n",
       "48544   18        NaN              9          Never-married               NaN   \n",
       "48549   20        NaN              9          Never-married               NaN   \n",
       "48553   22        NaN             10          Never-married               NaN   \n",
       "48562   18        NaN             10          Never-married               NaN   \n",
       "48567   76        NaN              9               Divorced               NaN   \n",
       "48579   21        NaN             10          Never-married               NaN   \n",
       "48593   56        NaN             14     Married-civ-spouse               NaN   \n",
       "48596   19        NaN              9          Never-married               NaN   \n",
       "48604   24  State-gov             13          Never-married  Transport-moving   \n",
       "48651   34    Private             14          Never-married    Prof-specialty   \n",
       "48678   21        NaN             10          Never-married               NaN   \n",
       "48682   61        NaN             10     Married-civ-spouse               NaN   \n",
       "48769   21        NaN             10          Never-married               NaN   \n",
       "48800   73        NaN              9     Married-civ-spouse               NaN   \n",
       "48812   81        NaN             11     Married-civ-spouse               NaN   \n",
       "48826   50  Local-gov             14     Married-civ-spouse    Prof-specialty   \n",
       "48838   64        NaN              9                Widowed               NaN   \n",
       "\n",
       "         relationship                race     sex  capital-gain  capital-loss  \\\n",
       "14            Husband  Asian-Pac-Islander    Male             0             0   \n",
       "27            Husband  Asian-Pac-Islander    Male             0             0   \n",
       "38            Husband               White    Male             0             0   \n",
       "51          Own-child               White  Female             0             0   \n",
       "61      Not-in-family               White    Male             0             0   \n",
       "69          Own-child               White    Male             0             0   \n",
       "77            Husband               White    Male             0             0   \n",
       "93               Wife  Asian-Pac-Islander  Female             0          1573   \n",
       "106         Own-child               White  Female         34095             0   \n",
       "128           Husband               White    Male             0             0   \n",
       "149     Not-in-family               White  Female             0             0   \n",
       "154     Not-in-family               White    Male             0             0   \n",
       "160     Not-in-family               White  Female             0             0   \n",
       "187     Not-in-family               White  Female             0             0   \n",
       "201         Own-child               White    Male             0             0   \n",
       "221     Not-in-family               White    Male             0             0   \n",
       "226     Not-in-family  Amer-Indian-Eskimo  Female             0             0   \n",
       "243         Own-child               White    Male             0             0   \n",
       "245           Husband               White    Male             0             0   \n",
       "249           Husband               White    Male             0             0   \n",
       "266         Own-child               White    Male             0             0   \n",
       "297              Wife  Asian-Pac-Islander  Female          3464             0   \n",
       "312         Own-child               Black  Female             0             0   \n",
       "326         Own-child               Black  Female             0             0   \n",
       "346           Husband               White    Male             0             0   \n",
       "347         Unmarried               White  Female             0             0   \n",
       "354           Husband               White    Male             0             0   \n",
       "393           Husband               White    Male          7688             0   \n",
       "397    Other-relative               White  Female             0             0   \n",
       "408              Wife               White  Female             0          1887   \n",
       "...               ...                 ...     ...           ...           ...   \n",
       "48407       Own-child               White    Male             0             0   \n",
       "48412   Not-in-family               White  Female             0             0   \n",
       "48417   Not-in-family               Black  Female             0             0   \n",
       "48422       Own-child               Black  Female             0             0   \n",
       "48425       Unmarried               White  Female             0             0   \n",
       "48437       Own-child               White  Female             0             0   \n",
       "48440       Own-child               White    Male             0             0   \n",
       "48470         Husband               White    Male             0             0   \n",
       "48473         Husband               White    Male             0          1648   \n",
       "48477   Not-in-family               White  Female             0             0   \n",
       "48483       Own-child               White    Male             0             0   \n",
       "48485       Own-child               White    Male             0             0   \n",
       "48513       Unmarried               Black  Female             0             0   \n",
       "48544       Own-child               White    Male             0             0   \n",
       "48549   Not-in-family               White  Female             0             0   \n",
       "48553   Not-in-family               White  Female             0          1974   \n",
       "48562   Not-in-family  Asian-Pac-Islander  Female             0             0   \n",
       "48567   Not-in-family               White  Female             0             0   \n",
       "48579       Own-child               White  Female             0             0   \n",
       "48593         Husband               White    Male             0             0   \n",
       "48596       Own-child               White    Male             0             0   \n",
       "48604   Not-in-family               Black    Male             0             0   \n",
       "48651   Not-in-family               Black    Male             0             0   \n",
       "48678  Other-relative               White  Female             0             0   \n",
       "48682         Husband               White    Male             0             0   \n",
       "48769       Own-child               White  Female             0             0   \n",
       "48800         Husband               White    Male             0             0   \n",
       "48812         Husband               White    Male          2936             0   \n",
       "48826            Wife               White  Female             0             0   \n",
       "48838  Other-relative               Black    Male             0             0   \n",
       "\n",
       "       hours-per-week native-country income  \n",
       "14                 40            NaN   >50K  \n",
       "27                 60          South   >50K  \n",
       "38                 38            NaN   >50K  \n",
       "51                 30            NaN  <=50K  \n",
       "61                 40            NaN  <=50K  \n",
       "69                 40  United-States  <=50K  \n",
       "77                  2  United-States  <=50K  \n",
       "93                 35            NaN  <=50K  \n",
       "106                32  United-States  <=50K  \n",
       "128                40  United-States  <=50K  \n",
       "149                40  United-States  <=50K  \n",
       "154                45  United-States   >50K  \n",
       "160                20  United-States  <=50K  \n",
       "187                50  United-States  <=50K  \n",
       "201                40          Italy  <=50K  \n",
       "221                40  United-States  <=50K  \n",
       "226                10  United-States  <=50K  \n",
       "243                20  United-States  <=50K  \n",
       "245                35            NaN  <=50K  \n",
       "249                40            NaN  <=50K  \n",
       "266                24         Canada  <=50K  \n",
       "297                40            NaN  <=50K  \n",
       "312                25  United-States  <=50K  \n",
       "326                15  United-States  <=50K  \n",
       "346                 8  United-States  <=50K  \n",
       "347                40  United-States  <=50K  \n",
       "354                40  United-States   >50K  \n",
       "393                45            NaN   >50K  \n",
       "397                35  United-States  <=50K  \n",
       "408                40  United-States   >50K  \n",
       "...               ...            ...    ...  \n",
       "48407              30  United-States  <=50K  \n",
       "48412              15  United-States  <=50K  \n",
       "48417              35  United-States  <=50K  \n",
       "48422              40  United-States  <=50K  \n",
       "48425              16  United-States  <=50K  \n",
       "48437              15  United-States  <=50K  \n",
       "48440              10  United-States  <=50K  \n",
       "48470              99  United-States  <=50K  \n",
       "48473              10  United-States   >50K  \n",
       "48477              25  United-States  <=50K  \n",
       "48483              40  United-States  <=50K  \n",
       "48485              14  United-States  <=50K  \n",
       "48513              32  United-States  <=50K  \n",
       "48544              15  United-States  <=50K  \n",
       "48549              40  United-States  <=50K  \n",
       "48553              40  United-States  <=50K  \n",
       "48562              16  United-States  <=50K  \n",
       "48567               3  United-States  <=50K  \n",
       "48579              38  United-States  <=50K  \n",
       "48593              40  United-States   >50K  \n",
       "48596              44  United-States  <=50K  \n",
       "48604              40            NaN  <=50K  \n",
       "48651              45            NaN   >50K  \n",
       "48678              52  United-States  <=50K  \n",
       "48682              14  United-States  <=50K  \n",
       "48769              30  United-States  <=50K  \n",
       "48800              25         Canada  <=50K  \n",
       "48812              20  United-States  <=50K  \n",
       "48826              40            NaN   >50K  \n",
       "48838              40  United-States  <=50K  \n",
       "\n",
       "[3620 rows x 13 columns]"
      ]
     },
     "execution_count": 80,
     "metadata": {},
     "output_type": "execute_result"
    }
   ],
   "source": [
    "df[df.isnull().any(axis=1)]"
   ]
  },
  {
   "cell_type": "code",
   "execution_count": 81,
   "metadata": {
    "ExecuteTime": {
     "end_time": "2019-03-25T21:34:59.016127Z",
     "start_time": "2019-03-25T21:34:58.995132Z"
    }
   },
   "outputs": [
    {
     "data": {
      "text/plain": [
       "United-States    43832\n",
       "Mexico             951\n",
       "Philippines        295\n",
       "Germany            206\n",
       "Puerto-Rico        184\n",
       "Canada             182\n",
       "El-Salvador        155\n",
       "India              151\n",
       "Cuba               138\n",
       "England            127\n",
       "Name: native-country, dtype: int64"
      ]
     },
     "execution_count": 81,
     "metadata": {},
     "output_type": "execute_result"
    }
   ],
   "source": [
    "df['native-country'].value_counts().head(10)"
   ]
  },
  {
   "cell_type": "code",
   "execution_count": 82,
   "metadata": {
    "ExecuteTime": {
     "end_time": "2019-03-25T21:34:59.050771Z",
     "start_time": "2019-03-25T21:34:59.022170Z"
    }
   },
   "outputs": [
    {
     "data": {
      "text/html": [
       "<div>\n",
       "<style scoped>\n",
       "    .dataframe tbody tr th:only-of-type {\n",
       "        vertical-align: middle;\n",
       "    }\n",
       "\n",
       "    .dataframe tbody tr th {\n",
       "        vertical-align: top;\n",
       "    }\n",
       "\n",
       "    .dataframe thead th {\n",
       "        text-align: right;\n",
       "    }\n",
       "</style>\n",
       "<table border=\"1\" class=\"dataframe\">\n",
       "  <thead>\n",
       "    <tr style=\"text-align: right;\">\n",
       "      <th></th>\n",
       "      <th>age</th>\n",
       "      <th>workclass</th>\n",
       "      <th>education-num</th>\n",
       "      <th>marital-status</th>\n",
       "      <th>occupation</th>\n",
       "      <th>relationship</th>\n",
       "      <th>race</th>\n",
       "      <th>sex</th>\n",
       "      <th>capital-gain</th>\n",
       "      <th>capital-loss</th>\n",
       "      <th>hours-per-week</th>\n",
       "      <th>native-country</th>\n",
       "      <th>income</th>\n",
       "    </tr>\n",
       "  </thead>\n",
       "  <tbody>\n",
       "  </tbody>\n",
       "</table>\n",
       "</div>"
      ],
      "text/plain": [
       "Empty DataFrame\n",
       "Columns: [age, workclass, education-num, marital-status, occupation, relationship, race, sex, capital-gain, capital-loss, hours-per-week, native-country, income]\n",
       "Index: []"
      ]
     },
     "execution_count": 82,
     "metadata": {},
     "output_type": "execute_result"
    }
   ],
   "source": [
    "df['native-country'].fillna('United-States', inplace=True)\n",
    "df[df['native-country'].isnull()]"
   ]
  },
  {
   "cell_type": "code",
   "execution_count": 83,
   "metadata": {
    "ExecuteTime": {
     "end_time": "2019-03-25T21:34:59.081918Z",
     "start_time": "2019-03-25T21:34:59.053764Z"
    }
   },
   "outputs": [
    {
     "data": {
      "text/plain": [
       "Private             33906\n",
       "Self-emp-not-inc     3862\n",
       "Local-gov            3136\n",
       "State-gov            1981\n",
       "Self-emp-inc         1695\n",
       "Federal-gov          1432\n",
       "Without-pay            21\n",
       "Never-worked           10\n",
       "Name: workclass, dtype: int64"
      ]
     },
     "execution_count": 83,
     "metadata": {},
     "output_type": "execute_result"
    }
   ],
   "source": [
    "df['workclass'].value_counts()"
   ]
  },
  {
   "cell_type": "code",
   "execution_count": 84,
   "metadata": {
    "ExecuteTime": {
     "end_time": "2019-03-25T21:34:59.117271Z",
     "start_time": "2019-03-25T21:34:59.088767Z"
    }
   },
   "outputs": [
    {
     "data": {
      "text/html": [
       "<div>\n",
       "<style scoped>\n",
       "    .dataframe tbody tr th:only-of-type {\n",
       "        vertical-align: middle;\n",
       "    }\n",
       "\n",
       "    .dataframe tbody tr th {\n",
       "        vertical-align: top;\n",
       "    }\n",
       "\n",
       "    .dataframe thead th {\n",
       "        text-align: right;\n",
       "    }\n",
       "</style>\n",
       "<table border=\"1\" class=\"dataframe\">\n",
       "  <thead>\n",
       "    <tr style=\"text-align: right;\">\n",
       "      <th></th>\n",
       "      <th>age</th>\n",
       "      <th>workclass</th>\n",
       "      <th>education-num</th>\n",
       "      <th>marital-status</th>\n",
       "      <th>occupation</th>\n",
       "      <th>relationship</th>\n",
       "      <th>race</th>\n",
       "      <th>sex</th>\n",
       "      <th>capital-gain</th>\n",
       "      <th>capital-loss</th>\n",
       "      <th>hours-per-week</th>\n",
       "      <th>native-country</th>\n",
       "      <th>income</th>\n",
       "    </tr>\n",
       "  </thead>\n",
       "  <tbody>\n",
       "  </tbody>\n",
       "</table>\n",
       "</div>"
      ],
      "text/plain": [
       "Empty DataFrame\n",
       "Columns: [age, workclass, education-num, marital-status, occupation, relationship, race, sex, capital-gain, capital-loss, hours-per-week, native-country, income]\n",
       "Index: []"
      ]
     },
     "execution_count": 84,
     "metadata": {},
     "output_type": "execute_result"
    }
   ],
   "source": [
    "df['workclass'].fillna('Private', inplace=True)\n",
    "df[df['workclass'].isnull()]"
   ]
  },
  {
   "cell_type": "code",
   "execution_count": 85,
   "metadata": {
    "ExecuteTime": {
     "end_time": "2019-03-25T21:34:59.147276Z",
     "start_time": "2019-03-25T21:34:59.127377Z"
    }
   },
   "outputs": [
    {
     "data": {
      "text/plain": [
       "Prof-specialty       6172\n",
       "Craft-repair         6112\n",
       "Exec-managerial      6086\n",
       "Adm-clerical         5611\n",
       "Sales                5504\n",
       "Other-service        4923\n",
       "Machine-op-inspct    3022\n",
       "Transport-moving     2355\n",
       "Handlers-cleaners    2072\n",
       "Farming-fishing      1490\n",
       "Tech-support         1446\n",
       "Protective-serv       983\n",
       "Priv-house-serv       242\n",
       "Armed-Forces           15\n",
       "Name: occupation, dtype: int64"
      ]
     },
     "execution_count": 85,
     "metadata": {},
     "output_type": "execute_result"
    }
   ],
   "source": [
    "df['occupation'].value_counts()"
   ]
  },
  {
   "cell_type": "code",
   "execution_count": 86,
   "metadata": {
    "ExecuteTime": {
     "end_time": "2019-03-25T21:34:59.303262Z",
     "start_time": "2019-03-25T21:34:59.152302Z"
    }
   },
   "outputs": [
    {
     "data": {
      "text/html": [
       "<div>\n",
       "<style scoped>\n",
       "    .dataframe tbody tr th:only-of-type {\n",
       "        vertical-align: middle;\n",
       "    }\n",
       "\n",
       "    .dataframe tbody tr th {\n",
       "        vertical-align: top;\n",
       "    }\n",
       "\n",
       "    .dataframe thead th {\n",
       "        text-align: right;\n",
       "    }\n",
       "</style>\n",
       "<table border=\"1\" class=\"dataframe\">\n",
       "  <thead>\n",
       "    <tr style=\"text-align: right;\">\n",
       "      <th></th>\n",
       "      <th>age</th>\n",
       "      <th>workclass</th>\n",
       "      <th>education-num</th>\n",
       "      <th>marital-status</th>\n",
       "      <th>occupation</th>\n",
       "      <th>relationship</th>\n",
       "      <th>race</th>\n",
       "      <th>sex</th>\n",
       "      <th>capital-gain</th>\n",
       "      <th>capital-loss</th>\n",
       "      <th>hours-per-week</th>\n",
       "      <th>native-country</th>\n",
       "      <th>income</th>\n",
       "    </tr>\n",
       "  </thead>\n",
       "  <tbody>\n",
       "    <tr>\n",
       "      <th>27</th>\n",
       "      <td>54</td>\n",
       "      <td>Private</td>\n",
       "      <td>10</td>\n",
       "      <td>Married-civ-spouse</td>\n",
       "      <td>NaN</td>\n",
       "      <td>Husband</td>\n",
       "      <td>Asian-Pac-Islander</td>\n",
       "      <td>Male</td>\n",
       "      <td>0</td>\n",
       "      <td>0</td>\n",
       "      <td>60</td>\n",
       "      <td>South</td>\n",
       "      <td>&gt;50K</td>\n",
       "    </tr>\n",
       "    <tr>\n",
       "      <th>61</th>\n",
       "      <td>32</td>\n",
       "      <td>Private</td>\n",
       "      <td>4</td>\n",
       "      <td>Married-spouse-absent</td>\n",
       "      <td>NaN</td>\n",
       "      <td>Not-in-family</td>\n",
       "      <td>White</td>\n",
       "      <td>Male</td>\n",
       "      <td>0</td>\n",
       "      <td>0</td>\n",
       "      <td>40</td>\n",
       "      <td>United-States</td>\n",
       "      <td>&lt;=50K</td>\n",
       "    </tr>\n",
       "    <tr>\n",
       "      <th>69</th>\n",
       "      <td>25</td>\n",
       "      <td>Private</td>\n",
       "      <td>10</td>\n",
       "      <td>Never-married</td>\n",
       "      <td>NaN</td>\n",
       "      <td>Own-child</td>\n",
       "      <td>White</td>\n",
       "      <td>Male</td>\n",
       "      <td>0</td>\n",
       "      <td>0</td>\n",
       "      <td>40</td>\n",
       "      <td>United-States</td>\n",
       "      <td>&lt;=50K</td>\n",
       "    </tr>\n",
       "    <tr>\n",
       "      <th>77</th>\n",
       "      <td>67</td>\n",
       "      <td>Private</td>\n",
       "      <td>6</td>\n",
       "      <td>Married-civ-spouse</td>\n",
       "      <td>NaN</td>\n",
       "      <td>Husband</td>\n",
       "      <td>White</td>\n",
       "      <td>Male</td>\n",
       "      <td>0</td>\n",
       "      <td>0</td>\n",
       "      <td>2</td>\n",
       "      <td>United-States</td>\n",
       "      <td>&lt;=50K</td>\n",
       "    </tr>\n",
       "    <tr>\n",
       "      <th>106</th>\n",
       "      <td>17</td>\n",
       "      <td>Private</td>\n",
       "      <td>6</td>\n",
       "      <td>Never-married</td>\n",
       "      <td>NaN</td>\n",
       "      <td>Own-child</td>\n",
       "      <td>White</td>\n",
       "      <td>Female</td>\n",
       "      <td>34095</td>\n",
       "      <td>0</td>\n",
       "      <td>32</td>\n",
       "      <td>United-States</td>\n",
       "      <td>&lt;=50K</td>\n",
       "    </tr>\n",
       "    <tr>\n",
       "      <th>128</th>\n",
       "      <td>35</td>\n",
       "      <td>Private</td>\n",
       "      <td>9</td>\n",
       "      <td>Married-civ-spouse</td>\n",
       "      <td>NaN</td>\n",
       "      <td>Husband</td>\n",
       "      <td>White</td>\n",
       "      <td>Male</td>\n",
       "      <td>0</td>\n",
       "      <td>0</td>\n",
       "      <td>40</td>\n",
       "      <td>United-States</td>\n",
       "      <td>&lt;=50K</td>\n",
       "    </tr>\n",
       "    <tr>\n",
       "      <th>149</th>\n",
       "      <td>43</td>\n",
       "      <td>Private</td>\n",
       "      <td>10</td>\n",
       "      <td>Divorced</td>\n",
       "      <td>NaN</td>\n",
       "      <td>Not-in-family</td>\n",
       "      <td>White</td>\n",
       "      <td>Female</td>\n",
       "      <td>0</td>\n",
       "      <td>0</td>\n",
       "      <td>40</td>\n",
       "      <td>United-States</td>\n",
       "      <td>&lt;=50K</td>\n",
       "    </tr>\n",
       "    <tr>\n",
       "      <th>154</th>\n",
       "      <td>52</td>\n",
       "      <td>Private</td>\n",
       "      <td>9</td>\n",
       "      <td>Divorced</td>\n",
       "      <td>NaN</td>\n",
       "      <td>Not-in-family</td>\n",
       "      <td>White</td>\n",
       "      <td>Male</td>\n",
       "      <td>0</td>\n",
       "      <td>0</td>\n",
       "      <td>45</td>\n",
       "      <td>United-States</td>\n",
       "      <td>&gt;50K</td>\n",
       "    </tr>\n",
       "    <tr>\n",
       "      <th>160</th>\n",
       "      <td>68</td>\n",
       "      <td>Private</td>\n",
       "      <td>2</td>\n",
       "      <td>Divorced</td>\n",
       "      <td>NaN</td>\n",
       "      <td>Not-in-family</td>\n",
       "      <td>White</td>\n",
       "      <td>Female</td>\n",
       "      <td>0</td>\n",
       "      <td>0</td>\n",
       "      <td>20</td>\n",
       "      <td>United-States</td>\n",
       "      <td>&lt;=50K</td>\n",
       "    </tr>\n",
       "    <tr>\n",
       "      <th>187</th>\n",
       "      <td>53</td>\n",
       "      <td>Private</td>\n",
       "      <td>13</td>\n",
       "      <td>Divorced</td>\n",
       "      <td>NaN</td>\n",
       "      <td>Not-in-family</td>\n",
       "      <td>White</td>\n",
       "      <td>Female</td>\n",
       "      <td>0</td>\n",
       "      <td>0</td>\n",
       "      <td>50</td>\n",
       "      <td>United-States</td>\n",
       "      <td>&lt;=50K</td>\n",
       "    </tr>\n",
       "    <tr>\n",
       "      <th>201</th>\n",
       "      <td>19</td>\n",
       "      <td>Private</td>\n",
       "      <td>9</td>\n",
       "      <td>Never-married</td>\n",
       "      <td>NaN</td>\n",
       "      <td>Own-child</td>\n",
       "      <td>White</td>\n",
       "      <td>Male</td>\n",
       "      <td>0</td>\n",
       "      <td>0</td>\n",
       "      <td>40</td>\n",
       "      <td>Italy</td>\n",
       "      <td>&lt;=50K</td>\n",
       "    </tr>\n",
       "    <tr>\n",
       "      <th>221</th>\n",
       "      <td>64</td>\n",
       "      <td>Private</td>\n",
       "      <td>2</td>\n",
       "      <td>Divorced</td>\n",
       "      <td>NaN</td>\n",
       "      <td>Not-in-family</td>\n",
       "      <td>White</td>\n",
       "      <td>Male</td>\n",
       "      <td>0</td>\n",
       "      <td>0</td>\n",
       "      <td>40</td>\n",
       "      <td>United-States</td>\n",
       "      <td>&lt;=50K</td>\n",
       "    </tr>\n",
       "    <tr>\n",
       "      <th>226</th>\n",
       "      <td>60</td>\n",
       "      <td>Private</td>\n",
       "      <td>6</td>\n",
       "      <td>Divorced</td>\n",
       "      <td>NaN</td>\n",
       "      <td>Not-in-family</td>\n",
       "      <td>Amer-Indian-Eskimo</td>\n",
       "      <td>Female</td>\n",
       "      <td>0</td>\n",
       "      <td>0</td>\n",
       "      <td>10</td>\n",
       "      <td>United-States</td>\n",
       "      <td>&lt;=50K</td>\n",
       "    </tr>\n",
       "    <tr>\n",
       "      <th>243</th>\n",
       "      <td>20</td>\n",
       "      <td>Private</td>\n",
       "      <td>10</td>\n",
       "      <td>Never-married</td>\n",
       "      <td>NaN</td>\n",
       "      <td>Own-child</td>\n",
       "      <td>White</td>\n",
       "      <td>Male</td>\n",
       "      <td>0</td>\n",
       "      <td>0</td>\n",
       "      <td>20</td>\n",
       "      <td>United-States</td>\n",
       "      <td>&lt;=50K</td>\n",
       "    </tr>\n",
       "    <tr>\n",
       "      <th>266</th>\n",
       "      <td>19</td>\n",
       "      <td>Private</td>\n",
       "      <td>10</td>\n",
       "      <td>Never-married</td>\n",
       "      <td>NaN</td>\n",
       "      <td>Own-child</td>\n",
       "      <td>White</td>\n",
       "      <td>Male</td>\n",
       "      <td>0</td>\n",
       "      <td>0</td>\n",
       "      <td>24</td>\n",
       "      <td>Canada</td>\n",
       "      <td>&lt;=50K</td>\n",
       "    </tr>\n",
       "    <tr>\n",
       "      <th>297</th>\n",
       "      <td>39</td>\n",
       "      <td>Private</td>\n",
       "      <td>14</td>\n",
       "      <td>Married-civ-spouse</td>\n",
       "      <td>NaN</td>\n",
       "      <td>Wife</td>\n",
       "      <td>Asian-Pac-Islander</td>\n",
       "      <td>Female</td>\n",
       "      <td>3464</td>\n",
       "      <td>0</td>\n",
       "      <td>40</td>\n",
       "      <td>United-States</td>\n",
       "      <td>&lt;=50K</td>\n",
       "    </tr>\n",
       "    <tr>\n",
       "      <th>312</th>\n",
       "      <td>19</td>\n",
       "      <td>Private</td>\n",
       "      <td>10</td>\n",
       "      <td>Never-married</td>\n",
       "      <td>NaN</td>\n",
       "      <td>Own-child</td>\n",
       "      <td>Black</td>\n",
       "      <td>Female</td>\n",
       "      <td>0</td>\n",
       "      <td>0</td>\n",
       "      <td>25</td>\n",
       "      <td>United-States</td>\n",
       "      <td>&lt;=50K</td>\n",
       "    </tr>\n",
       "    <tr>\n",
       "      <th>326</th>\n",
       "      <td>23</td>\n",
       "      <td>Private</td>\n",
       "      <td>11</td>\n",
       "      <td>Never-married</td>\n",
       "      <td>NaN</td>\n",
       "      <td>Own-child</td>\n",
       "      <td>Black</td>\n",
       "      <td>Female</td>\n",
       "      <td>0</td>\n",
       "      <td>0</td>\n",
       "      <td>15</td>\n",
       "      <td>United-States</td>\n",
       "      <td>&lt;=50K</td>\n",
       "    </tr>\n",
       "    <tr>\n",
       "      <th>346</th>\n",
       "      <td>67</td>\n",
       "      <td>Private</td>\n",
       "      <td>7</td>\n",
       "      <td>Married-civ-spouse</td>\n",
       "      <td>NaN</td>\n",
       "      <td>Husband</td>\n",
       "      <td>White</td>\n",
       "      <td>Male</td>\n",
       "      <td>0</td>\n",
       "      <td>0</td>\n",
       "      <td>8</td>\n",
       "      <td>United-States</td>\n",
       "      <td>&lt;=50K</td>\n",
       "    </tr>\n",
       "    <tr>\n",
       "      <th>347</th>\n",
       "      <td>30</td>\n",
       "      <td>Private</td>\n",
       "      <td>11</td>\n",
       "      <td>Divorced</td>\n",
       "      <td>NaN</td>\n",
       "      <td>Unmarried</td>\n",
       "      <td>White</td>\n",
       "      <td>Female</td>\n",
       "      <td>0</td>\n",
       "      <td>0</td>\n",
       "      <td>40</td>\n",
       "      <td>United-States</td>\n",
       "      <td>&lt;=50K</td>\n",
       "    </tr>\n",
       "    <tr>\n",
       "      <th>354</th>\n",
       "      <td>59</td>\n",
       "      <td>Private</td>\n",
       "      <td>13</td>\n",
       "      <td>Married-civ-spouse</td>\n",
       "      <td>NaN</td>\n",
       "      <td>Husband</td>\n",
       "      <td>White</td>\n",
       "      <td>Male</td>\n",
       "      <td>0</td>\n",
       "      <td>0</td>\n",
       "      <td>40</td>\n",
       "      <td>United-States</td>\n",
       "      <td>&gt;50K</td>\n",
       "    </tr>\n",
       "    <tr>\n",
       "      <th>397</th>\n",
       "      <td>20</td>\n",
       "      <td>Private</td>\n",
       "      <td>9</td>\n",
       "      <td>Never-married</td>\n",
       "      <td>NaN</td>\n",
       "      <td>Other-relative</td>\n",
       "      <td>White</td>\n",
       "      <td>Female</td>\n",
       "      <td>0</td>\n",
       "      <td>0</td>\n",
       "      <td>35</td>\n",
       "      <td>United-States</td>\n",
       "      <td>&lt;=50K</td>\n",
       "    </tr>\n",
       "    <tr>\n",
       "      <th>408</th>\n",
       "      <td>28</td>\n",
       "      <td>Private</td>\n",
       "      <td>10</td>\n",
       "      <td>Married-civ-spouse</td>\n",
       "      <td>NaN</td>\n",
       "      <td>Wife</td>\n",
       "      <td>White</td>\n",
       "      <td>Female</td>\n",
       "      <td>0</td>\n",
       "      <td>1887</td>\n",
       "      <td>40</td>\n",
       "      <td>United-States</td>\n",
       "      <td>&gt;50K</td>\n",
       "    </tr>\n",
       "    <tr>\n",
       "      <th>430</th>\n",
       "      <td>80</td>\n",
       "      <td>Private</td>\n",
       "      <td>9</td>\n",
       "      <td>Widowed</td>\n",
       "      <td>NaN</td>\n",
       "      <td>Not-in-family</td>\n",
       "      <td>White</td>\n",
       "      <td>Male</td>\n",
       "      <td>0</td>\n",
       "      <td>0</td>\n",
       "      <td>24</td>\n",
       "      <td>United-States</td>\n",
       "      <td>&lt;=50K</td>\n",
       "    </tr>\n",
       "    <tr>\n",
       "      <th>431</th>\n",
       "      <td>17</td>\n",
       "      <td>Private</td>\n",
       "      <td>7</td>\n",
       "      <td>Never-married</td>\n",
       "      <td>NaN</td>\n",
       "      <td>Own-child</td>\n",
       "      <td>White</td>\n",
       "      <td>Male</td>\n",
       "      <td>0</td>\n",
       "      <td>0</td>\n",
       "      <td>40</td>\n",
       "      <td>United-States</td>\n",
       "      <td>&lt;=50K</td>\n",
       "    </tr>\n",
       "    <tr>\n",
       "      <th>449</th>\n",
       "      <td>17</td>\n",
       "      <td>Private</td>\n",
       "      <td>7</td>\n",
       "      <td>Never-married</td>\n",
       "      <td>NaN</td>\n",
       "      <td>Own-child</td>\n",
       "      <td>White</td>\n",
       "      <td>Female</td>\n",
       "      <td>0</td>\n",
       "      <td>0</td>\n",
       "      <td>5</td>\n",
       "      <td>United-States</td>\n",
       "      <td>&lt;=50K</td>\n",
       "    </tr>\n",
       "    <tr>\n",
       "      <th>459</th>\n",
       "      <td>32</td>\n",
       "      <td>Private</td>\n",
       "      <td>10</td>\n",
       "      <td>Married-civ-spouse</td>\n",
       "      <td>NaN</td>\n",
       "      <td>Husband</td>\n",
       "      <td>White</td>\n",
       "      <td>Male</td>\n",
       "      <td>0</td>\n",
       "      <td>0</td>\n",
       "      <td>40</td>\n",
       "      <td>United-States</td>\n",
       "      <td>&lt;=50K</td>\n",
       "    </tr>\n",
       "    <tr>\n",
       "      <th>471</th>\n",
       "      <td>22</td>\n",
       "      <td>Private</td>\n",
       "      <td>10</td>\n",
       "      <td>Never-married</td>\n",
       "      <td>NaN</td>\n",
       "      <td>Own-child</td>\n",
       "      <td>White</td>\n",
       "      <td>Male</td>\n",
       "      <td>0</td>\n",
       "      <td>0</td>\n",
       "      <td>40</td>\n",
       "      <td>United-States</td>\n",
       "      <td>&lt;=50K</td>\n",
       "    </tr>\n",
       "    <tr>\n",
       "      <th>484</th>\n",
       "      <td>52</td>\n",
       "      <td>Private</td>\n",
       "      <td>8</td>\n",
       "      <td>Never-married</td>\n",
       "      <td>NaN</td>\n",
       "      <td>Other-relative</td>\n",
       "      <td>Black</td>\n",
       "      <td>Male</td>\n",
       "      <td>594</td>\n",
       "      <td>0</td>\n",
       "      <td>40</td>\n",
       "      <td>United-States</td>\n",
       "      <td>&lt;=50K</td>\n",
       "    </tr>\n",
       "    <tr>\n",
       "      <th>486</th>\n",
       "      <td>63</td>\n",
       "      <td>Private</td>\n",
       "      <td>2</td>\n",
       "      <td>Married-civ-spouse</td>\n",
       "      <td>NaN</td>\n",
       "      <td>Husband</td>\n",
       "      <td>White</td>\n",
       "      <td>Male</td>\n",
       "      <td>0</td>\n",
       "      <td>0</td>\n",
       "      <td>35</td>\n",
       "      <td>United-States</td>\n",
       "      <td>&lt;=50K</td>\n",
       "    </tr>\n",
       "    <tr>\n",
       "      <th>...</th>\n",
       "      <td>...</td>\n",
       "      <td>...</td>\n",
       "      <td>...</td>\n",
       "      <td>...</td>\n",
       "      <td>...</td>\n",
       "      <td>...</td>\n",
       "      <td>...</td>\n",
       "      <td>...</td>\n",
       "      <td>...</td>\n",
       "      <td>...</td>\n",
       "      <td>...</td>\n",
       "      <td>...</td>\n",
       "      <td>...</td>\n",
       "    </tr>\n",
       "    <tr>\n",
       "      <th>48393</th>\n",
       "      <td>41</td>\n",
       "      <td>Private</td>\n",
       "      <td>10</td>\n",
       "      <td>Divorced</td>\n",
       "      <td>NaN</td>\n",
       "      <td>Not-in-family</td>\n",
       "      <td>White</td>\n",
       "      <td>Male</td>\n",
       "      <td>0</td>\n",
       "      <td>1504</td>\n",
       "      <td>40</td>\n",
       "      <td>United-States</td>\n",
       "      <td>&lt;=50K</td>\n",
       "    </tr>\n",
       "    <tr>\n",
       "      <th>48397</th>\n",
       "      <td>42</td>\n",
       "      <td>Private</td>\n",
       "      <td>13</td>\n",
       "      <td>Married-civ-spouse</td>\n",
       "      <td>NaN</td>\n",
       "      <td>Wife</td>\n",
       "      <td>White</td>\n",
       "      <td>Female</td>\n",
       "      <td>0</td>\n",
       "      <td>0</td>\n",
       "      <td>28</td>\n",
       "      <td>United-States</td>\n",
       "      <td>&gt;50K</td>\n",
       "    </tr>\n",
       "    <tr>\n",
       "      <th>48400</th>\n",
       "      <td>72</td>\n",
       "      <td>Private</td>\n",
       "      <td>9</td>\n",
       "      <td>Married-civ-spouse</td>\n",
       "      <td>NaN</td>\n",
       "      <td>Husband</td>\n",
       "      <td>White</td>\n",
       "      <td>Male</td>\n",
       "      <td>0</td>\n",
       "      <td>0</td>\n",
       "      <td>8</td>\n",
       "      <td>United-States</td>\n",
       "      <td>&lt;=50K</td>\n",
       "    </tr>\n",
       "    <tr>\n",
       "      <th>48407</th>\n",
       "      <td>17</td>\n",
       "      <td>Private</td>\n",
       "      <td>8</td>\n",
       "      <td>Never-married</td>\n",
       "      <td>NaN</td>\n",
       "      <td>Own-child</td>\n",
       "      <td>White</td>\n",
       "      <td>Male</td>\n",
       "      <td>0</td>\n",
       "      <td>0</td>\n",
       "      <td>30</td>\n",
       "      <td>United-States</td>\n",
       "      <td>&lt;=50K</td>\n",
       "    </tr>\n",
       "    <tr>\n",
       "      <th>48412</th>\n",
       "      <td>26</td>\n",
       "      <td>Private</td>\n",
       "      <td>9</td>\n",
       "      <td>Divorced</td>\n",
       "      <td>NaN</td>\n",
       "      <td>Not-in-family</td>\n",
       "      <td>White</td>\n",
       "      <td>Female</td>\n",
       "      <td>0</td>\n",
       "      <td>0</td>\n",
       "      <td>15</td>\n",
       "      <td>United-States</td>\n",
       "      <td>&lt;=50K</td>\n",
       "    </tr>\n",
       "    <tr>\n",
       "      <th>48417</th>\n",
       "      <td>57</td>\n",
       "      <td>Private</td>\n",
       "      <td>13</td>\n",
       "      <td>Never-married</td>\n",
       "      <td>NaN</td>\n",
       "      <td>Not-in-family</td>\n",
       "      <td>Black</td>\n",
       "      <td>Female</td>\n",
       "      <td>0</td>\n",
       "      <td>0</td>\n",
       "      <td>35</td>\n",
       "      <td>United-States</td>\n",
       "      <td>&lt;=50K</td>\n",
       "    </tr>\n",
       "    <tr>\n",
       "      <th>48422</th>\n",
       "      <td>39</td>\n",
       "      <td>Private</td>\n",
       "      <td>13</td>\n",
       "      <td>Divorced</td>\n",
       "      <td>NaN</td>\n",
       "      <td>Own-child</td>\n",
       "      <td>Black</td>\n",
       "      <td>Female</td>\n",
       "      <td>0</td>\n",
       "      <td>0</td>\n",
       "      <td>40</td>\n",
       "      <td>United-States</td>\n",
       "      <td>&lt;=50K</td>\n",
       "    </tr>\n",
       "    <tr>\n",
       "      <th>48425</th>\n",
       "      <td>39</td>\n",
       "      <td>Private</td>\n",
       "      <td>9</td>\n",
       "      <td>Divorced</td>\n",
       "      <td>NaN</td>\n",
       "      <td>Unmarried</td>\n",
       "      <td>White</td>\n",
       "      <td>Female</td>\n",
       "      <td>0</td>\n",
       "      <td>0</td>\n",
       "      <td>16</td>\n",
       "      <td>United-States</td>\n",
       "      <td>&lt;=50K</td>\n",
       "    </tr>\n",
       "    <tr>\n",
       "      <th>48437</th>\n",
       "      <td>17</td>\n",
       "      <td>Private</td>\n",
       "      <td>4</td>\n",
       "      <td>Never-married</td>\n",
       "      <td>NaN</td>\n",
       "      <td>Own-child</td>\n",
       "      <td>White</td>\n",
       "      <td>Female</td>\n",
       "      <td>0</td>\n",
       "      <td>0</td>\n",
       "      <td>15</td>\n",
       "      <td>United-States</td>\n",
       "      <td>&lt;=50K</td>\n",
       "    </tr>\n",
       "    <tr>\n",
       "      <th>48440</th>\n",
       "      <td>18</td>\n",
       "      <td>Private</td>\n",
       "      <td>8</td>\n",
       "      <td>Never-married</td>\n",
       "      <td>NaN</td>\n",
       "      <td>Own-child</td>\n",
       "      <td>White</td>\n",
       "      <td>Male</td>\n",
       "      <td>0</td>\n",
       "      <td>0</td>\n",
       "      <td>10</td>\n",
       "      <td>United-States</td>\n",
       "      <td>&lt;=50K</td>\n",
       "    </tr>\n",
       "    <tr>\n",
       "      <th>48470</th>\n",
       "      <td>41</td>\n",
       "      <td>Private</td>\n",
       "      <td>12</td>\n",
       "      <td>Married-civ-spouse</td>\n",
       "      <td>NaN</td>\n",
       "      <td>Husband</td>\n",
       "      <td>White</td>\n",
       "      <td>Male</td>\n",
       "      <td>0</td>\n",
       "      <td>0</td>\n",
       "      <td>99</td>\n",
       "      <td>United-States</td>\n",
       "      <td>&lt;=50K</td>\n",
       "    </tr>\n",
       "    <tr>\n",
       "      <th>48473</th>\n",
       "      <td>68</td>\n",
       "      <td>Private</td>\n",
       "      <td>10</td>\n",
       "      <td>Married-civ-spouse</td>\n",
       "      <td>NaN</td>\n",
       "      <td>Husband</td>\n",
       "      <td>White</td>\n",
       "      <td>Male</td>\n",
       "      <td>0</td>\n",
       "      <td>1648</td>\n",
       "      <td>10</td>\n",
       "      <td>United-States</td>\n",
       "      <td>&gt;50K</td>\n",
       "    </tr>\n",
       "    <tr>\n",
       "      <th>48477</th>\n",
       "      <td>24</td>\n",
       "      <td>Private</td>\n",
       "      <td>4</td>\n",
       "      <td>Never-married</td>\n",
       "      <td>NaN</td>\n",
       "      <td>Not-in-family</td>\n",
       "      <td>White</td>\n",
       "      <td>Female</td>\n",
       "      <td>0</td>\n",
       "      <td>0</td>\n",
       "      <td>25</td>\n",
       "      <td>United-States</td>\n",
       "      <td>&lt;=50K</td>\n",
       "    </tr>\n",
       "    <tr>\n",
       "      <th>48483</th>\n",
       "      <td>19</td>\n",
       "      <td>Private</td>\n",
       "      <td>9</td>\n",
       "      <td>Never-married</td>\n",
       "      <td>NaN</td>\n",
       "      <td>Own-child</td>\n",
       "      <td>White</td>\n",
       "      <td>Male</td>\n",
       "      <td>0</td>\n",
       "      <td>0</td>\n",
       "      <td>40</td>\n",
       "      <td>United-States</td>\n",
       "      <td>&lt;=50K</td>\n",
       "    </tr>\n",
       "    <tr>\n",
       "      <th>48485</th>\n",
       "      <td>17</td>\n",
       "      <td>Private</td>\n",
       "      <td>9</td>\n",
       "      <td>Never-married</td>\n",
       "      <td>NaN</td>\n",
       "      <td>Own-child</td>\n",
       "      <td>White</td>\n",
       "      <td>Male</td>\n",
       "      <td>0</td>\n",
       "      <td>0</td>\n",
       "      <td>14</td>\n",
       "      <td>United-States</td>\n",
       "      <td>&lt;=50K</td>\n",
       "    </tr>\n",
       "    <tr>\n",
       "      <th>48513</th>\n",
       "      <td>58</td>\n",
       "      <td>Private</td>\n",
       "      <td>7</td>\n",
       "      <td>Divorced</td>\n",
       "      <td>NaN</td>\n",
       "      <td>Unmarried</td>\n",
       "      <td>Black</td>\n",
       "      <td>Female</td>\n",
       "      <td>0</td>\n",
       "      <td>0</td>\n",
       "      <td>32</td>\n",
       "      <td>United-States</td>\n",
       "      <td>&lt;=50K</td>\n",
       "    </tr>\n",
       "    <tr>\n",
       "      <th>48544</th>\n",
       "      <td>18</td>\n",
       "      <td>Private</td>\n",
       "      <td>9</td>\n",
       "      <td>Never-married</td>\n",
       "      <td>NaN</td>\n",
       "      <td>Own-child</td>\n",
       "      <td>White</td>\n",
       "      <td>Male</td>\n",
       "      <td>0</td>\n",
       "      <td>0</td>\n",
       "      <td>15</td>\n",
       "      <td>United-States</td>\n",
       "      <td>&lt;=50K</td>\n",
       "    </tr>\n",
       "    <tr>\n",
       "      <th>48549</th>\n",
       "      <td>20</td>\n",
       "      <td>Private</td>\n",
       "      <td>9</td>\n",
       "      <td>Never-married</td>\n",
       "      <td>NaN</td>\n",
       "      <td>Not-in-family</td>\n",
       "      <td>White</td>\n",
       "      <td>Female</td>\n",
       "      <td>0</td>\n",
       "      <td>0</td>\n",
       "      <td>40</td>\n",
       "      <td>United-States</td>\n",
       "      <td>&lt;=50K</td>\n",
       "    </tr>\n",
       "    <tr>\n",
       "      <th>48553</th>\n",
       "      <td>22</td>\n",
       "      <td>Private</td>\n",
       "      <td>10</td>\n",
       "      <td>Never-married</td>\n",
       "      <td>NaN</td>\n",
       "      <td>Not-in-family</td>\n",
       "      <td>White</td>\n",
       "      <td>Female</td>\n",
       "      <td>0</td>\n",
       "      <td>1974</td>\n",
       "      <td>40</td>\n",
       "      <td>United-States</td>\n",
       "      <td>&lt;=50K</td>\n",
       "    </tr>\n",
       "    <tr>\n",
       "      <th>48562</th>\n",
       "      <td>18</td>\n",
       "      <td>Private</td>\n",
       "      <td>10</td>\n",
       "      <td>Never-married</td>\n",
       "      <td>NaN</td>\n",
       "      <td>Not-in-family</td>\n",
       "      <td>Asian-Pac-Islander</td>\n",
       "      <td>Female</td>\n",
       "      <td>0</td>\n",
       "      <td>0</td>\n",
       "      <td>16</td>\n",
       "      <td>United-States</td>\n",
       "      <td>&lt;=50K</td>\n",
       "    </tr>\n",
       "    <tr>\n",
       "      <th>48567</th>\n",
       "      <td>76</td>\n",
       "      <td>Private</td>\n",
       "      <td>9</td>\n",
       "      <td>Divorced</td>\n",
       "      <td>NaN</td>\n",
       "      <td>Not-in-family</td>\n",
       "      <td>White</td>\n",
       "      <td>Female</td>\n",
       "      <td>0</td>\n",
       "      <td>0</td>\n",
       "      <td>3</td>\n",
       "      <td>United-States</td>\n",
       "      <td>&lt;=50K</td>\n",
       "    </tr>\n",
       "    <tr>\n",
       "      <th>48579</th>\n",
       "      <td>21</td>\n",
       "      <td>Private</td>\n",
       "      <td>10</td>\n",
       "      <td>Never-married</td>\n",
       "      <td>NaN</td>\n",
       "      <td>Own-child</td>\n",
       "      <td>White</td>\n",
       "      <td>Female</td>\n",
       "      <td>0</td>\n",
       "      <td>0</td>\n",
       "      <td>38</td>\n",
       "      <td>United-States</td>\n",
       "      <td>&lt;=50K</td>\n",
       "    </tr>\n",
       "    <tr>\n",
       "      <th>48593</th>\n",
       "      <td>56</td>\n",
       "      <td>Private</td>\n",
       "      <td>14</td>\n",
       "      <td>Married-civ-spouse</td>\n",
       "      <td>NaN</td>\n",
       "      <td>Husband</td>\n",
       "      <td>White</td>\n",
       "      <td>Male</td>\n",
       "      <td>0</td>\n",
       "      <td>0</td>\n",
       "      <td>40</td>\n",
       "      <td>United-States</td>\n",
       "      <td>&gt;50K</td>\n",
       "    </tr>\n",
       "    <tr>\n",
       "      <th>48596</th>\n",
       "      <td>19</td>\n",
       "      <td>Private</td>\n",
       "      <td>9</td>\n",
       "      <td>Never-married</td>\n",
       "      <td>NaN</td>\n",
       "      <td>Own-child</td>\n",
       "      <td>White</td>\n",
       "      <td>Male</td>\n",
       "      <td>0</td>\n",
       "      <td>0</td>\n",
       "      <td>44</td>\n",
       "      <td>United-States</td>\n",
       "      <td>&lt;=50K</td>\n",
       "    </tr>\n",
       "    <tr>\n",
       "      <th>48678</th>\n",
       "      <td>21</td>\n",
       "      <td>Private</td>\n",
       "      <td>10</td>\n",
       "      <td>Never-married</td>\n",
       "      <td>NaN</td>\n",
       "      <td>Other-relative</td>\n",
       "      <td>White</td>\n",
       "      <td>Female</td>\n",
       "      <td>0</td>\n",
       "      <td>0</td>\n",
       "      <td>52</td>\n",
       "      <td>United-States</td>\n",
       "      <td>&lt;=50K</td>\n",
       "    </tr>\n",
       "    <tr>\n",
       "      <th>48682</th>\n",
       "      <td>61</td>\n",
       "      <td>Private</td>\n",
       "      <td>10</td>\n",
       "      <td>Married-civ-spouse</td>\n",
       "      <td>NaN</td>\n",
       "      <td>Husband</td>\n",
       "      <td>White</td>\n",
       "      <td>Male</td>\n",
       "      <td>0</td>\n",
       "      <td>0</td>\n",
       "      <td>14</td>\n",
       "      <td>United-States</td>\n",
       "      <td>&lt;=50K</td>\n",
       "    </tr>\n",
       "    <tr>\n",
       "      <th>48769</th>\n",
       "      <td>21</td>\n",
       "      <td>Private</td>\n",
       "      <td>10</td>\n",
       "      <td>Never-married</td>\n",
       "      <td>NaN</td>\n",
       "      <td>Own-child</td>\n",
       "      <td>White</td>\n",
       "      <td>Female</td>\n",
       "      <td>0</td>\n",
       "      <td>0</td>\n",
       "      <td>30</td>\n",
       "      <td>United-States</td>\n",
       "      <td>&lt;=50K</td>\n",
       "    </tr>\n",
       "    <tr>\n",
       "      <th>48800</th>\n",
       "      <td>73</td>\n",
       "      <td>Private</td>\n",
       "      <td>9</td>\n",
       "      <td>Married-civ-spouse</td>\n",
       "      <td>NaN</td>\n",
       "      <td>Husband</td>\n",
       "      <td>White</td>\n",
       "      <td>Male</td>\n",
       "      <td>0</td>\n",
       "      <td>0</td>\n",
       "      <td>25</td>\n",
       "      <td>Canada</td>\n",
       "      <td>&lt;=50K</td>\n",
       "    </tr>\n",
       "    <tr>\n",
       "      <th>48812</th>\n",
       "      <td>81</td>\n",
       "      <td>Private</td>\n",
       "      <td>11</td>\n",
       "      <td>Married-civ-spouse</td>\n",
       "      <td>NaN</td>\n",
       "      <td>Husband</td>\n",
       "      <td>White</td>\n",
       "      <td>Male</td>\n",
       "      <td>2936</td>\n",
       "      <td>0</td>\n",
       "      <td>20</td>\n",
       "      <td>United-States</td>\n",
       "      <td>&lt;=50K</td>\n",
       "    </tr>\n",
       "    <tr>\n",
       "      <th>48838</th>\n",
       "      <td>64</td>\n",
       "      <td>Private</td>\n",
       "      <td>9</td>\n",
       "      <td>Widowed</td>\n",
       "      <td>NaN</td>\n",
       "      <td>Other-relative</td>\n",
       "      <td>Black</td>\n",
       "      <td>Male</td>\n",
       "      <td>0</td>\n",
       "      <td>0</td>\n",
       "      <td>40</td>\n",
       "      <td>United-States</td>\n",
       "      <td>&lt;=50K</td>\n",
       "    </tr>\n",
       "  </tbody>\n",
       "</table>\n",
       "<p>2809 rows × 13 columns</p>\n",
       "</div>"
      ],
      "text/plain": [
       "       age workclass  education-num         marital-status occupation  \\\n",
       "27      54   Private             10     Married-civ-spouse        NaN   \n",
       "61      32   Private              4  Married-spouse-absent        NaN   \n",
       "69      25   Private             10          Never-married        NaN   \n",
       "77      67   Private              6     Married-civ-spouse        NaN   \n",
       "106     17   Private              6          Never-married        NaN   \n",
       "128     35   Private              9     Married-civ-spouse        NaN   \n",
       "149     43   Private             10               Divorced        NaN   \n",
       "154     52   Private              9               Divorced        NaN   \n",
       "160     68   Private              2               Divorced        NaN   \n",
       "187     53   Private             13               Divorced        NaN   \n",
       "201     19   Private              9          Never-married        NaN   \n",
       "221     64   Private              2               Divorced        NaN   \n",
       "226     60   Private              6               Divorced        NaN   \n",
       "243     20   Private             10          Never-married        NaN   \n",
       "266     19   Private             10          Never-married        NaN   \n",
       "297     39   Private             14     Married-civ-spouse        NaN   \n",
       "312     19   Private             10          Never-married        NaN   \n",
       "326     23   Private             11          Never-married        NaN   \n",
       "346     67   Private              7     Married-civ-spouse        NaN   \n",
       "347     30   Private             11               Divorced        NaN   \n",
       "354     59   Private             13     Married-civ-spouse        NaN   \n",
       "397     20   Private              9          Never-married        NaN   \n",
       "408     28   Private             10     Married-civ-spouse        NaN   \n",
       "430     80   Private              9                Widowed        NaN   \n",
       "431     17   Private              7          Never-married        NaN   \n",
       "449     17   Private              7          Never-married        NaN   \n",
       "459     32   Private             10     Married-civ-spouse        NaN   \n",
       "471     22   Private             10          Never-married        NaN   \n",
       "484     52   Private              8          Never-married        NaN   \n",
       "486     63   Private              2     Married-civ-spouse        NaN   \n",
       "...    ...       ...            ...                    ...        ...   \n",
       "48393   41   Private             10               Divorced        NaN   \n",
       "48397   42   Private             13     Married-civ-spouse        NaN   \n",
       "48400   72   Private              9     Married-civ-spouse        NaN   \n",
       "48407   17   Private              8          Never-married        NaN   \n",
       "48412   26   Private              9               Divorced        NaN   \n",
       "48417   57   Private             13          Never-married        NaN   \n",
       "48422   39   Private             13               Divorced        NaN   \n",
       "48425   39   Private              9               Divorced        NaN   \n",
       "48437   17   Private              4          Never-married        NaN   \n",
       "48440   18   Private              8          Never-married        NaN   \n",
       "48470   41   Private             12     Married-civ-spouse        NaN   \n",
       "48473   68   Private             10     Married-civ-spouse        NaN   \n",
       "48477   24   Private              4          Never-married        NaN   \n",
       "48483   19   Private              9          Never-married        NaN   \n",
       "48485   17   Private              9          Never-married        NaN   \n",
       "48513   58   Private              7               Divorced        NaN   \n",
       "48544   18   Private              9          Never-married        NaN   \n",
       "48549   20   Private              9          Never-married        NaN   \n",
       "48553   22   Private             10          Never-married        NaN   \n",
       "48562   18   Private             10          Never-married        NaN   \n",
       "48567   76   Private              9               Divorced        NaN   \n",
       "48579   21   Private             10          Never-married        NaN   \n",
       "48593   56   Private             14     Married-civ-spouse        NaN   \n",
       "48596   19   Private              9          Never-married        NaN   \n",
       "48678   21   Private             10          Never-married        NaN   \n",
       "48682   61   Private             10     Married-civ-spouse        NaN   \n",
       "48769   21   Private             10          Never-married        NaN   \n",
       "48800   73   Private              9     Married-civ-spouse        NaN   \n",
       "48812   81   Private             11     Married-civ-spouse        NaN   \n",
       "48838   64   Private              9                Widowed        NaN   \n",
       "\n",
       "         relationship                race     sex  capital-gain  capital-loss  \\\n",
       "27            Husband  Asian-Pac-Islander    Male             0             0   \n",
       "61      Not-in-family               White    Male             0             0   \n",
       "69          Own-child               White    Male             0             0   \n",
       "77            Husband               White    Male             0             0   \n",
       "106         Own-child               White  Female         34095             0   \n",
       "128           Husband               White    Male             0             0   \n",
       "149     Not-in-family               White  Female             0             0   \n",
       "154     Not-in-family               White    Male             0             0   \n",
       "160     Not-in-family               White  Female             0             0   \n",
       "187     Not-in-family               White  Female             0             0   \n",
       "201         Own-child               White    Male             0             0   \n",
       "221     Not-in-family               White    Male             0             0   \n",
       "226     Not-in-family  Amer-Indian-Eskimo  Female             0             0   \n",
       "243         Own-child               White    Male             0             0   \n",
       "266         Own-child               White    Male             0             0   \n",
       "297              Wife  Asian-Pac-Islander  Female          3464             0   \n",
       "312         Own-child               Black  Female             0             0   \n",
       "326         Own-child               Black  Female             0             0   \n",
       "346           Husband               White    Male             0             0   \n",
       "347         Unmarried               White  Female             0             0   \n",
       "354           Husband               White    Male             0             0   \n",
       "397    Other-relative               White  Female             0             0   \n",
       "408              Wife               White  Female             0          1887   \n",
       "430     Not-in-family               White    Male             0             0   \n",
       "431         Own-child               White    Male             0             0   \n",
       "449         Own-child               White  Female             0             0   \n",
       "459           Husband               White    Male             0             0   \n",
       "471         Own-child               White    Male             0             0   \n",
       "484    Other-relative               Black    Male           594             0   \n",
       "486           Husband               White    Male             0             0   \n",
       "...               ...                 ...     ...           ...           ...   \n",
       "48393   Not-in-family               White    Male             0          1504   \n",
       "48397            Wife               White  Female             0             0   \n",
       "48400         Husband               White    Male             0             0   \n",
       "48407       Own-child               White    Male             0             0   \n",
       "48412   Not-in-family               White  Female             0             0   \n",
       "48417   Not-in-family               Black  Female             0             0   \n",
       "48422       Own-child               Black  Female             0             0   \n",
       "48425       Unmarried               White  Female             0             0   \n",
       "48437       Own-child               White  Female             0             0   \n",
       "48440       Own-child               White    Male             0             0   \n",
       "48470         Husband               White    Male             0             0   \n",
       "48473         Husband               White    Male             0          1648   \n",
       "48477   Not-in-family               White  Female             0             0   \n",
       "48483       Own-child               White    Male             0             0   \n",
       "48485       Own-child               White    Male             0             0   \n",
       "48513       Unmarried               Black  Female             0             0   \n",
       "48544       Own-child               White    Male             0             0   \n",
       "48549   Not-in-family               White  Female             0             0   \n",
       "48553   Not-in-family               White  Female             0          1974   \n",
       "48562   Not-in-family  Asian-Pac-Islander  Female             0             0   \n",
       "48567   Not-in-family               White  Female             0             0   \n",
       "48579       Own-child               White  Female             0             0   \n",
       "48593         Husband               White    Male             0             0   \n",
       "48596       Own-child               White    Male             0             0   \n",
       "48678  Other-relative               White  Female             0             0   \n",
       "48682         Husband               White    Male             0             0   \n",
       "48769       Own-child               White  Female             0             0   \n",
       "48800         Husband               White    Male             0             0   \n",
       "48812         Husband               White    Male          2936             0   \n",
       "48838  Other-relative               Black    Male             0             0   \n",
       "\n",
       "       hours-per-week native-country income  \n",
       "27                 60          South   >50K  \n",
       "61                 40  United-States  <=50K  \n",
       "69                 40  United-States  <=50K  \n",
       "77                  2  United-States  <=50K  \n",
       "106                32  United-States  <=50K  \n",
       "128                40  United-States  <=50K  \n",
       "149                40  United-States  <=50K  \n",
       "154                45  United-States   >50K  \n",
       "160                20  United-States  <=50K  \n",
       "187                50  United-States  <=50K  \n",
       "201                40          Italy  <=50K  \n",
       "221                40  United-States  <=50K  \n",
       "226                10  United-States  <=50K  \n",
       "243                20  United-States  <=50K  \n",
       "266                24         Canada  <=50K  \n",
       "297                40  United-States  <=50K  \n",
       "312                25  United-States  <=50K  \n",
       "326                15  United-States  <=50K  \n",
       "346                 8  United-States  <=50K  \n",
       "347                40  United-States  <=50K  \n",
       "354                40  United-States   >50K  \n",
       "397                35  United-States  <=50K  \n",
       "408                40  United-States   >50K  \n",
       "430                24  United-States  <=50K  \n",
       "431                40  United-States  <=50K  \n",
       "449                 5  United-States  <=50K  \n",
       "459                40  United-States  <=50K  \n",
       "471                40  United-States  <=50K  \n",
       "484                40  United-States  <=50K  \n",
       "486                35  United-States  <=50K  \n",
       "...               ...            ...    ...  \n",
       "48393              40  United-States  <=50K  \n",
       "48397              28  United-States   >50K  \n",
       "48400               8  United-States  <=50K  \n",
       "48407              30  United-States  <=50K  \n",
       "48412              15  United-States  <=50K  \n",
       "48417              35  United-States  <=50K  \n",
       "48422              40  United-States  <=50K  \n",
       "48425              16  United-States  <=50K  \n",
       "48437              15  United-States  <=50K  \n",
       "48440              10  United-States  <=50K  \n",
       "48470              99  United-States  <=50K  \n",
       "48473              10  United-States   >50K  \n",
       "48477              25  United-States  <=50K  \n",
       "48483              40  United-States  <=50K  \n",
       "48485              14  United-States  <=50K  \n",
       "48513              32  United-States  <=50K  \n",
       "48544              15  United-States  <=50K  \n",
       "48549              40  United-States  <=50K  \n",
       "48553              40  United-States  <=50K  \n",
       "48562              16  United-States  <=50K  \n",
       "48567               3  United-States  <=50K  \n",
       "48579              38  United-States  <=50K  \n",
       "48593              40  United-States   >50K  \n",
       "48596              44  United-States  <=50K  \n",
       "48678              52  United-States  <=50K  \n",
       "48682              14  United-States  <=50K  \n",
       "48769              30  United-States  <=50K  \n",
       "48800              25         Canada  <=50K  \n",
       "48812              20  United-States  <=50K  \n",
       "48838              40  United-States  <=50K  \n",
       "\n",
       "[2809 rows x 13 columns]"
      ]
     },
     "execution_count": 86,
     "metadata": {},
     "output_type": "execute_result"
    }
   ],
   "source": [
    "df[df.isnull().any(axis=1)]"
   ]
  },
  {
   "cell_type": "code",
   "execution_count": 87,
   "metadata": {
    "ExecuteTime": {
     "end_time": "2019-03-25T21:34:59.420020Z",
     "start_time": "2019-03-25T21:34:59.306262Z"
    }
   },
   "outputs": [
    {
     "data": {
      "text/html": [
       "<div>\n",
       "<style scoped>\n",
       "    .dataframe tbody tr th:only-of-type {\n",
       "        vertical-align: middle;\n",
       "    }\n",
       "\n",
       "    .dataframe tbody tr th {\n",
       "        vertical-align: top;\n",
       "    }\n",
       "\n",
       "    .dataframe thead th {\n",
       "        text-align: right;\n",
       "    }\n",
       "</style>\n",
       "<table border=\"1\" class=\"dataframe\">\n",
       "  <thead>\n",
       "    <tr style=\"text-align: right;\">\n",
       "      <th></th>\n",
       "      <th>age</th>\n",
       "      <th>workclass</th>\n",
       "      <th>education-num</th>\n",
       "      <th>marital-status</th>\n",
       "      <th>occupation</th>\n",
       "      <th>relationship</th>\n",
       "      <th>race</th>\n",
       "      <th>sex</th>\n",
       "      <th>capital-gain</th>\n",
       "      <th>capital-loss</th>\n",
       "      <th>hours-per-week</th>\n",
       "      <th>native-country</th>\n",
       "      <th>income</th>\n",
       "    </tr>\n",
       "  </thead>\n",
       "  <tbody>\n",
       "  </tbody>\n",
       "</table>\n",
       "</div>"
      ],
      "text/plain": [
       "Empty DataFrame\n",
       "Columns: [age, workclass, education-num, marital-status, occupation, relationship, race, sex, capital-gain, capital-loss, hours-per-week, native-country, income]\n",
       "Index: []"
      ]
     },
     "execution_count": 87,
     "metadata": {},
     "output_type": "execute_result"
    }
   ],
   "source": [
    "df.dropna(inplace=True)\n",
    "df[pd.isnull(df).any(axis=1)]"
   ]
  },
  {
   "cell_type": "markdown",
   "metadata": {},
   "source": [
    "# Transforming Categorical Features"
   ]
  },
  {
   "cell_type": "code",
   "execution_count": 88,
   "metadata": {
    "ExecuteTime": {
     "end_time": "2019-03-25T21:34:59.521889Z",
     "start_time": "2019-03-25T21:34:59.423877Z"
    }
   },
   "outputs": [],
   "source": [
    "tdf = pd.get_dummies(df, columns=[\n",
    "    'workclass', \n",
    "    'marital-status', \n",
    "    'occupation', \n",
    "    'relationship', \n",
    "    'race', \n",
    "    'sex',\n",
    "    'native-country',\n",
    "], drop_first=True)"
   ]
  },
  {
   "cell_type": "code",
   "execution_count": 254,
   "metadata": {
    "ExecuteTime": {
     "end_time": "2019-03-25T23:51:45.571524Z",
     "start_time": "2019-03-25T23:51:45.491512Z"
    }
   },
   "outputs": [
    {
     "name": "stdout",
     "output_type": "stream",
     "text": [
      "<class 'pandas.core.frame.DataFrame'>\n",
      "Int64Index: 46033 entries, 0 to 48841\n",
      "Data columns (total 81 columns):\n",
      "age                                          46033 non-null int64\n",
      "education-num                                46033 non-null int64\n",
      "capital-gain                                 46033 non-null int64\n",
      "capital-loss                                 46033 non-null int64\n",
      "hours-per-week                               46033 non-null int64\n",
      "income                                       46033 non-null object\n",
      "workclass_Local-gov                          46033 non-null uint8\n",
      "workclass_Private                            46033 non-null uint8\n",
      "workclass_Self-emp-inc                       46033 non-null uint8\n",
      "workclass_Self-emp-not-inc                   46033 non-null uint8\n",
      "workclass_State-gov                          46033 non-null uint8\n",
      "workclass_Without-pay                        46033 non-null uint8\n",
      "marital-status_Married-AF-spouse             46033 non-null uint8\n",
      "marital-status_Married-civ-spouse            46033 non-null uint8\n",
      "marital-status_Married-spouse-absent         46033 non-null uint8\n",
      "marital-status_Never-married                 46033 non-null uint8\n",
      "marital-status_Separated                     46033 non-null uint8\n",
      "marital-status_Widowed                       46033 non-null uint8\n",
      "occupation_Armed-Forces                      46033 non-null uint8\n",
      "occupation_Craft-repair                      46033 non-null uint8\n",
      "occupation_Exec-managerial                   46033 non-null uint8\n",
      "occupation_Farming-fishing                   46033 non-null uint8\n",
      "occupation_Handlers-cleaners                 46033 non-null uint8\n",
      "occupation_Machine-op-inspct                 46033 non-null uint8\n",
      "occupation_Other-service                     46033 non-null uint8\n",
      "occupation_Priv-house-serv                   46033 non-null uint8\n",
      "occupation_Prof-specialty                    46033 non-null uint8\n",
      "occupation_Protective-serv                   46033 non-null uint8\n",
      "occupation_Sales                             46033 non-null uint8\n",
      "occupation_Tech-support                      46033 non-null uint8\n",
      "occupation_Transport-moving                  46033 non-null uint8\n",
      "relationship_Not-in-family                   46033 non-null uint8\n",
      "relationship_Other-relative                  46033 non-null uint8\n",
      "relationship_Own-child                       46033 non-null uint8\n",
      "relationship_Unmarried                       46033 non-null uint8\n",
      "relationship_Wife                            46033 non-null uint8\n",
      "race_Asian-Pac-Islander                      46033 non-null uint8\n",
      "race_Black                                   46033 non-null uint8\n",
      "race_Other                                   46033 non-null uint8\n",
      "race_White                                   46033 non-null uint8\n",
      "sex_Male                                     46033 non-null uint8\n",
      "native-country_Canada                        46033 non-null uint8\n",
      "native-country_China                         46033 non-null uint8\n",
      "native-country_Columbia                      46033 non-null uint8\n",
      "native-country_Cuba                          46033 non-null uint8\n",
      "native-country_Dominican-Republic            46033 non-null uint8\n",
      "native-country_Ecuador                       46033 non-null uint8\n",
      "native-country_El-Salvador                   46033 non-null uint8\n",
      "native-country_England                       46033 non-null uint8\n",
      "native-country_France                        46033 non-null uint8\n",
      "native-country_Germany                       46033 non-null uint8\n",
      "native-country_Greece                        46033 non-null uint8\n",
      "native-country_Guatemala                     46033 non-null uint8\n",
      "native-country_Haiti                         46033 non-null uint8\n",
      "native-country_Holand-Netherlands            46033 non-null uint8\n",
      "native-country_Honduras                      46033 non-null uint8\n",
      "native-country_Hong                          46033 non-null uint8\n",
      "native-country_Hungary                       46033 non-null uint8\n",
      "native-country_India                         46033 non-null uint8\n",
      "native-country_Iran                          46033 non-null uint8\n",
      "native-country_Ireland                       46033 non-null uint8\n",
      "native-country_Italy                         46033 non-null uint8\n",
      "native-country_Jamaica                       46033 non-null uint8\n",
      "native-country_Japan                         46033 non-null uint8\n",
      "native-country_Laos                          46033 non-null uint8\n",
      "native-country_Mexico                        46033 non-null uint8\n",
      "native-country_Nicaragua                     46033 non-null uint8\n",
      "native-country_Outlying-US(Guam-USVI-etc)    46033 non-null uint8\n",
      "native-country_Peru                          46033 non-null uint8\n",
      "native-country_Philippines                   46033 non-null uint8\n",
      "native-country_Poland                        46033 non-null uint8\n",
      "native-country_Portugal                      46033 non-null uint8\n",
      "native-country_Puerto-Rico                   46033 non-null uint8\n",
      "native-country_Scotland                      46033 non-null uint8\n",
      "native-country_South                         46033 non-null uint8\n",
      "native-country_Taiwan                        46033 non-null uint8\n",
      "native-country_Thailand                      46033 non-null uint8\n",
      "native-country_Trinadad&Tobago               46033 non-null uint8\n",
      "native-country_United-States                 46033 non-null uint8\n",
      "native-country_Vietnam                       46033 non-null uint8\n",
      "native-country_Yugoslavia                    46033 non-null uint8\n",
      "dtypes: int64(5), object(1), uint8(75)\n",
      "memory usage: 5.8+ MB\n"
     ]
    }
   ],
   "source": [
    "tdf.info()"
   ]
  },
  {
   "cell_type": "markdown",
   "metadata": {},
   "source": [
    "# Train-Test Split"
   ]
  },
  {
   "cell_type": "code",
   "execution_count": 255,
   "metadata": {
    "ExecuteTime": {
     "end_time": "2019-03-25T23:51:50.260560Z",
     "start_time": "2019-03-25T23:51:50.257560Z"
    }
   },
   "outputs": [],
   "source": [
    "from sklearn.model_selection import train_test_split"
   ]
  },
  {
   "cell_type": "markdown",
   "metadata": {},
   "source": [
    "Split the dataframe into features (X) and labels(y)"
   ]
  },
  {
   "cell_type": "code",
   "execution_count": 256,
   "metadata": {
    "ExecuteTime": {
     "end_time": "2019-03-25T23:51:51.644168Z",
     "start_time": "2019-03-25T23:51:51.635168Z"
    }
   },
   "outputs": [],
   "source": [
    "X = tdf.drop('income', axis=1)\n",
    "y = tdf['income']"
   ]
  },
  {
   "cell_type": "markdown",
   "metadata": {},
   "source": [
    "Put aside 20% of features to test, train with remaining 80%"
   ]
  },
  {
   "cell_type": "code",
   "execution_count": 257,
   "metadata": {
    "ExecuteTime": {
     "end_time": "2019-03-25T23:51:53.168895Z",
     "start_time": "2019-03-25T23:51:53.149844Z"
    }
   },
   "outputs": [],
   "source": [
    "X_train, X_test, y_train, y_test = train_test_split(X, y, test_size=0.20, random_state=42)"
   ]
  },
  {
   "cell_type": "markdown",
   "metadata": {},
   "source": [
    "# Feature Selection"
   ]
  },
  {
   "cell_type": "markdown",
   "metadata": {},
   "source": [
    "Now our problem is we have 81 variables to predict a single one. Many of these variables will have absolutely no impact on the income of our citizens, but will add a lot of useless noise to the regression, and may even make it not converge\n",
    "\n",
    "We use a little trick called SelectKBest that will give us the k=30 best features based on a standard statistical score. In this case, we use Pearson's Chi Squared test."
   ]
  },
  {
   "cell_type": "code",
   "execution_count": 258,
   "metadata": {
    "ExecuteTime": {
     "end_time": "2019-03-25T23:51:56.146098Z",
     "start_time": "2019-03-25T23:51:56.142090Z"
    }
   },
   "outputs": [],
   "source": [
    "from sklearn.feature_selection import SelectKBest, chi2"
   ]
  },
  {
   "cell_type": "code",
   "execution_count": 259,
   "metadata": {
    "ExecuteTime": {
     "end_time": "2019-03-25T23:51:57.508136Z",
     "start_time": "2019-03-25T23:51:57.406074Z"
    }
   },
   "outputs": [
    {
     "data": {
      "text/plain": [
       "SelectKBest(k=30, score_func=<function chi2 at 0x0000025347D28840>)"
      ]
     },
     "execution_count": 259,
     "metadata": {},
     "output_type": "execute_result"
    }
   ],
   "source": [
    "feature_select = SelectKBest(chi2, k=30)\n",
    "feature_select.fit(X_train, y_train)"
   ]
  },
  {
   "cell_type": "code",
   "execution_count": 260,
   "metadata": {
    "ExecuteTime": {
     "end_time": "2019-03-25T23:51:58.302242Z",
     "start_time": "2019-03-25T23:51:58.296240Z"
    }
   },
   "outputs": [
    {
     "data": {
      "text/plain": [
       "[(97439756.56032205, 'capital-gain'),\n",
       " (1448406.7428189695, 'capital-loss'),\n",
       " (9462.601460382255, 'age'),\n",
       " (6839.383931709429, 'hours-per-week'),\n",
       " (3914.86662396489, 'marital-status_Married-civ-spouse'),\n",
       " (2668.3940945167124, 'education-num'),\n",
       " (2544.771381963572, 'marital-status_Never-married'),\n",
       " (1559.7925775095136, 'relationship_Own-child'),\n",
       " (1355.1683313345168, 'occupation_Exec-managerial'),\n",
       " (1143.1292793482025, 'occupation_Prof-specialty'),\n",
       " (1029.789840010216, 'relationship_Not-in-family'),\n",
       " (884.9017854358567, 'occupation_Other-service'),\n",
       " (713.2319103143001, 'relationship_Unmarried'),\n",
       " (637.450705031886, 'workclass_Self-emp-inc'),\n",
       " (552.6279906149472, 'sex_Male'),\n",
       " (519.8162652164983, 'relationship_Wife'),\n",
       " (291.0938486875709, 'occupation_Handlers-cleaners'),\n",
       " (282.96805622430776, 'race_Black'),\n",
       " (257.5673573513839, 'relationship_Other-relative'),\n",
       " (214.5843814737926, 'occupation_Machine-op-inspct'),\n",
       " (190.33510893132097, 'marital-status_Separated'),\n",
       " (143.99203369161523, 'marital-status_Widowed'),\n",
       " (142.14273723295898, 'native-country_Mexico'),\n",
       " (127.77323080011223, 'workclass_Private'),\n",
       " (103.81341799440673, 'occupation_Farming-fishing'),\n",
       " (56.700772237213116, 'marital-status_Married-spouse-absent'),\n",
       " (56.385338213858404, 'occupation_Priv-house-serv'),\n",
       " (35.58760203364912, 'race_White'),\n",
       " (27.592291470490366, 'workclass_Local-gov'),\n",
       " (25.541849364947982, 'race_Other')]"
      ]
     },
     "execution_count": 260,
     "metadata": {},
     "output_type": "execute_result"
    }
   ],
   "source": [
    "uni_features = list(zip(feature_select.scores_, X_train.columns))\n",
    "sorted(uni_features, reverse=True)[0:30]"
   ]
  },
  {
   "cell_type": "code",
   "execution_count": 261,
   "metadata": {
    "ExecuteTime": {
     "end_time": "2019-03-25T23:51:59.114121Z",
     "start_time": "2019-03-25T23:51:59.089381Z"
    }
   },
   "outputs": [],
   "source": [
    "X_train_1 = feature_select.transform(X_train)\n",
    "X_test_1 = feature_select.transform(X_test)"
   ]
  },
  {
   "cell_type": "markdown",
   "metadata": {},
   "source": [
    "# Utility Functions"
   ]
  },
  {
   "cell_type": "code",
   "execution_count": 262,
   "metadata": {
    "ExecuteTime": {
     "end_time": "2019-03-25T23:52:06.266941Z",
     "start_time": "2019-03-25T23:52:06.263924Z"
    }
   },
   "outputs": [],
   "source": [
    "from sklearn.metrics import accuracy_score, confusion_matrix, f1_score, classification_report, roc_auc_score, roc_curve"
   ]
  },
  {
   "cell_type": "code",
   "execution_count": 263,
   "metadata": {
    "ExecuteTime": {
     "end_time": "2019-03-25T23:52:07.120768Z",
     "start_time": "2019-03-25T23:52:07.116767Z"
    }
   },
   "outputs": [],
   "source": [
    "def plot_metrics(classifier, full_data = False):\n",
    "    prediction = classifier.predict(X_test if full_data else X_test_1)\n",
    "    print('Accuracy is: %0.3f' % accuracy_score(y_test, prediction))\n",
    "    print('F1 Score is: %0.3f' % f1_score(y_test, prediction, pos_label=\">50K\"))\n",
    "    print(classification_report(y_test, prediction))\n",
    "    sns.heatmap(confusion_matrix(y_test, prediction), annot=True, fmt=\"d\")\n",
    "    plt.show()"
   ]
  },
  {
   "cell_type": "code",
   "execution_count": 276,
   "metadata": {
    "ExecuteTime": {
     "end_time": "2019-03-26T00:22:47.372251Z",
     "start_time": "2019-03-26T00:22:47.355030Z"
    }
   },
   "outputs": [],
   "source": [
    "def plot_roc_curve(classifier, full_data = False):\n",
    "    fpr, tpr, thresholds = roc_curve(y_test, classifier.predict_proba(X_test if full_data else X_test_1)[:,1], pos_label=\">50K\")\n",
    "    plt.figure()\n",
    "    plt.plot(fpr, tpr, label='%s (area = %0.3f)' % (type(classifier).__name__, \n",
    "                                                    roc_auc_score(y_test, classifier.predict(X_test if full_data else X_test_1)==\">50K\")))\n",
    "    plt.plot([0, 1], [0, 1],'r--')\n",
    "    plt.xlim([-0.05, 1.05])\n",
    "    plt.ylim([0.0, 1.05])\n",
    "    plt.xlabel('False Positive Rate = 1 - Specificity')\n",
    "    plt.ylabel('True Positive Rate = Recall')\n",
    "    plt.title('Receiver operating characteristic')\n",
    "    plt.legend(loc=\"lower right\")\n",
    "    plt.show()"
   ]
  },
  {
   "cell_type": "code",
   "execution_count": 277,
   "metadata": {
    "ExecuteTime": {
     "end_time": "2019-03-26T00:22:47.393251Z",
     "start_time": "2019-03-26T00:22:47.374255Z"
    }
   },
   "outputs": [],
   "source": [
    "def plot_cap_curve(classifier, full_data = False):\n",
    "    from scipy import integrate\n",
    "    y_preds_proba = classifier.predict_proba(X_test if full_data else X_test_1)[:,1]\n",
    "    y_values = y_test==\">50K\"\n",
    "    num_pos_obs = np.sum(y_values)\n",
    "    num_count = len(y_values)\n",
    "    rate_pos_obs = float(num_pos_obs) / float(num_count)\n",
    "    ideal = pd.DataFrame({'x':[0,rate_pos_obs,1],'y':[0,1,1]})\n",
    "    xx = np.arange(num_count) / float(num_count - 1)\n",
    "    \n",
    "    y_cap = np.c_[y_values,y_preds_proba]\n",
    "    y_cap_df_s = pd.DataFrame(data=y_cap)\n",
    "    y_cap_df_s = y_cap_df_s.sort_values([1], ascending=False).reset_index(level = y_cap_df_s.index.names, drop=True)\n",
    "    \n",
    "    #print(y_cap_df_s.head(20))\n",
    "    \n",
    "    yy = np.cumsum(y_cap_df_s[0]) / float(num_pos_obs)\n",
    "    yy = np.append([0], yy[0:num_count-1]) #add the first curve point (0,0) : for xx=0 we have yy=0\n",
    "    \n",
    "    percent = 0.5\n",
    "    row_index = int(np.trunc(num_count * percent))\n",
    "    \n",
    "    val_y1 = yy[row_index]\n",
    "    val_y2 = yy[row_index+1]\n",
    "    if val_y1 == val_y2:\n",
    "        val = val_y1*1.0\n",
    "    else:\n",
    "        val_x1 = xx[row_index]\n",
    "        val_x2 = xx[row_index+1]\n",
    "        val = val_y1 + ((val_x2 - percent)/(val_x2 - val_x1))*(val_y2 - val_y1)\n",
    "    \n",
    "    sigma_ideal = 1 * xx[num_pos_obs - 1 ] / 2 + (xx[num_count - 1] - xx[num_pos_obs]) * 1\n",
    "    sigma_model = integrate.simps(yy,xx)\n",
    "    sigma_random = integrate.simps(xx,xx)\n",
    "    \n",
    "    ar_value = (sigma_model - sigma_random) / (sigma_ideal - sigma_random)\n",
    "    \n",
    "    fig, ax = plt.subplots(nrows = 1, ncols = 1)\n",
    "    ax.plot(ideal['x'],ideal['y'], color='dimgrey', label='Perfect Model')\n",
    "    ax.plot(xx,yy, color='red', label=type(classifier).__name__)\n",
    "    ax.plot(xx,xx, color='blue', label='Random Model')\n",
    "    ax.plot([percent, percent], [0.0, val], color='green', linestyle='--', linewidth=1)\n",
    "    ax.plot([0, percent], [val, val], color='green', linestyle='--', linewidth=1, label='%0.3f%% of positive obs at %0.1f%%' % (val*100, percent*100))\n",
    "    \n",
    "    plt.xlim(-0.05, 1.05)\n",
    "    plt.ylim(0, 1.05)\n",
    "    plt.title(\"CAP Curve - a_r value = %0.3f\" % ar_value)\n",
    "    plt.xlabel('% of the data')\n",
    "    plt.ylabel('% of positive obs')\n",
    "    plt.legend()\n",
    "    plt.show()"
   ]
  },
  {
   "cell_type": "code",
   "execution_count": 266,
   "metadata": {
    "ExecuteTime": {
     "end_time": "2019-03-25T23:52:09.950000Z",
     "start_time": "2019-03-25T23:52:09.946997Z"
    }
   },
   "outputs": [],
   "source": [
    "from sklearn.externals import joblib\n",
    "\n",
    "def persist_classifier(classifier):\n",
    "    joblib.dump(classifier, 'models/' + type(classifier).__name__ + '.pkl')\n",
    "    joblib.dump(feature_select, 'models/feature_select.pkl')\n",
    "    joblib.dump(list(X.columns), 'models/columns.pkl')"
   ]
  },
  {
   "cell_type": "code",
   "execution_count": 267,
   "metadata": {
    "ExecuteTime": {
     "end_time": "2019-03-25T23:52:10.674717Z",
     "start_time": "2019-03-25T23:52:10.671747Z"
    }
   },
   "outputs": [],
   "source": [
    "def classify_and_plot(classifier, full_data = False):\n",
    "    classifier.fit(X_train if full_data else X_train_1, y_train)\n",
    "    plot_metrics(classifier, full_data)\n",
    "    plot_roc_curve(classifier, full_data)\n",
    "    plot_cap_curve(classifier, full_data)\n",
    "    persist_classifier(classifier)\n",
    "    return classifier"
   ]
  },
  {
   "cell_type": "markdown",
   "metadata": {
    "ExecuteTime": {
     "end_time": "2019-03-25T21:22:30.867372Z",
     "start_time": "2019-03-25T21:22:30.862640Z"
    }
   },
   "source": [
    "# Classic Data Science Classifiers"
   ]
  },
  {
   "cell_type": "markdown",
   "metadata": {},
   "source": [
    "## Logistic Regression Classifier"
   ]
  },
  {
   "cell_type": "code",
   "execution_count": 268,
   "metadata": {
    "ExecuteTime": {
     "end_time": "2019-03-25T23:52:14.671954Z",
     "start_time": "2019-03-25T23:52:13.740914Z"
    }
   },
   "outputs": [
    {
     "name": "stdout",
     "output_type": "stream",
     "text": [
      "Accuracy is: 0.844\n",
      "F1 Score is: 0.650\n",
      "              precision    recall  f1-score   support\n",
      "\n",
      "       <=50K       0.87      0.93      0.90      6933\n",
      "        >50K       0.73      0.59      0.65      2274\n",
      "\n",
      "   micro avg       0.84      0.84      0.84      9207\n",
      "   macro avg       0.80      0.76      0.77      9207\n",
      "weighted avg       0.84      0.84      0.84      9207\n",
      "\n"
     ]
    },
    {
     "data": {
      "image/png": "[encoded data removed]",
      "text/plain": [
       "<Figure size 432x288 with 2 Axes>"
      ]
     },
     "metadata": {
      "needs_background": "light"
     },
     "output_type": "display_data"
    },
    {
     "data": {
      "image/png": "[encoded data removed]",
      "text/plain": [
       "<Figure size 432x288 with 1 Axes>"
      ]
     },
     "metadata": {
      "needs_background": "light"
     },
     "output_type": "display_data"
    },
    {
     "data": {
      "image/png": "[encoded data removed]",
      "text/plain": [
       "<Figure size 432x288 with 1 Axes>"
      ]
     },
     "metadata": {
      "needs_background": "light"
     },
     "output_type": "display_data"
    },
    {
     "data": {
      "text/plain": [
       "LogisticRegression(C=1.0, class_weight=None, dual=False, fit_intercept=True,\n",
       "          intercept_scaling=1, max_iter=100, multi_class='warn',\n",
       "          n_jobs=None, penalty='l2', random_state=None, solver='liblinear',\n",
       "          tol=0.0001, verbose=0, warm_start=False)"
      ]
     },
     "execution_count": 268,
     "metadata": {},
     "output_type": "execute_result"
    }
   ],
   "source": [
    "from sklearn.linear_model import LogisticRegression\n",
    "classify_and_plot(LogisticRegression(solver='liblinear'))"
   ]
  },
  {
   "cell_type": "markdown",
   "metadata": {},
   "source": [
    "## Decision Tree Classifier"
   ]
  },
  {
   "cell_type": "code",
   "execution_count": 252,
   "metadata": {
    "ExecuteTime": {
     "end_time": "2019-03-25T23:50:36.368888Z",
     "start_time": "2019-03-25T23:50:35.600709Z"
    }
   },
   "outputs": [
    {
     "name": "stdout",
     "output_type": "stream",
     "text": [
      "Accuracy is: 0.814\n",
      "F1 Score is: 0.620\n",
      "              precision    recall  f1-score   support\n",
      "\n",
      "       <=50K       0.87      0.88      0.88      6933\n",
      "        >50K       0.63      0.61      0.62      2274\n",
      "\n",
      "   micro avg       0.81      0.81      0.81      9207\n",
      "   macro avg       0.75      0.75      0.75      9207\n",
      "weighted avg       0.81      0.81      0.81      9207\n",
      "\n"
     ]
    },
    {
     "data": {
      "image/png": "[encoded data removed]",
      "text/plain": [
       "<Figure size 432x288 with 2 Axes>"
      ]
     },
     "metadata": {
      "needs_background": "light"
     },
     "output_type": "display_data"
    },
    {
     "data": {
      "image/png": "[encoded data removed]",
      "text/plain": [
       "<Figure size 432x288 with 1 Axes>"
      ]
     },
     "metadata": {
      "needs_background": "light"
     },
     "output_type": "display_data"
    },
    {
     "data": {
      "image/png": "[encoded data removed]",
      "text/plain": [
       "<Figure size 432x288 with 1 Axes>"
      ]
     },
     "metadata": {
      "needs_background": "light"
     },
     "output_type": "display_data"
    },
    {
     "data": {
      "text/plain": [
       "DecisionTreeClassifier(class_weight=None, criterion='gini', max_depth=None,\n",
       "            max_features=None, max_leaf_nodes=None,\n",
       "            min_impurity_decrease=0.0, min_impurity_split=None,\n",
       "            min_samples_leaf=1, min_samples_split=2,\n",
       "            min_weight_fraction_leaf=0.0, presort=False, random_state=None,\n",
       "            splitter='best')"
      ]
     },
     "execution_count": 252,
     "metadata": {},
     "output_type": "execute_result"
    }
   ],
   "source": [
    "from sklearn.tree import DecisionTreeClassifier\n",
    "classify_and_plot(DecisionTreeClassifier())"
   ]
  },
  {
   "cell_type": "code",
   "execution_count": 250,
   "metadata": {
    "ExecuteTime": {
     "end_time": "2019-03-25T23:49:57.844619Z",
     "start_time": "2019-03-25T23:49:57.840619Z"
    }
   },
   "outputs": [
    {
     "data": {
      "text/plain": [
       "'\\n!{sys.executable} -m pip install --quiet pydotplus\\nfrom sklearn.externals.six import StringIO  \\nfrom sklearn.tree import export_graphviz\\nimport pydotplus\\n\\ndot_data = StringIO()\\nexport_graphviz(_, out_file=dot_data, filled=True, rounded=True, special_characters=True)\\ngraph = pydotplus.graph_from_dot_data(dot_data.getvalue())  \\ngraph.write_pdf(\"tree.pdf\")\\n'"
      ]
     },
     "execution_count": 250,
     "metadata": {},
     "output_type": "execute_result"
    }
   ],
   "source": [
    "'''\n",
    "!{sys.executable} -m pip install --quiet pydotplus\n",
    "from sklearn.externals.six import StringIO  \n",
    "from sklearn.tree import export_graphviz\n",
    "import pydotplus\n",
    "\n",
    "dot_data = StringIO()\n",
    "export_graphviz(_, out_file=dot_data, filled=True, rounded=True, special_characters=True)\n",
    "graph = pydotplus.graph_from_dot_data(dot_data.getvalue())  \n",
    "graph.write_pdf(\"tree.pdf\")\n",
    "'''"
   ]
  },
  {
   "cell_type": "markdown",
   "metadata": {},
   "source": [
    "## Random Forest Classifier"
   ]
  },
  {
   "cell_type": "code",
   "execution_count": 182,
   "metadata": {
    "ExecuteTime": {
     "end_time": "2019-03-25T22:00:30.875591Z",
     "start_time": "2019-03-25T22:00:28.535476Z"
    }
   },
   "outputs": [
    {
     "name": "stdout",
     "output_type": "stream",
     "text": [
      "Accuracy is: 0.841\n",
      "F1 Score is: 0.655\n",
      "              precision    recall  f1-score   support\n",
      "\n",
      "       <=50K       0.88      0.92      0.90      6933\n",
      "        >50K       0.70      0.61      0.66      2274\n",
      "\n",
      "   micro avg       0.84      0.84      0.84      9207\n",
      "   macro avg       0.79      0.76      0.78      9207\n",
      "weighted avg       0.84      0.84      0.84      9207\n",
      "\n"
     ]
    },
    {
     "data": {
      "image/png": "[encoded data removed]",
      "text/plain": [
       "<Figure size 432x288 with 2 Axes>"
      ]
     },
     "metadata": {
      "needs_background": "light"
     },
     "output_type": "display_data"
    },
    {
     "data": {
      "image/png": "[encoded data removed]",
      "text/plain": [
       "<Figure size 432x288 with 1 Axes>"
      ]
     },
     "metadata": {
      "needs_background": "light"
     },
     "output_type": "display_data"
    },
    {
     "data": {
      "image/png": "[encoded data removed]",
      "text/plain": [
       "<Figure size 432x288 with 1 Axes>"
      ]
     },
     "metadata": {
      "needs_background": "light"
     },
     "output_type": "display_data"
    },
    {
     "data": {
      "text/plain": [
       "RandomForestClassifier(bootstrap=True, class_weight=None, criterion='gini',\n",
       "            max_depth=None, max_features='auto', max_leaf_nodes=None,\n",
       "            min_impurity_decrease=0.0, min_impurity_split=None,\n",
       "            min_samples_leaf=1, min_samples_split=2,\n",
       "            min_weight_fraction_leaf=0.0, n_estimators=10, n_jobs=None,\n",
       "            oob_score=False, random_state=None, verbose=0,\n",
       "            warm_start=False)"
      ]
     },
     "execution_count": 182,
     "metadata": {},
     "output_type": "execute_result"
    }
   ],
   "source": [
    "from sklearn.ensemble import RandomForestClassifier\n",
    "classify_and_plot(RandomForestClassifier(n_estimators=10))"
   ]
  },
  {
   "cell_type": "markdown",
   "metadata": {},
   "source": [
    "## Gradient Boosted Trees"
   ]
  },
  {
   "cell_type": "code",
   "execution_count": 183,
   "metadata": {
    "ExecuteTime": {
     "end_time": "2019-03-25T22:02:29.206284Z",
     "start_time": "2019-03-25T22:00:30.880572Z"
    }
   },
   "outputs": [
    {
     "name": "stdout",
     "output_type": "stream",
     "text": [
      "Accuracy is: 0.847\n",
      "F1 Score is: 0.675\n",
      "              precision    recall  f1-score   support\n",
      "\n",
      "       <=50K       0.89      0.91      0.90      6933\n",
      "        >50K       0.71      0.64      0.67      2274\n",
      "\n",
      "   micro avg       0.85      0.85      0.85      9207\n",
      "   macro avg       0.80      0.78      0.79      9207\n",
      "weighted avg       0.84      0.85      0.84      9207\n",
      "\n"
     ]
    },
    {
     "data": {
      "image/png": "[encoded data removed]",
      "text/plain": [
       "<Figure size 432x288 with 2 Axes>"
      ]
     },
     "metadata": {
      "needs_background": "light"
     },
     "output_type": "display_data"
    },
    {
     "data": {
      "image/png": "[encoded data removed]",
      "text/plain": [
       "<Figure size 432x288 with 1 Axes>"
      ]
     },
     "metadata": {
      "needs_background": "light"
     },
     "output_type": "display_data"
    },
    {
     "data": {
      "image/png": "[encoded data removed]",
      "text/plain": [
       "<Figure size 432x288 with 1 Axes>"
      ]
     },
     "metadata": {
      "needs_background": "light"
     },
     "output_type": "display_data"
    },
    {
     "data": {
      "text/plain": [
       "XGBClassifier(base_score=0.5, booster='gbtree', colsample_bylevel=1,\n",
       "       colsample_bytree=1, gamma=0, learning_rate=0.1, max_delta_step=0,\n",
       "       max_depth=100, min_child_weight=1, missing=None, n_estimators=100,\n",
       "       n_jobs=1, nthread=None, objective='binary:logistic', random_state=0,\n",
       "       reg_alpha=0, reg_lambda=1, scale_pos_weight=1, seed=None,\n",
       "       silent=True, subsample=1)"
      ]
     },
     "execution_count": 183,
     "metadata": {},
     "output_type": "execute_result"
    }
   ],
   "source": [
    "import xgboost as xkg\n",
    "classify_and_plot(xkg.XGBClassifier(max_depth=100))"
   ]
  },
  {
   "cell_type": "markdown",
   "metadata": {},
   "source": [
    "## Naive Bayes Classifier"
   ]
  },
  {
   "cell_type": "code",
   "execution_count": 278,
   "metadata": {
    "ExecuteTime": {
     "end_time": "2019-03-26T00:22:57.478482Z",
     "start_time": "2019-03-26T00:22:56.794517Z"
    }
   },
   "outputs": [
    {
     "name": "stdout",
     "output_type": "stream",
     "text": [
      "Accuracy is: 0.822\n",
      "F1 Score is: 0.670\n",
      "              precision    recall  f1-score   support\n",
      "\n",
      "       <=50K       0.91      0.85      0.88      6933\n",
      "        >50K       0.62      0.73      0.67      2274\n",
      "\n",
      "   micro avg       0.82      0.82      0.82      9207\n",
      "   macro avg       0.76      0.79      0.77      9207\n",
      "weighted avg       0.84      0.82      0.83      9207\n",
      "\n"
     ]
    },
    {
     "data": {
      "image/png": "[encoded data removed]",
      "text/plain": [
       "<Figure size 432x288 with 2 Axes>"
      ]
     },
     "metadata": {
      "needs_background": "light"
     },
     "output_type": "display_data"
    },
    {
     "data": {
      "image/png": "[encoded data removed]",
      "text/plain": [
       "<Figure size 432x288 with 1 Axes>"
      ]
     },
     "metadata": {
      "needs_background": "light"
     },
     "output_type": "display_data"
    },
    {
     "data": {
      "image/png": "[encoded data removed]",
      "text/plain": [
       "<Figure size 432x288 with 1 Axes>"
      ]
     },
     "metadata": {
      "needs_background": "light"
     },
     "output_type": "display_data"
    },
    {
     "data": {
      "text/plain": [
       "GaussianNB(priors=[0.75, 0.25], var_smoothing=1e-09)"
      ]
     },
     "execution_count": 278,
     "metadata": {},
     "output_type": "execute_result"
    }
   ],
   "source": [
    "from sklearn.naive_bayes import GaussianNB\n",
    "classify_and_plot(GaussianNB(priors=[0.75, 0.25]))"
   ]
  },
  {
   "cell_type": "code",
   "execution_count": 279,
   "metadata": {
    "ExecuteTime": {
     "end_time": "2019-03-26T00:23:12.455347Z",
     "start_time": "2019-03-26T00:23:11.671577Z"
    }
   },
   "outputs": [
    {
     "name": "stdout",
     "output_type": "stream",
     "text": [
      "Accuracy is: 0.825\n",
      "F1 Score is: 0.674\n",
      "              precision    recall  f1-score   support\n",
      "\n",
      "       <=50K       0.91      0.86      0.88      6933\n",
      "        >50K       0.62      0.73      0.67      2274\n",
      "\n",
      "   micro avg       0.82      0.82      0.82      9207\n",
      "   macro avg       0.77      0.79      0.78      9207\n",
      "weighted avg       0.84      0.82      0.83      9207\n",
      "\n"
     ]
    },
    {
     "data": {
      "image/png": "[encoded data removed]",
      "text/plain": [
       "<Figure size 432x288 with 2 Axes>"
      ]
     },
     "metadata": {
      "needs_background": "light"
     },
     "output_type": "display_data"
    },
    {
     "data": {
      "image/png": "[encoded data removed]",
      "text/plain": [
       "<Figure size 432x288 with 1 Axes>"
      ]
     },
     "metadata": {
      "needs_background": "light"
     },
     "output_type": "display_data"
    },
    {
     "data": {
      "image/png": "[encoded data removed]",
      "text/plain": [
       "<Figure size 432x288 with 1 Axes>"
      ]
     },
     "metadata": {
      "needs_background": "light"
     },
     "output_type": "display_data"
    },
    {
     "data": {
      "text/plain": [
       "GaussianNB(priors=[0.75, 0.25], var_smoothing=1e-09)"
      ]
     },
     "execution_count": 279,
     "metadata": {},
     "output_type": "execute_result"
    }
   ],
   "source": [
    "classify_and_plot(GaussianNB(priors=[0.75, 0.25]), True)"
   ]
  },
  {
   "cell_type": "markdown",
   "metadata": {},
   "source": [
    "# Neural Networks"
   ]
  },
  {
   "cell_type": "markdown",
   "metadata": {},
   "source": [
    "## Multi-Layer Perceptron"
   ]
  },
  {
   "cell_type": "code",
   "execution_count": 219,
   "metadata": {
    "ExecuteTime": {
     "end_time": "2019-03-25T22:49:54.007628Z",
     "start_time": "2019-03-25T22:49:54.002631Z"
    }
   },
   "outputs": [],
   "source": [
    "from sklearn.preprocessing import StandardScaler\n",
    "from sklearn.pipeline import Pipeline\n",
    "from keras.models import Sequential\n",
    "from keras.layers import Dense, Dropout, Activation\n",
    "from keras.layers.advanced_activations import LeakyReLU\n",
    "from keras.wrappers.scikit_learn import KerasClassifier\n",
    "\n",
    "import tensorflow as tf\n",
    "import keras_metrics\n"
   ]
  },
  {
   "cell_type": "code",
   "execution_count": 272,
   "metadata": {
    "ExecuteTime": {
     "end_time": "2019-03-26T00:00:10.504197Z",
     "start_time": "2019-03-26T00:00:10.498197Z"
    }
   },
   "outputs": [],
   "source": [
    "def create_model():\n",
    "    model = Sequential()\n",
    "    model.add(Dense(40, kernel_initializer='normal', input_dim=80))\n",
    "    model.add(LeakyReLU(alpha=0.001))\n",
    "    model.add(Dropout(0.1))\n",
    "    model.add(Dense(20, kernel_initializer='normal'))\n",
    "    model.add(LeakyReLU(alpha=0.001))\n",
    "    model.add(Dropout(0.1))\n",
    "    model.add(Dense(1, kernel_initializer='normal', activation='sigmoid'))\n",
    "    model.compile(loss='binary_crossentropy', optimizer='adam', metrics=[\n",
    "        'accuracy', \n",
    "        keras_metrics.precision(), \n",
    "        keras_metrics.recall()\n",
    "    ])\n",
    "    return model"
   ]
  },
  {
   "cell_type": "code",
   "execution_count": 273,
   "metadata": {
    "ExecuteTime": {
     "end_time": "2019-03-26T00:00:11.126147Z",
     "start_time": "2019-03-26T00:00:11.120146Z"
    }
   },
   "outputs": [],
   "source": [
    "estimators = []\n",
    "estimators.append(('scaler', StandardScaler()))\n",
    "estimators.append(('mlp', KerasClassifier(build_fn=create_model, epochs=100, batch_size=5, verbose=1, validation_data=(X_test, y_test==\">50K\"))))\n",
    "pipeline = Pipeline(estimators)"
   ]
  },
  {
   "cell_type": "code",
   "execution_count": 274,
   "metadata": {
    "ExecuteTime": {
     "end_time": "2019-03-26T00:22:47.332021Z",
     "start_time": "2019-03-26T00:00:11.781450Z"
    }
   },
   "outputs": [
    {
     "name": "stderr",
     "output_type": "stream",
     "text": [
      "c:\\portableapps\\winpython\\python-3.7.0.amd64\\lib\\site-packages\\sklearn\\preprocessing\\data.py:645: DataConversionWarning: Data with input dtype uint8, int64 were all converted to float64 by StandardScaler.\n",
      "  return self.partial_fit(X, y)\n",
      "c:\\portableapps\\winpython\\python-3.7.0.amd64\\lib\\site-packages\\sklearn\\base.py:467: DataConversionWarning: Data with input dtype uint8, int64 were all converted to float64 by StandardScaler.\n",
      "  return self.fit(X, y, **fit_params).transform(X)\n"
     ]
    },
    {
     "name": "stdout",
     "output_type": "stream",
     "text": [
      "Train on 36826 samples, validate on 9207 samples\n",
      "Epoch 1/100\n",
      "36826/36826 [==============================] - 11s 292us/step - loss: 0.3457 - acc: 0.8383 - precision: 0.7202 - recall: 0.5709 - val_loss: 3.5228 - val_acc: 0.2763 - val_precision: 0.2538 - val_recall: 0.9947\n",
      "Epoch 2/100\n",
      "36826/36826 [==============================] - 11s 302us/step - loss: 0.3262 - acc: 0.8486 - precision: 0.7482 - recall: 0.5888 - val_loss: 1.8548 - val_acc: 0.4315 - val_precision: 0.2749 - val_recall: 0.7951\n",
      "Epoch 3/100\n",
      "36826/36826 [==============================] - 11s 306us/step - loss: 0.3232 - acc: 0.8495 - precision: 0.7455 - recall: 0.5984 - val_loss: 1.5591 - val_acc: 0.7542 - val_precision: 0.5039 - val_recall: 0.3140\n",
      "Epoch 4/100\n",
      "36826/36826 [==============================] - 12s 313us/step - loss: 0.3208 - acc: 0.8501 - precision: 0.7480 - recall: 0.5983 - val_loss: 1.5649 - val_acc: 0.7545 - val_precision: 0.5049 - val_recall: 0.3162\n",
      "Epoch 5/100\n",
      "36826/36826 [==============================] - 11s 307us/step - loss: 0.3196 - acc: 0.8525 - precision: 0.7515 - recall: 0.6071 - val_loss: 1.7545 - val_acc: 0.7761 - val_precision: 0.5882 - val_recall: 0.3122\n",
      "Epoch 6/100\n",
      "36826/36826 [==============================] - 11s 305us/step - loss: 0.3185 - acc: 0.8534 - precision: 0.7513 - recall: 0.6126 - val_loss: 1.7666 - val_acc: 0.7771 - val_precision: 0.5927 - val_recall: 0.3122\n",
      "Epoch 7/100\n",
      "36826/36826 [==============================] - 11s 310us/step - loss: 0.3176 - acc: 0.8521 - precision: 0.7503 - recall: 0.6066 - val_loss: 2.3343 - val_acc: 0.7771 - val_precision: 0.5927 - val_recall: 0.3122\n",
      "Epoch 8/100\n",
      "36826/36826 [==============================] - 11s 310us/step - loss: 0.3171 - acc: 0.8540 - precision: 0.7562 - recall: 0.6085 - val_loss: 1.8130 - val_acc: 0.7769 - val_precision: 0.5917 - val_recall: 0.3122\n",
      "Epoch 9/100\n",
      "36826/36826 [==============================] - 11s 312us/step - loss: 0.3154 - acc: 0.8547 - precision: 0.7558 - recall: 0.6134 - val_loss: 1.7446 - val_acc: 0.7771 - val_precision: 0.5927 - val_recall: 0.3122\n",
      "Epoch 10/100\n",
      "36826/36826 [==============================] - 12s 321us/step - loss: 0.3145 - acc: 0.8536 - precision: 0.7539 - recall: 0.6098 - val_loss: 1.4536 - val_acc: 0.7771 - val_precision: 0.5927 - val_recall: 0.3122\n",
      "Epoch 11/100\n",
      "36826/36826 [==============================] - 11s 308us/step - loss: 0.3142 - acc: 0.8543 - precision: 0.7556 - recall: 0.6113 - val_loss: 1.7947 - val_acc: 0.7771 - val_precision: 0.5927 - val_recall: 0.3122\n",
      "Epoch 12/100\n",
      "36826/36826 [==============================] - 12s 315us/step - loss: 0.3135 - acc: 0.8560 - precision: 0.7612 - recall: 0.6124 - val_loss: 1.6547 - val_acc: 0.7771 - val_precision: 0.5927 - val_recall: 0.3122\n",
      "Epoch 13/100\n",
      "36826/36826 [==============================] - 11s 312us/step - loss: 0.3136 - acc: 0.8565 - precision: 0.7601 - recall: 0.6172 - val_loss: 1.4735 - val_acc: 0.7771 - val_precision: 0.5927 - val_recall: 0.3122\n",
      "Epoch 14/100\n",
      "36826/36826 [==============================] - 12s 314us/step - loss: 0.3122 - acc: 0.8563 - precision: 0.7606 - recall: 0.6149 - val_loss: 1.5697 - val_acc: 0.7771 - val_precision: 0.5927 - val_recall: 0.3122\n",
      "Epoch 15/100\n",
      "36826/36826 [==============================] - 12s 335us/step - loss: 0.3113 - acc: 0.8573 - precision: 0.7624 - recall: 0.6181 - val_loss: 1.6049 - val_acc: 0.7771 - val_precision: 0.5927 - val_recall: 0.3122\n",
      "Epoch 16/100\n",
      "36826/36826 [==============================] - 12s 314us/step - loss: 0.3119 - acc: 0.8572 - precision: 0.7624 - recall: 0.6179 - val_loss: 1.7819 - val_acc: 0.7771 - val_precision: 0.5927 - val_recall: 0.3122\n",
      "Epoch 17/100\n",
      "36826/36826 [==============================] - 12s 321us/step - loss: 0.3101 - acc: 0.8576 - precision: 0.7655 - recall: 0.6150 - val_loss: 1.4763 - val_acc: 0.7771 - val_precision: 0.5927 - val_recall: 0.3122\n",
      "Epoch 18/100\n",
      "36826/36826 [==============================] - 12s 325us/step - loss: 0.3087 - acc: 0.8589 - precision: 0.7663 - recall: 0.6218 - val_loss: 1.7408 - val_acc: 0.7771 - val_precision: 0.5927 - val_recall: 0.3122\n",
      "Epoch 19/100\n",
      "36826/36826 [==============================] - 12s 319us/step - loss: 0.3089 - acc: 0.8590 - precision: 0.7684 - recall: 0.6192 - val_loss: 1.8286 - val_acc: 0.7771 - val_precision: 0.5927 - val_recall: 0.3122\n",
      "Epoch 20/100\n",
      "36826/36826 [==============================] - 12s 317us/step - loss: 0.3082 - acc: 0.8600 - precision: 0.7671 - recall: 0.6266 - val_loss: 1.3493 - val_acc: 0.7771 - val_precision: 0.5927 - val_recall: 0.3122\n",
      "Epoch 21/100\n",
      "36826/36826 [==============================] - 11s 310us/step - loss: 0.3076 - acc: 0.8581 - precision: 0.7641 - recall: 0.6202 - val_loss: 1.5915 - val_acc: 0.7771 - val_precision: 0.5927 - val_recall: 0.3122\n",
      "Epoch 22/100\n",
      "36826/36826 [==============================] - 11s 310us/step - loss: 0.3087 - acc: 0.8583 - precision: 0.7667 - recall: 0.6174 - val_loss: 1.3884 - val_acc: 0.7771 - val_precision: 0.5927 - val_recall: 0.3122\n",
      "Epoch 23/100\n",
      "36826/36826 [==============================] - 11s 311us/step - loss: 0.3072 - acc: 0.8598 - precision: 0.7678 - recall: 0.6243 - val_loss: 1.4204 - val_acc: 0.7771 - val_precision: 0.5927 - val_recall: 0.3122\n",
      "Epoch 24/100\n",
      "36826/36826 [==============================] - 12s 327us/step - loss: 0.3065 - acc: 0.8605 - precision: 0.7675 - recall: 0.6292 - val_loss: 1.5337 - val_acc: 0.7771 - val_precision: 0.5927 - val_recall: 0.3122\n",
      "Epoch 25/100\n",
      "36826/36826 [==============================] - 13s 342us/step - loss: 0.3059 - acc: 0.8618 - precision: 0.7723 - recall: 0.6289 - val_loss: 1.4682 - val_acc: 0.7771 - val_precision: 0.5927 - val_recall: 0.3122\n",
      "Epoch 26/100\n",
      "36826/36826 [==============================] - 12s 322us/step - loss: 0.3068 - acc: 0.8606 - precision: 0.7690 - recall: 0.6272 - val_loss: 1.3819 - val_acc: 0.7771 - val_precision: 0.5927 - val_recall: 0.3122\n",
      "Epoch 27/100\n",
      "36826/36826 [==============================] - 20s 539us/step - loss: 0.3058 - acc: 0.8621 - precision: 0.7764 - recall: 0.6247 - val_loss: 1.5396 - val_acc: 0.7771 - val_precision: 0.5927 - val_recall: 0.3122\n",
      "Epoch 28/100\n",
      "36826/36826 [==============================] - 21s 570us/step - loss: 0.3066 - acc: 0.8613 - precision: 0.7764 - recall: 0.6205 - val_loss: 1.3410 - val_acc: 0.7771 - val_precision: 0.5927 - val_recall: 0.3122\n",
      "Epoch 29/100\n",
      "36826/36826 [==============================] - 21s 574us/step - loss: 0.3065 - acc: 0.8607 - precision: 0.7737 - recall: 0.6209 - val_loss: 1.3657 - val_acc: 0.7771 - val_precision: 0.5927 - val_recall: 0.3122\n",
      "Epoch 30/100\n",
      "36826/36826 [==============================] - 21s 577us/step - loss: 0.3040 - acc: 0.8605 - precision: 0.7712 - recall: 0.6235 - val_loss: 1.3924 - val_acc: 0.7771 - val_precision: 0.5927 - val_recall: 0.3122\n",
      "Epoch 31/100\n",
      "36826/36826 [==============================] - 21s 576us/step - loss: 0.3042 - acc: 0.8621 - precision: 0.7708 - recall: 0.6329 - val_loss: 1.3467 - val_acc: 0.7771 - val_precision: 0.5927 - val_recall: 0.3122\n",
      "Epoch 32/100\n",
      "36826/36826 [==============================] - 21s 573us/step - loss: 0.3054 - acc: 0.8622 - precision: 0.7750 - recall: 0.6272 - val_loss: 1.3400 - val_acc: 0.7771 - val_precision: 0.5927 - val_recall: 0.3122\n",
      "Epoch 33/100\n",
      "36826/36826 [==============================] - 21s 580us/step - loss: 0.3052 - acc: 0.8610 - precision: 0.7748 - recall: 0.6212 - val_loss: 1.3419 - val_acc: 0.7771 - val_precision: 0.5927 - val_recall: 0.3122\n",
      "Epoch 34/100\n",
      "36826/36826 [==============================] - 21s 574us/step - loss: 0.3047 - acc: 0.8615 - precision: 0.7713 - recall: 0.6292 - val_loss: 1.5044 - val_acc: 0.7771 - val_precision: 0.5927 - val_recall: 0.3122\n",
      "Epoch 35/100\n",
      "36826/36826 [==============================] - 21s 579us/step - loss: 0.3048 - acc: 0.8616 - precision: 0.7704 - recall: 0.6310 - val_loss: 1.4873 - val_acc: 0.7771 - val_precision: 0.5927 - val_recall: 0.3122\n",
      "Epoch 36/100\n",
      "36826/36826 [==============================] - 21s 578us/step - loss: 0.3043 - acc: 0.8618 - precision: 0.7723 - recall: 0.6289 - val_loss: 1.3655 - val_acc: 0.7771 - val_precision: 0.5927 - val_recall: 0.3122\n",
      "Epoch 37/100\n"
     ]
    },
    {
     "name": "stdout",
     "output_type": "stream",
     "text": [
      "36826/36826 [==============================] - 20s 539us/step - loss: 0.3037 - acc: 0.8620 - precision: 0.7730 - recall: 0.6294 - val_loss: 1.3247 - val_acc: 0.7771 - val_precision: 0.5927 - val_recall: 0.3122\n",
      "Epoch 38/100\n",
      "36826/36826 [==============================] - 20s 553us/step - loss: 0.3038 - acc: 0.8627 - precision: 0.7774 - recall: 0.6267 - val_loss: 1.3265 - val_acc: 0.7771 - val_precision: 0.5927 - val_recall: 0.3122\n",
      "Epoch 39/100\n",
      "36826/36826 [==============================] - 21s 563us/step - loss: 0.3037 - acc: 0.8628 - precision: 0.7717 - recall: 0.6357 - val_loss: 1.5710 - val_acc: 0.7771 - val_precision: 0.5927 - val_recall: 0.3122\n",
      "Epoch 40/100\n",
      "36826/36826 [==============================] - 21s 558us/step - loss: 0.3027 - acc: 0.8642 - precision: 0.7775 - recall: 0.6352 - val_loss: 1.4917 - val_acc: 0.7771 - val_precision: 0.5927 - val_recall: 0.3122\n",
      "Epoch 41/100\n",
      "36826/36826 [==============================] - 21s 574us/step - loss: 0.3035 - acc: 0.8612 - precision: 0.7714 - recall: 0.6270 - val_loss: 1.4834 - val_acc: 0.7771 - val_precision: 0.5927 - val_recall: 0.3122\n",
      "Epoch 42/100\n",
      "36826/36826 [==============================] - 25s 679us/step - loss: 0.3029 - acc: 0.8627 - precision: 0.7730 - recall: 0.6333 - val_loss: 1.6702 - val_acc: 0.7771 - val_precision: 0.5927 - val_recall: 0.3122\n",
      "Epoch 43/100\n",
      "36826/36826 [==============================] - 21s 579us/step - loss: 0.3007 - acc: 0.8640 - precision: 0.7782 - recall: 0.6328 - val_loss: 1.8463 - val_acc: 0.7771 - val_precision: 0.5927 - val_recall: 0.3122\n",
      "Epoch 44/100\n",
      "36826/36826 [==============================] - 10s 273us/step - loss: 0.3026 - acc: 0.8631 - precision: 0.7718 - recall: 0.6371 - val_loss: 1.3950 - val_acc: 0.7771 - val_precision: 0.5927 - val_recall: 0.3122\n",
      "Epoch 45/100\n",
      "36826/36826 [==============================] - 12s 330us/step - loss: 0.3005 - acc: 0.8644 - precision: 0.7774 - recall: 0.6361 - val_loss: 1.6042 - val_acc: 0.7771 - val_precision: 0.5927 - val_recall: 0.3122\n",
      "Epoch 46/100\n",
      "36826/36826 [==============================] - 11s 310us/step - loss: 0.3010 - acc: 0.8657 - precision: 0.7804 - recall: 0.6395 - val_loss: 1.7279 - val_acc: 0.7771 - val_precision: 0.5927 - val_recall: 0.3122\n",
      "Epoch 47/100\n",
      "36826/36826 [==============================] - 12s 319us/step - loss: 0.3019 - acc: 0.8631 - precision: 0.7738 - recall: 0.6342 - val_loss: 1.5497 - val_acc: 0.7771 - val_precision: 0.5927 - val_recall: 0.3122\n",
      "Epoch 48/100\n",
      "36826/36826 [==============================] - 11s 310us/step - loss: 0.3015 - acc: 0.8631 - precision: 0.7755 - recall: 0.6317 - val_loss: 1.4698 - val_acc: 0.7771 - val_precision: 0.5927 - val_recall: 0.3122\n",
      "Epoch 49/100\n",
      "36826/36826 [==============================] - 11s 311us/step - loss: 0.3008 - acc: 0.8635 - precision: 0.7784 - recall: 0.6300 - val_loss: 1.3745 - val_acc: 0.7771 - val_precision: 0.5927 - val_recall: 0.3122\n",
      "Epoch 50/100\n",
      "36826/36826 [==============================] - 11s 311us/step - loss: 0.3004 - acc: 0.8646 - precision: 0.7784 - recall: 0.6361 - val_loss: 1.5984 - val_acc: 0.7771 - val_precision: 0.5927 - val_recall: 0.3122\n",
      "Epoch 51/100\n",
      "36826/36826 [==============================] - 11s 312us/step - loss: 0.3006 - acc: 0.8652 - precision: 0.7758 - recall: 0.6434 - val_loss: 1.5363 - val_acc: 0.7771 - val_precision: 0.5927 - val_recall: 0.3122\n",
      "Epoch 52/100\n",
      "36826/36826 [==============================] - 11s 300us/step - loss: 0.3018 - acc: 0.8637 - precision: 0.7755 - recall: 0.6353 - val_loss: 1.4222 - val_acc: 0.7771 - val_precision: 0.5927 - val_recall: 0.3122\n",
      "Epoch 53/100\n",
      "36826/36826 [==============================] - 13s 351us/step - loss: 0.3001 - acc: 0.8652 - precision: 0.7781 - recall: 0.6399 - val_loss: 1.3572 - val_acc: 0.7771 - val_precision: 0.5927 - val_recall: 0.3122\n",
      "Epoch 54/100\n",
      "36826/36826 [==============================] - 11s 303us/step - loss: 0.2993 - acc: 0.8651 - precision: 0.7746 - recall: 0.6446 - val_loss: 1.4677 - val_acc: 0.7771 - val_precision: 0.5927 - val_recall: 0.3122\n",
      "Epoch 55/100\n",
      "36826/36826 [==============================] - 12s 317us/step - loss: 0.3001 - acc: 0.8643 - precision: 0.7780 - recall: 0.6346 - val_loss: 1.5576 - val_acc: 0.7771 - val_precision: 0.5927 - val_recall: 0.3122\n",
      "Epoch 56/100\n",
      "36826/36826 [==============================] - 12s 319us/step - loss: 0.2979 - acc: 0.8665 - precision: 0.7793 - recall: 0.6451 - val_loss: 1.8132 - val_acc: 0.7771 - val_precision: 0.5927 - val_recall: 0.3122\n",
      "Epoch 57/100\n",
      "36826/36826 [==============================] - 12s 324us/step - loss: 0.3000 - acc: 0.8651 - precision: 0.7805 - recall: 0.6358 - val_loss: 1.5001 - val_acc: 0.7771 - val_precision: 0.5927 - val_recall: 0.3122\n",
      "Epoch 58/100\n",
      "36826/36826 [==============================] - 11s 298us/step - loss: 0.3001 - acc: 0.8656 - precision: 0.7797 - recall: 0.6397 - val_loss: 1.6635 - val_acc: 0.7771 - val_precision: 0.5927 - val_recall: 0.3122\n",
      "Epoch 59/100\n",
      "36826/36826 [==============================] - 11s 294us/step - loss: 0.3004 - acc: 0.8654 - precision: 0.7781 - recall: 0.6408 - val_loss: 1.8094 - val_acc: 0.7771 - val_precision: 0.5927 - val_recall: 0.3122\n",
      "Epoch 60/100\n",
      "36826/36826 [==============================] - 11s 308us/step - loss: 0.2990 - acc: 0.8646 - precision: 0.7789 - recall: 0.6350 - val_loss: 1.8376 - val_acc: 0.7771 - val_precision: 0.5927 - val_recall: 0.3122\n",
      "Epoch 61/100\n",
      "36826/36826 [==============================] - 11s 300us/step - loss: 0.2996 - acc: 0.8649 - precision: 0.7748 - recall: 0.6432 - val_loss: 2.3634 - val_acc: 0.7771 - val_precision: 0.5927 - val_recall: 0.3122\n",
      "Epoch 62/100\n",
      "36826/36826 [==============================] - 13s 356us/step - loss: 0.2998 - acc: 0.8643 - precision: 0.7765 - recall: 0.6371 - val_loss: 1.6902 - val_acc: 0.7771 - val_precision: 0.5927 - val_recall: 0.3122\n",
      "Epoch 63/100\n",
      "36826/36826 [==============================] - 12s 325us/step - loss: 0.2978 - acc: 0.8652 - precision: 0.7776 - recall: 0.6405 - val_loss: 1.7791 - val_acc: 0.7771 - val_precision: 0.5927 - val_recall: 0.3122\n",
      "Epoch 64/100\n",
      "36826/36826 [==============================] - 12s 323us/step - loss: 0.2985 - acc: 0.8650 - precision: 0.7777 - recall: 0.6392 - val_loss: 1.8934 - val_acc: 0.7771 - val_precision: 0.5927 - val_recall: 0.3122\n",
      "Epoch 65/100\n",
      "36826/36826 [==============================] - 12s 325us/step - loss: 0.2986 - acc: 0.8641 - precision: 0.7747 - recall: 0.6387 - val_loss: 2.1174 - val_acc: 0.7771 - val_precision: 0.5927 - val_recall: 0.3122\n",
      "Epoch 66/100\n",
      "36826/36826 [==============================] - 12s 325us/step - loss: 0.2989 - acc: 0.8655 - precision: 0.7789 - recall: 0.6405 - val_loss: 1.6863 - val_acc: 0.7771 - val_precision: 0.5927 - val_recall: 0.3122\n",
      "Epoch 67/100\n",
      "36826/36826 [==============================] - 12s 315us/step - loss: 0.2989 - acc: 0.8657 - precision: 0.7784 - recall: 0.6423 - val_loss: 2.3985 - val_acc: 0.7771 - val_precision: 0.5927 - val_recall: 0.3122\n",
      "Epoch 68/100\n",
      "36826/36826 [==============================] - 11s 311us/step - loss: 0.2994 - acc: 0.8647 - precision: 0.7781 - recall: 0.6372 - val_loss: 2.0690 - val_acc: 0.7771 - val_precision: 0.5927 - val_recall: 0.3122\n",
      "Epoch 69/100\n",
      "36826/36826 [==============================] - 12s 324us/step - loss: 0.2988 - acc: 0.8670 - precision: 0.7826 - recall: 0.6434 - val_loss: 2.1508 - val_acc: 0.7771 - val_precision: 0.5927 - val_recall: 0.3122\n",
      "Epoch 70/100\n",
      "36826/36826 [==============================] - 12s 326us/step - loss: 0.2981 - acc: 0.8662 - precision: 0.7793 - recall: 0.6435 - val_loss: 2.4926 - val_acc: 0.7771 - val_precision: 0.5927 - val_recall: 0.3122\n",
      "Epoch 71/100\n",
      "36826/36826 [==============================] - 12s 337us/step - loss: 0.2973 - acc: 0.8650 - precision: 0.7766 - recall: 0.6407 - val_loss: 2.4216 - val_acc: 0.7771 - val_precision: 0.5927 - val_recall: 0.3122\n",
      "Epoch 72/100\n",
      "36826/36826 [==============================] - 12s 335us/step - loss: 0.2988 - acc: 0.8660 - precision: 0.7799 - recall: 0.6419 - val_loss: 2.0843 - val_acc: 0.7771 - val_precision: 0.5927 - val_recall: 0.3122\n",
      "Epoch 73/100\n",
      "36826/36826 [==============================] - 12s 336us/step - loss: 0.2975 - acc: 0.8655 - precision: 0.7790 - recall: 0.6402 - val_loss: 2.0132 - val_acc: 0.7771 - val_precision: 0.5927 - val_recall: 0.3122\n"
     ]
    },
    {
     "name": "stdout",
     "output_type": "stream",
     "text": [
      "Epoch 74/100\n",
      "36826/36826 [==============================] - 13s 340us/step - loss: 0.2961 - acc: 0.8654 - precision: 0.7794 - recall: 0.6393 - val_loss: 1.7229 - val_acc: 0.7771 - val_precision: 0.5927 - val_recall: 0.3122\n",
      "Epoch 75/100\n",
      "36826/36826 [==============================] - 12s 331us/step - loss: 0.2977 - acc: 0.8663 - precision: 0.7819 - recall: 0.6407 - val_loss: 3.0153 - val_acc: 0.7771 - val_precision: 0.5927 - val_recall: 0.3122\n",
      "Epoch 76/100\n",
      "36826/36826 [==============================] - 12s 326us/step - loss: 0.2976 - acc: 0.8659 - precision: 0.7794 - recall: 0.6418 - val_loss: 2.0132 - val_acc: 0.7771 - val_precision: 0.5927 - val_recall: 0.3122\n",
      "Epoch 77/100\n",
      "36826/36826 [==============================] - 13s 341us/step - loss: 0.2954 - acc: 0.8659 - precision: 0.7809 - recall: 0.6395 - val_loss: 2.3368 - val_acc: 0.7771 - val_precision: 0.5927 - val_recall: 0.3122\n",
      "Epoch 78/100\n",
      "36826/36826 [==============================] - 14s 369us/step - loss: 0.2972 - acc: 0.8661 - precision: 0.7816 - recall: 0.6396 - val_loss: 2.8856 - val_acc: 0.7771 - val_precision: 0.5927 - val_recall: 0.3122\n",
      "Epoch 79/100\n",
      "36826/36826 [==============================] - 12s 338us/step - loss: 0.2970 - acc: 0.8650 - precision: 0.7760 - recall: 0.6416 - val_loss: 2.4174 - val_acc: 0.7771 - val_precision: 0.5927 - val_recall: 0.3122\n",
      "Epoch 80/100\n",
      "36826/36826 [==============================] - 13s 362us/step - loss: 0.2954 - acc: 0.8671 - precision: 0.7803 - recall: 0.6470 - val_loss: 2.3204 - val_acc: 0.7771 - val_precision: 0.5927 - val_recall: 0.3122\n",
      "Epoch 81/100\n",
      "36826/36826 [==============================] - 12s 325us/step - loss: 0.2957 - acc: 0.8670 - precision: 0.7811 - recall: 0.6456 - val_loss: 2.7223 - val_acc: 0.7771 - val_precision: 0.5927 - val_recall: 0.3122\n",
      "Epoch 82/100\n",
      "36826/36826 [==============================] - 12s 327us/step - loss: 0.2964 - acc: 0.8665 - precision: 0.7795 - recall: 0.6451 - val_loss: 2.7595 - val_acc: 0.7771 - val_precision: 0.5927 - val_recall: 0.3122\n",
      "Epoch 83/100\n",
      "36826/36826 [==============================] - 12s 324us/step - loss: 0.2969 - acc: 0.8662 - precision: 0.7784 - recall: 0.6447 - val_loss: 2.5659 - val_acc: 0.7771 - val_precision: 0.5927 - val_recall: 0.3122\n",
      "Epoch 84/100\n",
      "36826/36826 [==============================] - 12s 338us/step - loss: 0.2960 - acc: 0.8656 - precision: 0.7781 - recall: 0.6420 - val_loss: 2.2559 - val_acc: 0.7771 - val_precision: 0.5927 - val_recall: 0.3122\n",
      "Epoch 85/100\n",
      "36826/36826 [==============================] - 13s 346us/step - loss: 0.2962 - acc: 0.8676 - precision: 0.7823 - recall: 0.6471 - val_loss: 2.2431 - val_acc: 0.7771 - val_precision: 0.5927 - val_recall: 0.3122\n",
      "Epoch 86/100\n",
      "36826/36826 [==============================] - 12s 334us/step - loss: 0.2960 - acc: 0.8678 - precision: 0.7821 - recall: 0.6482 - val_loss: 2.0984 - val_acc: 0.7771 - val_precision: 0.5927 - val_recall: 0.3122\n",
      "Epoch 87/100\n",
      "36826/36826 [==============================] - 13s 343us/step - loss: 0.2955 - acc: 0.8667 - precision: 0.7812 - recall: 0.6437 - val_loss: 1.8698 - val_acc: 0.7771 - val_precision: 0.5927 - val_recall: 0.3122\n",
      "Epoch 88/100\n",
      "36826/36826 [==============================] - 12s 334us/step - loss: 0.2958 - acc: 0.8668 - precision: 0.7821 - recall: 0.6427 - val_loss: 1.8914 - val_acc: 0.7771 - val_precision: 0.5927 - val_recall: 0.3122\n",
      "Epoch 89/100\n",
      "36826/36826 [==============================] - 12s 332us/step - loss: 0.2967 - acc: 0.8655 - precision: 0.7784 - recall: 0.6411 - val_loss: 2.0515 - val_acc: 0.7771 - val_precision: 0.5927 - val_recall: 0.3122\n",
      "Epoch 90/100\n",
      "36826/36826 [==============================] - 13s 364us/step - loss: 0.2947 - acc: 0.8662 - precision: 0.7786 - recall: 0.6447 - val_loss: 2.3657 - val_acc: 0.7771 - val_precision: 0.5927 - val_recall: 0.3122\n",
      "Epoch 91/100\n",
      "36826/36826 [==============================] - 12s 331us/step - loss: 0.2956 - acc: 0.8671 - precision: 0.7833 - recall: 0.6427 - val_loss: 2.6732 - val_acc: 0.7771 - val_precision: 0.5927 - val_recall: 0.3122\n",
      "Epoch 92/100\n",
      "36826/36826 [==============================] - 13s 345us/step - loss: 0.2959 - acc: 0.8669 - precision: 0.7824 - recall: 0.6431 - val_loss: 2.6049 - val_acc: 0.7771 - val_precision: 0.5927 - val_recall: 0.3122\n",
      "Epoch 93/100\n",
      "36826/36826 [==============================] - 13s 341us/step - loss: 0.2947 - acc: 0.8687 - precision: 0.7855 - recall: 0.6487 - val_loss: 2.3280 - val_acc: 0.7771 - val_precision: 0.5927 - val_recall: 0.3122\n",
      "Epoch 94/100\n",
      "36826/36826 [==============================] - 12s 338us/step - loss: 0.2944 - acc: 0.8680 - precision: 0.7841 - recall: 0.6468 - val_loss: 2.6914 - val_acc: 0.7771 - val_precision: 0.5927 - val_recall: 0.3122\n",
      "Epoch 95/100\n",
      "36826/36826 [==============================] - 12s 329us/step - loss: 0.2955 - acc: 0.8676 - precision: 0.7818 - recall: 0.6476 - val_loss: 1.9711 - val_acc: 0.7771 - val_precision: 0.5927 - val_recall: 0.3122\n",
      "Epoch 96/100\n",
      "36826/36826 [==============================] - 13s 342us/step - loss: 0.2952 - acc: 0.8681 - precision: 0.7845 - recall: 0.6465 - val_loss: 2.1342 - val_acc: 0.7771 - val_precision: 0.5927 - val_recall: 0.3122\n",
      "Epoch 97/100\n",
      "36826/36826 [==============================] - 12s 334us/step - loss: 0.2939 - acc: 0.8676 - precision: 0.7836 - recall: 0.6451 - val_loss: 2.8384 - val_acc: 0.7771 - val_precision: 0.5927 - val_recall: 0.3122\n",
      "Epoch 98/100\n",
      "36826/36826 [==============================] - 12s 331us/step - loss: 0.2945 - acc: 0.8665 - precision: 0.7766 - recall: 0.6492 - val_loss: 2.2017 - val_acc: 0.7771 - val_precision: 0.5927 - val_recall: 0.3122\n",
      "Epoch 99/100\n",
      "36826/36826 [==============================] - 12s 327us/step - loss: 0.2945 - acc: 0.8674 - precision: 0.7796 - recall: 0.6498 - val_loss: 2.2419 - val_acc: 0.7771 - val_precision: 0.5927 - val_recall: 0.3122\n",
      "Epoch 100/100\n",
      "36826/36826 [==============================] - 12s 331us/step - loss: 0.2952 - acc: 0.8684 - precision: 0.7834 - recall: 0.6498 - val_loss: 2.2483 - val_acc: 0.7771 - val_precision: 0.5927 - val_recall: 0.3122\n"
     ]
    },
    {
     "name": "stderr",
     "output_type": "stream",
     "text": [
      "c:\\portableapps\\winpython\\python-3.7.0.amd64\\lib\\site-packages\\sklearn\\pipeline.py:331: DataConversionWarning: Data with input dtype uint8, int64 were all converted to float64 by StandardScaler.\n",
      "  Xt = transform.transform(Xt)\n"
     ]
    },
    {
     "name": "stdout",
     "output_type": "stream",
     "text": [
      "9207/9207 [==============================] - 1s 133us/step\n",
      "Accuracy is: 0.851\n",
      "F1 Score is: 0.665\n",
      "              precision    recall  f1-score   support\n",
      "\n",
      "       <=50K       0.88      0.93      0.90      6933\n",
      "        >50K       0.75      0.60      0.67      2274\n",
      "\n",
      "   micro avg       0.85      0.85      0.85      9207\n",
      "   macro avg       0.81      0.77      0.78      9207\n",
      "weighted avg       0.84      0.85      0.85      9207\n",
      "\n"
     ]
    },
    {
     "data": {
      "image/png": "[encoded data removed]",
      "text/plain": [
       "<Figure size 432x288 with 2 Axes>"
      ]
     },
     "metadata": {
      "needs_background": "light"
     },
     "output_type": "display_data"
    },
    {
     "name": "stdout",
     "output_type": "stream",
     "text": [
      "1480/9207 [===>..........................] - ETA: 0s"
     ]
    },
    {
     "name": "stderr",
     "output_type": "stream",
     "text": [
      "c:\\portableapps\\winpython\\python-3.7.0.amd64\\lib\\site-packages\\sklearn\\pipeline.py:381: DataConversionWarning: Data with input dtype uint8, int64 were all converted to float64 by StandardScaler.\n",
      "  Xt = transform.transform(Xt)\n"
     ]
    },
    {
     "name": "stdout",
     "output_type": "stream",
     "text": [
      "9207/9207 [==============================] - ETA:  - 1s 96us/step\n",
      "1685/9207 [====>.........................] - ETA: 0s"
     ]
    },
    {
     "name": "stderr",
     "output_type": "stream",
     "text": [
      "c:\\portableapps\\winpython\\python-3.7.0.amd64\\lib\\site-packages\\sklearn\\pipeline.py:331: DataConversionWarning: Data with input dtype uint8, int64 were all converted to float64 by StandardScaler.\n",
      "  Xt = transform.transform(Xt)\n"
     ]
    },
    {
     "name": "stdout",
     "output_type": "stream",
     "text": [
      "9207/9207 [==============================] - 1s 90us/step\n"
     ]
    },
    {
     "data": {
      "image/png": "[encoded data removed]",
      "text/plain": [
       "<Figure size 432x288 with 1 Axes>"
      ]
     },
     "metadata": {
      "needs_background": "light"
     },
     "output_type": "display_data"
    },
    {
     "name": "stdout",
     "output_type": "stream",
     "text": [
      "1675/9207 [====>.........................] - ETA: 0s"
     ]
    },
    {
     "name": "stderr",
     "output_type": "stream",
     "text": [
      "c:\\portableapps\\winpython\\python-3.7.0.amd64\\lib\\site-packages\\sklearn\\pipeline.py:381: DataConversionWarning: Data with input dtype uint8, int64 were all converted to float64 by StandardScaler.\n",
      "  Xt = transform.transform(Xt)\n"
     ]
    },
    {
     "name": "stdout",
     "output_type": "stream",
     "text": [
      "9207/9207 [==============================] - 1s 91us/step\n"
     ]
    },
    {
     "data": {
      "image/png": "[encoded data removed]",
      "text/plain": [
       "<Figure size 432x288 with 1 Axes>"
      ]
     },
     "metadata": {
      "needs_background": "light"
     },
     "output_type": "display_data"
    },
    {
     "data": {
      "text/plain": [
       "Pipeline(memory=None,\n",
       "     steps=[('scaler', StandardScaler(copy=True, with_mean=True, with_std=True)), ('mlp', <keras.wrappers.scikit_learn.KerasClassifier object at 0x000002536CCAC278>)])"
      ]
     },
     "execution_count": 274,
     "metadata": {},
     "output_type": "execute_result"
    }
   ],
   "source": [
    "classify_and_plot(pipeline, True)"
   ]
  },
  {
   "cell_type": "code",
   "execution_count": null,
   "metadata": {},
   "outputs": [],
   "source": []
  }
 ],
 "metadata": {
  "kernelspec": {
   "display_name": "Python 3",
   "language": "python",
   "name": "python3"
  },
  "language_info": {
   "codemirror_mode": {
    "name": "ipython",
    "version": 3
   },
   "file_extension": ".py",
   "mimetype": "text/x-python",
   "name": "python",
   "nbconvert_exporter": "python",
   "pygments_lexer": "ipython3",
   "version": "3.7.0"
  },
  "notify_time": "10"
 },
 "nbformat": 4,
 "nbformat_minor": 2
}
