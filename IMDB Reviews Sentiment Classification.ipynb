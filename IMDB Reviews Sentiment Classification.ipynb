{
 "cells": [
  {
   "cell_type": "code",
   "execution_count": 1,
   "metadata": {
    "ExecuteTime": {
     "end_time": "2019-04-11T16:04:17.695281Z",
     "start_time": "2019-04-11T16:04:17.680283Z"
    }
   },
   "outputs": [
    {
     "data": {
      "text/html": [
       "<style> .container{ width:90%; } </style>"
      ],
      "text/plain": [
       "<IPython.core.display.HTML object>"
      ]
     },
     "execution_count": 1,
     "metadata": {},
     "output_type": "execute_result"
    }
   ],
   "source": [
    "from IPython.core.display import HTML\n",
    "HTML('<style> .container{ width:90%; } </style>')"
   ]
  },
  {
   "cell_type": "code",
   "execution_count": 2,
   "metadata": {
    "ExecuteTime": {
     "end_time": "2019-04-11T16:04:17.707313Z",
     "start_time": "2019-04-11T16:04:17.699277Z"
    }
   },
   "outputs": [
    {
     "data": {
      "text/plain": [
       "'import sys\\n!{sys.executable} -m pip install numpy\\n!{sys.executable} -m pip install pandas\\n!{sys.executable} -m pip install regex\\n!{sys.executable} -m pip install contractions\\n!{sys.executable} -m pip install nltk\\n!{sys.executable} -m pip install matplotlib\\n!{sys.executable} -m pip install seaborn\\n!{sys.executable} -m pip install sklearn\\n!{sys.executable} -m pip install xgboost\\n!{sys.executable} -m pip install lightgbm\\n!{sys.executable} -m pip install tensorflow\\n!{sys.executable} -m pip install keras\\n!{sys.executable} -m pip install keras_metrics\\n!{sys.executable} -m pip install tqdm\\n!{sys.executable} -m pip install tables\\n!{sys.executable} -m pip install h5py'"
      ]
     },
     "execution_count": 2,
     "metadata": {},
     "output_type": "execute_result"
    }
   ],
   "source": [
    "'''import sys\n",
    "!{sys.executable} -m pip install numpy\n",
    "!{sys.executable} -m pip install pandas\n",
    "!{sys.executable} -m pip install regex\n",
    "!{sys.executable} -m pip install contractions\n",
    "!{sys.executable} -m pip install nltk\n",
    "!{sys.executable} -m pip install matplotlib\n",
    "!{sys.executable} -m pip install seaborn\n",
    "!{sys.executable} -m pip install sklearn\n",
    "!{sys.executable} -m pip install xgboost\n",
    "!{sys.executable} -m pip install lightgbm\n",
    "!{sys.executable} -m pip install tensorflow\n",
    "!{sys.executable} -m pip install keras\n",
    "!{sys.executable} -m pip install keras_metrics\n",
    "!{sys.executable} -m pip install tqdm\n",
    "!{sys.executable} -m pip install tables\n",
    "!{sys.executable} -m pip install h5py'''"
   ]
  },
  {
   "cell_type": "code",
   "execution_count": 3,
   "metadata": {
    "ExecuteTime": {
     "end_time": "2019-04-11T16:04:24.089393Z",
     "start_time": "2019-04-11T16:04:17.710275Z"
    }
   },
   "outputs": [
    {
     "name": "stderr",
     "output_type": "stream",
     "text": [
      "c:\\portableapps\\winpython\\python-3.7.0.amd64\\lib\\site-packages\\tqdm\\autonotebook\\__init__.py:14: TqdmExperimentalWarning: Using `tqdm.autonotebook.tqdm` in notebook mode. Use `tqdm.tqdm` instead to force console mode (e.g. in jupyter console)\n",
      "  \" (e.g. in jupyter console)\", TqdmExperimentalWarning)\n"
     ]
    }
   ],
   "source": [
    "import regex\n",
    "import numpy as np\n",
    "import pandas as pd\n",
    "import matplotlib as mpl\n",
    "import matplotlib.pyplot as plt\n",
    "import seaborn as sns\n",
    "from tqdm import tqdm\n",
    "from tqdm.autonotebook import tqdm\n",
    "\n",
    "%matplotlib inline"
   ]
  },
  {
   "cell_type": "code",
   "execution_count": 4,
   "metadata": {
    "ExecuteTime": {
     "end_time": "2019-04-11T16:04:24.663530Z",
     "start_time": "2019-04-11T16:04:24.091298Z"
    }
   },
   "outputs": [],
   "source": [
    "train = pd.read_csv('data/imdb_reviews_train.txt', sep=\"\\t\")\n",
    "train.text = train.text.str.strip()\n",
    "train.text = train.text.str.lower()"
   ]
  },
  {
   "cell_type": "code",
   "execution_count": 5,
   "metadata": {
    "ExecuteTime": {
     "end_time": "2019-04-11T16:04:24.678531Z",
     "start_time": "2019-04-11T16:04:24.665531Z"
    }
   },
   "outputs": [
    {
     "data": {
      "text/html": [
       "<div>\n",
       "<style scoped>\n",
       "    .dataframe tbody tr th:only-of-type {\n",
       "        vertical-align: middle;\n",
       "    }\n",
       "\n",
       "    .dataframe tbody tr th {\n",
       "        vertical-align: top;\n",
       "    }\n",
       "\n",
       "    .dataframe thead th {\n",
       "        text-align: right;\n",
       "    }\n",
       "</style>\n",
       "<table border=\"1\" class=\"dataframe\">\n",
       "  <thead>\n",
       "    <tr style=\"text-align: right;\">\n",
       "      <th></th>\n",
       "      <th>text</th>\n",
       "      <th>review</th>\n",
       "    </tr>\n",
       "  </thead>\n",
       "  <tbody>\n",
       "    <tr>\n",
       "      <th>0</th>\n",
       "      <td>story of a man who has unnatural feelings for ...</td>\n",
       "      <td>neg</td>\n",
       "    </tr>\n",
       "    <tr>\n",
       "      <th>1</th>\n",
       "      <td>airport '77 starts as a brand new luxury 747 p...</td>\n",
       "      <td>neg</td>\n",
       "    </tr>\n",
       "    <tr>\n",
       "      <th>2</th>\n",
       "      <td>this film lacked something i couldn't put my f...</td>\n",
       "      <td>neg</td>\n",
       "    </tr>\n",
       "    <tr>\n",
       "      <th>3</th>\n",
       "      <td>sorry everyone,,, i know this is supposed to b...</td>\n",
       "      <td>neg</td>\n",
       "    </tr>\n",
       "    <tr>\n",
       "      <th>4</th>\n",
       "      <td>when i was little my parents took me along to ...</td>\n",
       "      <td>neg</td>\n",
       "    </tr>\n",
       "    <tr>\n",
       "      <th>5</th>\n",
       "      <td>it appears that many critics find the idea of ...</td>\n",
       "      <td>neg</td>\n",
       "    </tr>\n",
       "    <tr>\n",
       "      <th>6</th>\n",
       "      <td>the second attempt by a new york intellectual ...</td>\n",
       "      <td>neg</td>\n",
       "    </tr>\n",
       "    <tr>\n",
       "      <th>7</th>\n",
       "      <td>i don't know who to blame, the timid writers o...</td>\n",
       "      <td>neg</td>\n",
       "    </tr>\n",
       "    <tr>\n",
       "      <th>8</th>\n",
       "      <td>this film is mediocre at best. angie harmon is...</td>\n",
       "      <td>neg</td>\n",
       "    </tr>\n",
       "    <tr>\n",
       "      <th>9</th>\n",
       "      <td>the film is bad. there is no other way to say ...</td>\n",
       "      <td>neg</td>\n",
       "    </tr>\n",
       "  </tbody>\n",
       "</table>\n",
       "</div>"
      ],
      "text/plain": [
       "                                                text review\n",
       "0  story of a man who has unnatural feelings for ...    neg\n",
       "1  airport '77 starts as a brand new luxury 747 p...    neg\n",
       "2  this film lacked something i couldn't put my f...    neg\n",
       "3  sorry everyone,,, i know this is supposed to b...    neg\n",
       "4  when i was little my parents took me along to ...    neg\n",
       "5  it appears that many critics find the idea of ...    neg\n",
       "6  the second attempt by a new york intellectual ...    neg\n",
       "7  i don't know who to blame, the timid writers o...    neg\n",
       "8  this film is mediocre at best. angie harmon is...    neg\n",
       "9  the film is bad. there is no other way to say ...    neg"
      ]
     },
     "execution_count": 5,
     "metadata": {},
     "output_type": "execute_result"
    }
   ],
   "source": [
    "train.head(10)"
   ]
  },
  {
   "cell_type": "code",
   "execution_count": 6,
   "metadata": {
    "ExecuteTime": {
     "end_time": "2019-04-11T16:04:24.688568Z",
     "start_time": "2019-04-11T16:04:24.680529Z"
    }
   },
   "outputs": [
    {
     "data": {
      "text/plain": [
       "'the film is bad. there is no other way to say it. the story is weak and outdated, especially for this country. i don\\'t think most people know what a \"walker\" is or will really care. i felt as if i was watching a movie from the 70\\'s. the subject was just not believable for the year 2007, even being set in dc. i think this rang true for everyone else who watched it too as the applause were low and quick at the end. most didn\\'t stay for the q&a either.<br /><br />i don\\'t think schrader really thought the film out ahead of time. many of the scenes seemed to be cut short as if they were never finished or he just didn\\'t know how to finish them. he jumped from one scene to the next and you had to try and figure out or guess what was going on. i really didn\\'t get woody\\'s (carter) private life or boyfriend either. what were all the \"artistic\" male bondage and torture pictures (from iraq prisons) about? what was he thinking? i think it was his very poor attempt at trying to create this dark private subculture life for woody\\'s character (car). it didn\\'t work. it didn\\'t even seem to make sense really.<br /><br />the only good thing about this film was woody harrelson. he played his character (car) flawlessly. you really did get a great sense of what a \"walker\" may have been like (say twenty years ago). he was great and most likely will never get recognized for it. <br /><br />as for lauren, lily and kristin... boring.<br /><br />don\\'t see it! it is painful! unless you are a true harrelson fan.'"
      ]
     },
     "execution_count": 6,
     "metadata": {},
     "output_type": "execute_result"
    }
   ],
   "source": [
    "train.iloc[9]['text']"
   ]
  },
  {
   "cell_type": "markdown",
   "metadata": {},
   "source": [
    "Replace contractions, e.g. \"didn't\" ==> \"did not\""
   ]
  },
  {
   "cell_type": "code",
   "execution_count": 7,
   "metadata": {
    "ExecuteTime": {
     "end_time": "2019-04-11T16:05:21.266233Z",
     "start_time": "2019-04-11T16:04:24.690531Z"
    }
   },
   "outputs": [
    {
     "data": {
      "application/vnd.jupyter.widget-view+json": {
       "model_id": "a188ebcf7c3146f7b882d9bad02104cf",
       "version_major": 2,
       "version_minor": 0
      },
      "text/plain": [
       "HBox(children=(IntProgress(value=0, description='Fixing contractions', layout=Layout(flex='2'), max=25000, sty…"
      ]
     },
     "metadata": {},
     "output_type": "display_data"
    },
    {
     "name": "stdout",
     "output_type": "stream",
     "text": [
      "\n"
     ]
    },
    {
     "data": {
      "text/plain": [
       "'the film is bad. there is no other way to say it. the story is weak and outdated, especially for this country. i do not think most people know what a \"walker\" is or will really care. i felt as if i was watching a movie from the 70\\'s. the subject was just not believable for the year 2007, even being set in dc. i think this rang true for everyone else who watched it too as the applause were low and quick at the end. most did not stay for the q&a either.<br /><br />i do not think schrader really thought the film out ahead of time. many of the scenes seemed to be cut short as if they were never finished or he just did not know how to finish them. he jumped from one scene to the next and you had to try and figure out or guess what was going on. i really did not get woody\\'s (carter) private life or boyfriend either. what were all the \"artistic\" male bondage and torture pictures (from iraq prisons) about? what was he thinking? i think it was his very poor attempt at trying to create this dark private subculture life for woody\\'s character (car). it did not work. it did not even seem to make sense really.<br /><br />the only good thing about this film was woody harrelson. he played his character (car) flawlessly. you really did get a great sense of what a \"walker\" may have been like (say twenty years ago). he was great and most likely will never get recognized for it. <br /><br />as for lauren, lily and kristin... boring.<br /><br />do not see it! it is painful! unless you are a true harrelson fan.'"
      ]
     },
     "execution_count": 7,
     "metadata": {},
     "output_type": "execute_result"
    }
   ],
   "source": [
    "tqdm.pandas(desc=\"Fixing contractions\", ncols=1000)\n",
    "import contractions_fixer\n",
    "train.text = train.text.progress_apply(lambda x: contractions_fixer.fix(x))\n",
    "train.iloc[9].text"
   ]
  },
  {
   "cell_type": "markdown",
   "metadata": {},
   "source": [
    "Replace hyphens, forward slashes and HTML line breaks with spaces; replace ampersands with \" and \""
   ]
  },
  {
   "cell_type": "code",
   "execution_count": 8,
   "metadata": {
    "ExecuteTime": {
     "end_time": "2019-04-11T16:05:22.137992Z",
     "start_time": "2019-04-11T16:05:21.268235Z"
    }
   },
   "outputs": [
    {
     "data": {
      "application/vnd.jupyter.widget-view+json": {
       "model_id": "61ab961cb50443e9b3e0eb6e53cabbd4",
       "version_major": 2,
       "version_minor": 0
      },
      "text/plain": [
       "HBox(children=(IntProgress(value=0, description='Removing line breaks', layout=Layout(flex='2'), max=25000, st…"
      ]
     },
     "metadata": {},
     "output_type": "display_data"
    },
    {
     "name": "stdout",
     "output_type": "stream",
     "text": [
      "\n"
     ]
    },
    {
     "data": {
      "application/vnd.jupyter.widget-view+json": {
       "model_id": "146a344d766d4bb89dc18af2cda1defa",
       "version_major": 2,
       "version_minor": 0
      },
      "text/plain": [
       "HBox(children=(IntProgress(value=0, description='Removing ampersands', layout=Layout(flex='2'), max=25000, sty…"
      ]
     },
     "metadata": {},
     "output_type": "display_data"
    },
    {
     "name": "stdout",
     "output_type": "stream",
     "text": [
      "\n"
     ]
    },
    {
     "data": {
      "text/plain": [
       "'the film is bad. there is no other way to say it. the story is weak and outdated, especially for this country. i do not think most people know what a \"walker\" is or will really care. i felt as if i was watching a movie from the 70\\'s. the subject was just not believable for the year 2007, even being set in dc. i think this rang true for everyone else who watched it too as the applause were low and quick at the end. most did not stay for the q and a either.  i do not think schrader really thought the film out ahead of time. many of the scenes seemed to be cut short as if they were never finished or he just did not know how to finish them. he jumped from one scene to the next and you had to try and figure out or guess what was going on. i really did not get woody\\'s (carter) private life or boyfriend either. what were all the \"artistic\" male bondage and torture pictures (from iraq prisons) about? what was he thinking? i think it was his very poor attempt at trying to create this dark private subculture life for woody\\'s character (car). it did not work. it did not even seem to make sense really.  the only good thing about this film was woody harrelson. he played his character (car) flawlessly. you really did get a great sense of what a \"walker\" may have been like (say twenty years ago). he was great and most likely will never get recognized for it.   as for lauren, lily and kristin... boring.  do not see it! it is painful! unless you are a true harrelson fan.'"
      ]
     },
     "execution_count": 8,
     "metadata": {},
     "output_type": "execute_result"
    }
   ],
   "source": [
    "tqdm.pandas(desc=\"Removing line breaks\", ncols=1000)\n",
    "pattern = regex.compile(\"(<br\\s*/>)|(\\-)|(\\/)\")\n",
    "train.text = train.text.progress_apply(lambda x: pattern.sub(\" \", x))\n",
    "\n",
    "tqdm.pandas(desc=\"Removing ampersands\", ncols=1000)\n",
    "pattern = regex.compile(\"&\")\n",
    "train.text = train.text.progress_apply(lambda x: pattern.sub(\" and \", x))\n",
    "train.iloc[9].text"
   ]
  },
  {
   "cell_type": "markdown",
   "metadata": {},
   "source": [
    "Remove punctuation symbols"
   ]
  },
  {
   "cell_type": "code",
   "execution_count": 9,
   "metadata": {
    "ExecuteTime": {
     "end_time": "2019-04-11T16:05:23.410162Z",
     "start_time": "2019-04-11T16:05:22.139959Z"
    }
   },
   "outputs": [
    {
     "data": {
      "application/vnd.jupyter.widget-view+json": {
       "model_id": "d8ebe1b1726c4ebb9f88486e851fede3",
       "version_major": 2,
       "version_minor": 0
      },
      "text/plain": [
       "HBox(children=(IntProgress(value=0, description='Removing punctuation', layout=Layout(flex='2'), max=25000, st…"
      ]
     },
     "metadata": {},
     "output_type": "display_data"
    },
    {
     "name": "stdout",
     "output_type": "stream",
     "text": [
      "\n"
     ]
    },
    {
     "data": {
      "text/plain": [
       "'the film is bad there is no other way to say it the story is weak and outdated especially for this country i do not think most people know what a walker is or will really care i felt as if i was watching a movie from the 70s the subject was just not believable for the year 2007 even being set in dc i think this rang true for everyone else who watched it too as the applause were low and quick at the end most did not stay for the q and a either  i do not think schrader really thought the film out ahead of time many of the scenes seemed to be cut short as if they were never finished or he just did not know how to finish them he jumped from one scene to the next and you had to try and figure out or guess what was going on i really did not get woodys carter private life or boyfriend either what were all the artistic male bondage and torture pictures from iraq prisons about what was he thinking i think it was his very poor attempt at trying to create this dark private subculture life for woodys character car it did not work it did not even seem to make sense really  the only good thing about this film was woody harrelson he played his character car flawlessly you really did get a great sense of what a walker may have been like say twenty years ago he was great and most likely will never get recognized for it   as for lauren lily and kristin boring  do not see it it is painful unless you are a true harrelson fan'"
      ]
     },
     "execution_count": 9,
     "metadata": {},
     "output_type": "execute_result"
    }
   ],
   "source": [
    "import string\n",
    "tqdm.pandas(desc=\"Removing punctuation\", ncols=1000)\n",
    "pattern = regex.compile('[{}]'.format(regex.escape(string.punctuation)))\n",
    "train.text = train.text.progress_apply(lambda x: pattern.sub(\"\", x))\n",
    "train.iloc[9].text"
   ]
  },
  {
   "cell_type": "markdown",
   "metadata": {},
   "source": [
    "Regex to remove every instance of a full stop word from the text"
   ]
  },
  {
   "cell_type": "code",
   "execution_count": 10,
   "metadata": {
    "ExecuteTime": {
     "end_time": "2019-04-11T16:05:37.413932Z",
     "start_time": "2019-04-11T16:05:23.412165Z"
    }
   },
   "outputs": [
    {
     "name": "stderr",
     "output_type": "stream",
     "text": [
      "[nltk_data] Downloading package stopwords to C:\\Users\\Jorge de\n",
      "[nltk_data]     Bustos\\AppData\\Roaming\\nltk_data...\n",
      "[nltk_data]   Package stopwords is already up-to-date!\n"
     ]
    },
    {
     "data": {
      "application/vnd.jupyter.widget-view+json": {
       "model_id": "237a1424c87c4c568411f615136b1ac9",
       "version_major": 2,
       "version_minor": 0
      },
      "text/plain": [
       "HBox(children=(IntProgress(value=0, description='Removing stop words', layout=Layout(flex='2'), max=25000, sty…"
      ]
     },
     "metadata": {},
     "output_type": "display_data"
    },
    {
     "name": "stdout",
     "output_type": "stream",
     "text": [
      "\n"
     ]
    },
    {
     "data": {
      "text/plain": [
       "' film  bad     way  say   story  weak  outdated especially   country    think  people know   walker    really care  felt     watching  movie   70s  subject    believable   year 2007 even  set  dc  think  rang true  everyone else  watched     applause  low  quick   end    stay   q   either     think schrader really thought  film  ahead  time many   scenes seemed   cut short     never finished      know   finish   jumped  one scene   next     try  figure   guess   going   really   get woodys carter private life  boyfriend either     artistic male bondage  torture pictures  iraq prisons     thinking  think     poor attempt  trying  create  dark private subculture life  woodys character car    work    even seem  make sense really    good thing   film  woody harrelson  played  character car flawlessly  really  get  great sense    walker may   like say twenty years ago   great   likely  never get recognized       lauren lily  kristin boring    see    painful unless    true harrelson fan'"
      ]
     },
     "execution_count": 10,
     "metadata": {},
     "output_type": "execute_result"
    }
   ],
   "source": [
    "import nltk\n",
    "from nltk.corpus import stopwords \n",
    "nltk.download('stopwords')\n",
    "stop_words = set(stopwords.words('english'))\n",
    "\n",
    "tqdm.pandas(desc=\"Removing stop words\", ncols=1000)\n",
    "pattern = regex.compile(\"\\\\b(\" + \"|\".join(stop_words) + \")\\\\b\")\n",
    "train.text = train.text.progress_apply(lambda x: pattern.sub(\"\", x))\n",
    "train.iloc[9].text"
   ]
  },
  {
   "cell_type": "code",
   "execution_count": 11,
   "metadata": {
    "ExecuteTime": {
     "end_time": "2019-04-11T16:05:37.909862Z",
     "start_time": "2019-04-11T16:05:37.416923Z"
    }
   },
   "outputs": [],
   "source": [
    "train.to_hdf(\"data/train.hdf5\", \"train\")"
   ]
  },
  {
   "cell_type": "code",
   "execution_count": 12,
   "metadata": {
    "ExecuteTime": {
     "end_time": "2019-04-11T16:05:38.039911Z",
     "start_time": "2019-04-11T16:05:37.910864Z"
    }
   },
   "outputs": [],
   "source": [
    "train = pd.read_hdf(\"data/train.hdf5\", \"train\")"
   ]
  },
  {
   "cell_type": "code",
   "execution_count": 13,
   "metadata": {
    "ExecuteTime": {
     "end_time": "2019-04-11T16:05:38.052947Z",
     "start_time": "2019-04-11T16:05:38.040858Z"
    }
   },
   "outputs": [],
   "source": [
    "metrics_df = pd.DataFrame(columns=['vectorizer', 'classifier', 'accuracy', 'precision', 'recall', 'f1', 'specificity'])\n",
    "metrics_df = metrics_df.set_index(['vectorizer', 'classifier'])"
   ]
  },
  {
   "cell_type": "code",
   "execution_count": 14,
   "metadata": {
    "ExecuteTime": {
     "end_time": "2019-04-11T16:05:38.276528Z",
     "start_time": "2019-04-11T16:05:38.053859Z"
    }
   },
   "outputs": [],
   "source": [
    "import warnings\n",
    "from sklearn.model_selection import train_test_split\n",
    "from sklearn.feature_extraction.text import CountVectorizer, TfidfVectorizer\n",
    "from sklearn.linear_model import LogisticRegression\n",
    "from sklearn.naive_bayes import MultinomialNB\n",
    "from sklearn.svm import LinearSVC\n",
    "from sklearn.ensemble import RandomForestClassifier, GradientBoostingClassifier, AdaBoostClassifier\n",
    "from sklearn.metrics import accuracy_score, confusion_matrix, f1_score, classification_report, auc, \\\n",
    "    roc_auc_score, roc_curve, precision_recall_curve, recall_score, average_precision_score, precision_score\n",
    "from sklearn.externals import joblib\n",
    "from sklearn.exceptions import DataConversionWarning\n",
    "from lightgbm.sklearn import LGBMClassifier\n",
    "\n",
    "warnings.filterwarnings(action='ignore', category=DataConversionWarning)"
   ]
  },
  {
   "cell_type": "code",
   "execution_count": 15,
   "metadata": {
    "ExecuteTime": {
     "end_time": "2019-04-11T16:05:38.286487Z",
     "start_time": "2019-04-11T16:05:38.278484Z"
    }
   },
   "outputs": [],
   "source": [
    "def plot_metrics(classifier, classifier_name, vectorizer_name, X_train, X_val, y_train, y_val):\n",
    "    prediction = classifier.predict(X_val.astype('float32'))\n",
    "    accuracy = accuracy_score(y_val, prediction)\n",
    "    f1 = f1_score(y_val, prediction, pos_label=\"pos\")\n",
    "    recall = recall_score(y_val, prediction, pos_label=\"pos\")\n",
    "    precision = precision_score(y_val, prediction, pos_label=\"pos\")\n",
    "    specificity = recall_score(y_val, prediction, pos_label=\"neg\")\n",
    "    print('Vectorizer: %s. Classifier: %s' % \\\n",
    "          (vectorizer_name, classifier_name))\n",
    "    print('Accuracy: %0.3f. Precision: %0.3f. Recall: %0.3f. F1 Score: %0.3f. Specificity: %0.3f' % \\\n",
    "          (accuracy, precision, recall, f1, specificity))\n",
    "    print(classification_report(y_val, prediction))\n",
    "    plt.figure(figsize=(4,3))\n",
    "    sns.heatmap(confusion_matrix(y_val, prediction), annot=True, fmt=\"d\")\n",
    "    metrics_df.loc[(vectorizer_name, classifier_name), :] = [\n",
    "        accuracy,\n",
    "        precision,\n",
    "        recall,\n",
    "        f1,\n",
    "        specificity,\n",
    "    ]\n",
    "    plt.show()"
   ]
  },
  {
   "cell_type": "code",
   "execution_count": 16,
   "metadata": {
    "ExecuteTime": {
     "end_time": "2019-04-11T16:05:38.295523Z",
     "start_time": "2019-04-11T16:05:38.288527Z"
    }
   },
   "outputs": [],
   "source": [
    "def classify_and_plot(classifier, classifier_name, vectorizer_name, X_train, X_val, y_train, y_val):\n",
    "    classifier.fit(X_train.astype('float32'), y_train)\n",
    "    plot_metrics(classifier, classifier_name, vectorizer_name, X_train, X_val, y_train, y_val)\n",
    "    return classifier"
   ]
  },
  {
   "cell_type": "code",
   "execution_count": 17,
   "metadata": {
    "ExecuteTime": {
     "end_time": "2019-04-11T16:05:38.305526Z",
     "start_time": "2019-04-11T16:05:38.297488Z"
    }
   },
   "outputs": [],
   "source": [
    "def make_vectorizers():\n",
    "    vectorizers = [\n",
    "        (\"CountVectorizer_Bin\", CountVectorizer(binary=True)),\n",
    "        (\"CountVectorizer_NonBin\", CountVectorizer(binary=False)),\n",
    "        (\"TfidfVectorizer\", TfidfVectorizer()),\n",
    "    ]\n",
    "    return vectorizers"
   ]
  },
  {
   "cell_type": "code",
   "execution_count": 18,
   "metadata": {
    "ExecuteTime": {
     "end_time": "2019-04-11T16:05:38.317522Z",
     "start_time": "2019-04-11T16:05:38.307485Z"
    }
   },
   "outputs": [],
   "source": [
    "def make_classifiers():\n",
    "    classifiers = [\n",
    "        (\"LogisticRegression\", LogisticRegression(solver='liblinear', C=0.5)),\n",
    "        (\"MultinomialNB\", MultinomialNB()),\n",
    "        (\"RandomForestClassifier\", RandomForestClassifier(n_estimators=100)),\n",
    "        #(\"GradientBoostingClassifier\", GradientBoostingClassifier(n_estimators=100)),\n",
    "        #(\"AdaBoostClassifier\", AdaBoostClassifier(n_estimators=100)),\n",
    "        (\"LGBMClassifier\", LGBMClassifier()),\n",
    "        (\"LinearSVC\", LinearSVC(C=0.2)),\n",
    "    ]\n",
    "    return classifiers"
   ]
  },
  {
   "cell_type": "code",
   "execution_count": 19,
   "metadata": {
    "ExecuteTime": {
     "end_time": "2019-04-11T16:10:27.662139Z",
     "start_time": "2019-04-11T16:05:38.319485Z"
    }
   },
   "outputs": [
    {
     "data": {
      "application/vnd.jupyter.widget-view+json": {
       "model_id": "92262ef7b3fe4b3bba5bda298be23498",
       "version_major": 2,
       "version_minor": 0
      },
      "text/plain": [
       "HBox(children=(IntProgress(value=0, layout=Layout(flex='2'), max=15), HTML(value='')), layout=Layout(display='…"
      ]
     },
     "metadata": {},
     "output_type": "display_data"
    },
    {
     "name": "stdout",
     "output_type": "stream",
     "text": [
      "Vectorizer: CountVectorizer_Bin. Classifier: LogisticRegression\n",
      "Accuracy: 0.874. Precision: 0.866. Recall: 0.882. F1 Score: 0.874. Specificity: 0.866\n",
      "              precision    recall  f1-score   support\n",
      "\n",
      "         neg       0.88      0.87      0.87      2515\n",
      "         pos       0.87      0.88      0.87      2485\n",
      "\n",
      "   micro avg       0.87      0.87      0.87      5000\n",
      "   macro avg       0.87      0.87      0.87      5000\n",
      "weighted avg       0.87      0.87      0.87      5000\n",
      "\n"
     ]
    },
    {
     "data": {
      "image/png": "[encoded data removed]",
      "text/plain": [
       "<Figure size 288x216 with 2 Axes>"
      ]
     },
     "metadata": {
      "needs_background": "light"
     },
     "output_type": "display_data"
    },
    {
     "name": "stdout",
     "output_type": "stream",
     "text": [
      "Vectorizer: CountVectorizer_Bin. Classifier: MultinomialNB\n",
      "Accuracy: 0.858. Precision: 0.872. Recall: 0.837. F1 Score: 0.854. Specificity: 0.879\n",
      "              precision    recall  f1-score   support\n",
      "\n",
      "         neg       0.85      0.88      0.86      2515\n",
      "         pos       0.87      0.84      0.85      2485\n",
      "\n",
      "   micro avg       0.86      0.86      0.86      5000\n",
      "   macro avg       0.86      0.86      0.86      5000\n",
      "weighted avg       0.86      0.86      0.86      5000\n",
      "\n"
     ]
    },
    {
     "data": {
      "image/png": "[encoded data removed]",
      "text/plain": [
       "<Figure size 288x216 with 2 Axes>"
      ]
     },
     "metadata": {
      "needs_background": "light"
     },
     "output_type": "display_data"
    },
    {
     "name": "stdout",
     "output_type": "stream",
     "text": [
      "Vectorizer: CountVectorizer_Bin. Classifier: RandomForestClassifier\n",
      "Accuracy: 0.856. Precision: 0.859. Recall: 0.850. F1 Score: 0.854. Specificity: 0.862\n",
      "              precision    recall  f1-score   support\n",
      "\n",
      "         neg       0.85      0.86      0.86      2515\n",
      "         pos       0.86      0.85      0.85      2485\n",
      "\n",
      "   micro avg       0.86      0.86      0.86      5000\n",
      "   macro avg       0.86      0.86      0.86      5000\n",
      "weighted avg       0.86      0.86      0.86      5000\n",
      "\n"
     ]
    },
    {
     "data": {
      "image/png": "[encoded data removed]",
      "text/plain": [
       "<Figure size 288x216 with 2 Axes>"
      ]
     },
     "metadata": {
      "needs_background": "light"
     },
     "output_type": "display_data"
    },
    {
     "name": "stdout",
     "output_type": "stream",
     "text": [
      "Vectorizer: CountVectorizer_Bin. Classifier: LGBMClassifier\n",
      "Accuracy: 0.856. Precision: 0.845. Recall: 0.870. F1 Score: 0.857. Specificity: 0.843\n",
      "              precision    recall  f1-score   support\n",
      "\n",
      "         neg       0.87      0.84      0.85      2515\n",
      "         pos       0.85      0.87      0.86      2485\n",
      "\n",
      "   micro avg       0.86      0.86      0.86      5000\n",
      "   macro avg       0.86      0.86      0.86      5000\n",
      "weighted avg       0.86      0.86      0.86      5000\n",
      "\n"
     ]
    },
    {
     "data": {
      "image/png": "[encoded data removed]",
      "text/plain": [
       "<Figure size 288x216 with 2 Axes>"
      ]
     },
     "metadata": {
      "needs_background": "light"
     },
     "output_type": "display_data"
    },
    {
     "name": "stdout",
     "output_type": "stream",
     "text": [
      "Vectorizer: CountVectorizer_Bin. Classifier: LinearSVC\n",
      "Accuracy: 0.856. Precision: 0.852. Recall: 0.860. F1 Score: 0.856. Specificity: 0.852\n",
      "              precision    recall  f1-score   support\n",
      "\n",
      "         neg       0.86      0.85      0.86      2515\n",
      "         pos       0.85      0.86      0.86      2485\n",
      "\n",
      "   micro avg       0.86      0.86      0.86      5000\n",
      "   macro avg       0.86      0.86      0.86      5000\n",
      "weighted avg       0.86      0.86      0.86      5000\n",
      "\n"
     ]
    },
    {
     "data": {
      "image/png": "[encoded data removed]",
      "text/plain": [
       "<Figure size 288x216 with 2 Axes>"
      ]
     },
     "metadata": {
      "needs_background": "light"
     },
     "output_type": "display_data"
    },
    {
     "name": "stdout",
     "output_type": "stream",
     "text": [
      "Vectorizer: CountVectorizer_NonBin. Classifier: LogisticRegression\n",
      "Accuracy: 0.877. Precision: 0.871. Recall: 0.882. F1 Score: 0.877. Specificity: 0.871\n",
      "              precision    recall  f1-score   support\n",
      "\n",
      "         neg       0.88      0.87      0.88      2515\n",
      "         pos       0.87      0.88      0.88      2485\n",
      "\n",
      "   micro avg       0.88      0.88      0.88      5000\n",
      "   macro avg       0.88      0.88      0.88      5000\n",
      "weighted avg       0.88      0.88      0.88      5000\n",
      "\n"
     ]
    },
    {
     "data": {
      "image/png": "[encoded data removed]",
      "text/plain": [
       "<Figure size 288x216 with 2 Axes>"
      ]
     },
     "metadata": {
      "needs_background": "light"
     },
     "output_type": "display_data"
    },
    {
     "name": "stdout",
     "output_type": "stream",
     "text": [
      "Vectorizer: CountVectorizer_NonBin. Classifier: MultinomialNB\n",
      "Accuracy: 0.855. Precision: 0.868. Recall: 0.835. F1 Score: 0.852. Specificity: 0.875\n",
      "              precision    recall  f1-score   support\n",
      "\n",
      "         neg       0.84      0.87      0.86      2515\n",
      "         pos       0.87      0.84      0.85      2485\n",
      "\n",
      "   micro avg       0.86      0.86      0.86      5000\n",
      "   macro avg       0.86      0.86      0.86      5000\n",
      "weighted avg       0.86      0.86      0.86      5000\n",
      "\n"
     ]
    },
    {
     "data": {
      "image/png": "[encoded data removed]",
      "text/plain": [
       "<Figure size 288x216 with 2 Axes>"
      ]
     },
     "metadata": {
      "needs_background": "light"
     },
     "output_type": "display_data"
    },
    {
     "name": "stdout",
     "output_type": "stream",
     "text": [
      "Vectorizer: CountVectorizer_NonBin. Classifier: RandomForestClassifier\n",
      "Accuracy: 0.850. Precision: 0.850. Recall: 0.849. F1 Score: 0.849. Specificity: 0.852\n",
      "              precision    recall  f1-score   support\n",
      "\n",
      "         neg       0.85      0.85      0.85      2515\n",
      "         pos       0.85      0.85      0.85      2485\n",
      "\n",
      "   micro avg       0.85      0.85      0.85      5000\n",
      "   macro avg       0.85      0.85      0.85      5000\n",
      "weighted avg       0.85      0.85      0.85      5000\n",
      "\n"
     ]
    },
    {
     "data": {
      "image/png": "[encoded data removed]",
      "text/plain": [
       "<Figure size 288x216 with 2 Axes>"
      ]
     },
     "metadata": {
      "needs_background": "light"
     },
     "output_type": "display_data"
    },
    {
     "name": "stdout",
     "output_type": "stream",
     "text": [
      "Vectorizer: CountVectorizer_NonBin. Classifier: LGBMClassifier\n",
      "Accuracy: 0.863. Precision: 0.852. Recall: 0.877. F1 Score: 0.864. Specificity: 0.849\n",
      "              precision    recall  f1-score   support\n",
      "\n",
      "         neg       0.88      0.85      0.86      2515\n",
      "         pos       0.85      0.88      0.86      2485\n",
      "\n",
      "   micro avg       0.86      0.86      0.86      5000\n",
      "   macro avg       0.86      0.86      0.86      5000\n",
      "weighted avg       0.86      0.86      0.86      5000\n",
      "\n"
     ]
    },
    {
     "data": {
      "image/png": "[encoded data removed]",
      "text/plain": [
       "<Figure size 288x216 with 2 Axes>"
      ]
     },
     "metadata": {
      "needs_background": "light"
     },
     "output_type": "display_data"
    },
    {
     "name": "stdout",
     "output_type": "stream",
     "text": [
      "Vectorizer: CountVectorizer_NonBin. Classifier: LinearSVC\n",
      "Accuracy: 0.863. Precision: 0.861. Recall: 0.864. F1 Score: 0.862. Specificity: 0.862\n",
      "              precision    recall  f1-score   support\n",
      "\n",
      "         neg       0.86      0.86      0.86      2515\n",
      "         pos       0.86      0.86      0.86      2485\n",
      "\n",
      "   micro avg       0.86      0.86      0.86      5000\n",
      "   macro avg       0.86      0.86      0.86      5000\n",
      "weighted avg       0.86      0.86      0.86      5000\n",
      "\n"
     ]
    },
    {
     "data": {
      "image/png": "[encoded data removed]",
      "text/plain": [
       "<Figure size 288x216 with 2 Axes>"
      ]
     },
     "metadata": {
      "needs_background": "light"
     },
     "output_type": "display_data"
    },
    {
     "name": "stdout",
     "output_type": "stream",
     "text": [
      "Vectorizer: TfidfVectorizer. Classifier: LogisticRegression\n",
      "Accuracy: 0.881. Precision: 0.867. Recall: 0.897. F1 Score: 0.882. Specificity: 0.864\n",
      "              precision    recall  f1-score   support\n",
      "\n",
      "         neg       0.89      0.86      0.88      2515\n",
      "         pos       0.87      0.90      0.88      2485\n",
      "\n",
      "   micro avg       0.88      0.88      0.88      5000\n",
      "   macro avg       0.88      0.88      0.88      5000\n",
      "weighted avg       0.88      0.88      0.88      5000\n",
      "\n"
     ]
    },
    {
     "data": {
      "image/png": "[encoded data removed]",
      "text/plain": [
       "<Figure size 288x216 with 2 Axes>"
      ]
     },
     "metadata": {
      "needs_background": "light"
     },
     "output_type": "display_data"
    },
    {
     "name": "stdout",
     "output_type": "stream",
     "text": [
      "Vectorizer: TfidfVectorizer. Classifier: MultinomialNB\n",
      "Accuracy: 0.860. Precision: 0.867. Recall: 0.849. F1 Score: 0.858. Specificity: 0.871\n",
      "              precision    recall  f1-score   support\n",
      "\n",
      "         neg       0.85      0.87      0.86      2515\n",
      "         pos       0.87      0.85      0.86      2485\n",
      "\n",
      "   micro avg       0.86      0.86      0.86      5000\n",
      "   macro avg       0.86      0.86      0.86      5000\n",
      "weighted avg       0.86      0.86      0.86      5000\n",
      "\n"
     ]
    },
    {
     "data": {
      "image/png": "[encoded data removed]",
      "text/plain": [
       "<Figure size 288x216 with 2 Axes>"
      ]
     },
     "metadata": {
      "needs_background": "light"
     },
     "output_type": "display_data"
    },
    {
     "name": "stdout",
     "output_type": "stream",
     "text": [
      "Vectorizer: TfidfVectorizer. Classifier: RandomForestClassifier\n",
      "Accuracy: 0.844. Precision: 0.841. Recall: 0.845. F1 Score: 0.843. Specificity: 0.842\n",
      "              precision    recall  f1-score   support\n",
      "\n",
      "         neg       0.85      0.84      0.84      2515\n",
      "         pos       0.84      0.85      0.84      2485\n",
      "\n",
      "   micro avg       0.84      0.84      0.84      5000\n",
      "   macro avg       0.84      0.84      0.84      5000\n",
      "weighted avg       0.84      0.84      0.84      5000\n",
      "\n"
     ]
    },
    {
     "data": {
      "image/png": "[encoded data removed]",
      "text/plain": [
       "<Figure size 288x216 with 2 Axes>"
      ]
     },
     "metadata": {
      "needs_background": "light"
     },
     "output_type": "display_data"
    },
    {
     "name": "stdout",
     "output_type": "stream",
     "text": [
      "Vectorizer: TfidfVectorizer. Classifier: LGBMClassifier\n",
      "Accuracy: 0.858. Precision: 0.847. Recall: 0.871. F1 Score: 0.859. Specificity: 0.844\n",
      "              precision    recall  f1-score   support\n",
      "\n",
      "         neg       0.87      0.84      0.86      2515\n",
      "         pos       0.85      0.87      0.86      2485\n",
      "\n",
      "   micro avg       0.86      0.86      0.86      5000\n",
      "   macro avg       0.86      0.86      0.86      5000\n",
      "weighted avg       0.86      0.86      0.86      5000\n",
      "\n"
     ]
    },
    {
     "data": {
      "image/png": "[encoded data removed]",
      "text/plain": [
       "<Figure size 288x216 with 2 Axes>"
      ]
     },
     "metadata": {
      "needs_background": "light"
     },
     "output_type": "display_data"
    },
    {
     "name": "stdout",
     "output_type": "stream",
     "text": [
      "Vectorizer: TfidfVectorizer. Classifier: LinearSVC\n",
      "Accuracy: 0.890. Precision: 0.880. Recall: 0.903. F1 Score: 0.891. Specificity: 0.878\n",
      "              precision    recall  f1-score   support\n",
      "\n",
      "         neg       0.90      0.88      0.89      2515\n",
      "         pos       0.88      0.90      0.89      2485\n",
      "\n",
      "   micro avg       0.89      0.89      0.89      5000\n",
      "   macro avg       0.89      0.89      0.89      5000\n",
      "weighted avg       0.89      0.89      0.89      5000\n",
      "\n"
     ]
    },
    {
     "data": {
      "image/png": "[encoded data removed]",
      "text/plain": [
       "<Figure size 288x216 with 2 Axes>"
      ]
     },
     "metadata": {
      "needs_background": "light"
     },
     "output_type": "display_data"
    }
   ],
   "source": [
    "progress = tqdm(total=len(make_vectorizers()) * len(make_classifiers()), ncols=1000)\n",
    "\n",
    "for vect in make_vectorizers():\n",
    "    vectorizer = vect[1]\n",
    "    vectorizer_name = vect[0]\n",
    "    \n",
    "    X = vectorizer.fit_transform(train.text)\n",
    "    y = train.review\n",
    "    X_train, X_val, y_train, y_val = train_test_split(X, y, test_size=0.20, random_state=42)\n",
    "\n",
    "    for clas in make_classifiers():\n",
    "        classifier = clas[1]\n",
    "        classifier_name = clas[0]\n",
    "        progress.set_description(\"{} - {}\".format(vectorizer_name, classifier_name))\n",
    "        classify_and_plot(classifier, classifier_name, vectorizer_name, X_train, X_val, y_train, y_val)\n",
    "        progress.update(1)"
   ]
  },
  {
   "cell_type": "code",
   "execution_count": 20,
   "metadata": {
    "ExecuteTime": {
     "end_time": "2019-04-11T16:10:28.030830Z",
     "start_time": "2019-04-11T16:10:27.664141Z"
    }
   },
   "outputs": [
    {
     "data": {
      "text/html": [
       "<style  type=\"text/css\" >\n",
       "    #T_526b06f6_5c74_11e9_a257_9cda3ea81686row0_col0 {\n",
       "            min-width:  6em;\n",
       "            background-color: #b40426;\n",
       "            color: #f1f1f1;\n",
       "        }    #T_526b06f6_5c74_11e9_a257_9cda3ea81686row0_col1 {\n",
       "            min-width:  6em;\n",
       "            background-color: #b40426;\n",
       "            color: #f1f1f1;\n",
       "        }    #T_526b06f6_5c74_11e9_a257_9cda3ea81686row0_col2 {\n",
       "            min-width:  6em;\n",
       "            background-color: #b40426;\n",
       "            color: #f1f1f1;\n",
       "        }    #T_526b06f6_5c74_11e9_a257_9cda3ea81686row0_col3 {\n",
       "            min-width:  6em;\n",
       "            background-color: #b40426;\n",
       "            color: #f1f1f1;\n",
       "        }    #T_526b06f6_5c74_11e9_a257_9cda3ea81686row0_col4 {\n",
       "            min-width:  6em;\n",
       "            background-color: #bb1b2c;\n",
       "            color: #f1f1f1;\n",
       "        }    #T_526b06f6_5c74_11e9_a257_9cda3ea81686row1_col0 {\n",
       "            min-width:  6em;\n",
       "            background-color: #ee8669;\n",
       "            color: #000000;\n",
       "        }    #T_526b06f6_5c74_11e9_a257_9cda3ea81686row1_col1 {\n",
       "            min-width:  6em;\n",
       "            background-color: #f7b396;\n",
       "            color: #000000;\n",
       "        }    #T_526b06f6_5c74_11e9_a257_9cda3ea81686row1_col2 {\n",
       "            min-width:  6em;\n",
       "            background-color: #d1493f;\n",
       "            color: #f1f1f1;\n",
       "        }    #T_526b06f6_5c74_11e9_a257_9cda3ea81686row1_col3 {\n",
       "            min-width:  6em;\n",
       "            background-color: #ec7f63;\n",
       "            color: #000000;\n",
       "        }    #T_526b06f6_5c74_11e9_a257_9cda3ea81686row1_col4 {\n",
       "            min-width:  6em;\n",
       "            background-color: #f2c9b4;\n",
       "            color: #000000;\n",
       "        }    #T_526b06f6_5c74_11e9_a257_9cda3ea81686row2_col0 {\n",
       "            min-width:  6em;\n",
       "            background-color: #f7a889;\n",
       "            color: #000000;\n",
       "        }    #T_526b06f6_5c74_11e9_a257_9cda3ea81686row2_col1 {\n",
       "            min-width:  6em;\n",
       "            background-color: #f08b6e;\n",
       "            color: #000000;\n",
       "        }    #T_526b06f6_5c74_11e9_a257_9cda3ea81686row2_col2 {\n",
       "            min-width:  6em;\n",
       "            background-color: #f7ac8e;\n",
       "            color: #000000;\n",
       "        }    #T_526b06f6_5c74_11e9_a257_9cda3ea81686row2_col3 {\n",
       "            min-width:  6em;\n",
       "            background-color: #f7aa8c;\n",
       "            color: #000000;\n",
       "        }    #T_526b06f6_5c74_11e9_a257_9cda3ea81686row2_col4 {\n",
       "            min-width:  6em;\n",
       "            background-color: #ee8669;\n",
       "            color: #000000;\n",
       "        }    #T_526b06f6_5c74_11e9_a257_9cda3ea81686row3_col0 {\n",
       "            min-width:  6em;\n",
       "            background-color: #f7bca1;\n",
       "            color: #000000;\n",
       "        }    #T_526b06f6_5c74_11e9_a257_9cda3ea81686row3_col1 {\n",
       "            min-width:  6em;\n",
       "            background-color: #f7ba9f;\n",
       "            color: #000000;\n",
       "        }    #T_526b06f6_5c74_11e9_a257_9cda3ea81686row3_col2 {\n",
       "            min-width:  6em;\n",
       "            background-color: #f7ac8e;\n",
       "            color: #000000;\n",
       "        }    #T_526b06f6_5c74_11e9_a257_9cda3ea81686row3_col3 {\n",
       "            min-width:  6em;\n",
       "            background-color: #f7bca1;\n",
       "            color: #000000;\n",
       "        }    #T_526b06f6_5c74_11e9_a257_9cda3ea81686row3_col4 {\n",
       "            min-width:  6em;\n",
       "            background-color: #f6bfa6;\n",
       "            color: #000000;\n",
       "        }    #T_526b06f6_5c74_11e9_a257_9cda3ea81686row4_col0 {\n",
       "            min-width:  6em;\n",
       "            background-color: #c6d6f1;\n",
       "            color: #000000;\n",
       "        }    #T_526b06f6_5c74_11e9_a257_9cda3ea81686row4_col1 {\n",
       "            min-width:  6em;\n",
       "            background-color: #98b9ff;\n",
       "            color: #000000;\n",
       "        }    #T_526b06f6_5c74_11e9_a257_9cda3ea81686row4_col2 {\n",
       "            min-width:  6em;\n",
       "            background-color: #f4c5ad;\n",
       "            color: #000000;\n",
       "        }    #T_526b06f6_5c74_11e9_a257_9cda3ea81686row4_col3 {\n",
       "            min-width:  6em;\n",
       "            background-color: #cedaeb;\n",
       "            color: #000000;\n",
       "        }    #T_526b06f6_5c74_11e9_a257_9cda3ea81686row4_col4 {\n",
       "            min-width:  6em;\n",
       "            background-color: #7a9df8;\n",
       "            color: #000000;\n",
       "        }    #T_526b06f6_5c74_11e9_a257_9cda3ea81686row5_col0 {\n",
       "            min-width:  6em;\n",
       "            background-color: #c4d5f3;\n",
       "            color: #000000;\n",
       "        }    #T_526b06f6_5c74_11e9_a257_9cda3ea81686row5_col1 {\n",
       "            min-width:  6em;\n",
       "            background-color: #e0dbd8;\n",
       "            color: #000000;\n",
       "        }    #T_526b06f6_5c74_11e9_a257_9cda3ea81686row5_col2 {\n",
       "            min-width:  6em;\n",
       "            background-color: #c6d6f1;\n",
       "            color: #000000;\n",
       "        }    #T_526b06f6_5c74_11e9_a257_9cda3ea81686row5_col3 {\n",
       "            min-width:  6em;\n",
       "            background-color: #c0d4f5;\n",
       "            color: #000000;\n",
       "        }    #T_526b06f6_5c74_11e9_a257_9cda3ea81686row5_col4 {\n",
       "            min-width:  6em;\n",
       "            background-color: #e8d6cc;\n",
       "            color: #000000;\n",
       "        }    #T_526b06f6_5c74_11e9_a257_9cda3ea81686row6_col0 {\n",
       "            min-width:  6em;\n",
       "            background-color: #b3cdfb;\n",
       "            color: #000000;\n",
       "        }    #T_526b06f6_5c74_11e9_a257_9cda3ea81686row6_col1 {\n",
       "            min-width:  6em;\n",
       "            background-color: #f7b79b;\n",
       "            color: #000000;\n",
       "        }    #T_526b06f6_5c74_11e9_a257_9cda3ea81686row6_col2 {\n",
       "            min-width:  6em;\n",
       "            background-color: #7ea1fa;\n",
       "            color: #000000;\n",
       "        }    #T_526b06f6_5c74_11e9_a257_9cda3ea81686row6_col3 {\n",
       "            min-width:  6em;\n",
       "            background-color: #a3c2fe;\n",
       "            color: #000000;\n",
       "        }    #T_526b06f6_5c74_11e9_a257_9cda3ea81686row6_col4 {\n",
       "            min-width:  6em;\n",
       "            background-color: #ee8669;\n",
       "            color: #000000;\n",
       "        }    #T_526b06f6_5c74_11e9_a257_9cda3ea81686row7_col0 {\n",
       "            min-width:  6em;\n",
       "            background-color: #a3c2fe;\n",
       "            color: #000000;\n",
       "        }    #T_526b06f6_5c74_11e9_a257_9cda3ea81686row7_col1 {\n",
       "            min-width:  6em;\n",
       "            background-color: #ec8165;\n",
       "            color: #000000;\n",
       "        }    #T_526b06f6_5c74_11e9_a257_9cda3ea81686row7_col2 {\n",
       "            min-width:  6em;\n",
       "            background-color: #4358cb;\n",
       "            color: #f1f1f1;\n",
       "        }    #T_526b06f6_5c74_11e9_a257_9cda3ea81686row7_col3 {\n",
       "            min-width:  6em;\n",
       "            background-color: #88abfd;\n",
       "            color: #000000;\n",
       "        }    #T_526b06f6_5c74_11e9_a257_9cda3ea81686row7_col4 {\n",
       "            min-width:  6em;\n",
       "            background-color: #b40426;\n",
       "            color: #f1f1f1;\n",
       "        }    #T_526b06f6_5c74_11e9_a257_9cda3ea81686row8_col0 {\n",
       "            min-width:  6em;\n",
       "            background-color: #9ebeff;\n",
       "            color: #000000;\n",
       "        }    #T_526b06f6_5c74_11e9_a257_9cda3ea81686row8_col1 {\n",
       "            min-width:  6em;\n",
       "            background-color: #688aef;\n",
       "            color: #000000;\n",
       "        }    #T_526b06f6_5c74_11e9_a257_9cda3ea81686row8_col2 {\n",
       "            min-width:  6em;\n",
       "            background-color: #e5d8d1;\n",
       "            color: #000000;\n",
       "        }    #T_526b06f6_5c74_11e9_a257_9cda3ea81686row8_col3 {\n",
       "            min-width:  6em;\n",
       "            background-color: #a9c6fd;\n",
       "            color: #000000;\n",
       "        }    #T_526b06f6_5c74_11e9_a257_9cda3ea81686row8_col4 {\n",
       "            min-width:  6em;\n",
       "            background-color: #4a63d3;\n",
       "            color: #f1f1f1;\n",
       "        }    #T_526b06f6_5c74_11e9_a257_9cda3ea81686row9_col0 {\n",
       "            min-width:  6em;\n",
       "            background-color: #96b7ff;\n",
       "            color: #000000;\n",
       "        }    #T_526b06f6_5c74_11e9_a257_9cda3ea81686row9_col1 {\n",
       "            min-width:  6em;\n",
       "            background-color: #9abbff;\n",
       "            color: #000000;\n",
       "        }    #T_526b06f6_5c74_11e9_a257_9cda3ea81686row9_col2 {\n",
       "            min-width:  6em;\n",
       "            background-color: #b7cff9;\n",
       "            color: #000000;\n",
       "        }    #T_526b06f6_5c74_11e9_a257_9cda3ea81686row9_col3 {\n",
       "            min-width:  6em;\n",
       "            background-color: #96b7ff;\n",
       "            color: #000000;\n",
       "        }    #T_526b06f6_5c74_11e9_a257_9cda3ea81686row9_col4 {\n",
       "            min-width:  6em;\n",
       "            background-color: #98b9ff;\n",
       "            color: #000000;\n",
       "        }    #T_526b06f6_5c74_11e9_a257_9cda3ea81686row10_col0 {\n",
       "            min-width:  6em;\n",
       "            background-color: #94b6ff;\n",
       "            color: #000000;\n",
       "        }    #T_526b06f6_5c74_11e9_a257_9cda3ea81686row10_col1 {\n",
       "            min-width:  6em;\n",
       "            background-color: #5b7ae5;\n",
       "            color: #000000;\n",
       "        }    #T_526b06f6_5c74_11e9_a257_9cda3ea81686row10_col2 {\n",
       "            min-width:  6em;\n",
       "            background-color: #e0dbd8;\n",
       "            color: #000000;\n",
       "        }    #T_526b06f6_5c74_11e9_a257_9cda3ea81686row10_col3 {\n",
       "            min-width:  6em;\n",
       "            background-color: #9ebeff;\n",
       "            color: #000000;\n",
       "        }    #T_526b06f6_5c74_11e9_a257_9cda3ea81686row10_col4 {\n",
       "            min-width:  6em;\n",
       "            background-color: #3d50c3;\n",
       "            color: #f1f1f1;\n",
       "        }    #T_526b06f6_5c74_11e9_a257_9cda3ea81686row11_col0 {\n",
       "            min-width:  6em;\n",
       "            background-color: #93b5fe;\n",
       "            color: #000000;\n",
       "        }    #T_526b06f6_5c74_11e9_a257_9cda3ea81686row11_col1 {\n",
       "            min-width:  6em;\n",
       "            background-color: #d3dbe7;\n",
       "            color: #000000;\n",
       "        }    #T_526b06f6_5c74_11e9_a257_9cda3ea81686row11_col2 {\n",
       "            min-width:  6em;\n",
       "            background-color: #81a4fb;\n",
       "            color: #000000;\n",
       "        }    #T_526b06f6_5c74_11e9_a257_9cda3ea81686row11_col3 {\n",
       "            min-width:  6em;\n",
       "            background-color: #88abfd;\n",
       "            color: #000000;\n",
       "        }    #T_526b06f6_5c74_11e9_a257_9cda3ea81686row11_col4 {\n",
       "            min-width:  6em;\n",
       "            background-color: #e8d6cc;\n",
       "            color: #000000;\n",
       "        }    #T_526b06f6_5c74_11e9_a257_9cda3ea81686row12_col0 {\n",
       "            min-width:  6em;\n",
       "            background-color: #8caffe;\n",
       "            color: #000000;\n",
       "        }    #T_526b06f6_5c74_11e9_a257_9cda3ea81686row12_col1 {\n",
       "            min-width:  6em;\n",
       "            background-color: #f7aa8c;\n",
       "            color: #000000;\n",
       "        }    #T_526b06f6_5c74_11e9_a257_9cda3ea81686row12_col2 {\n",
       "            min-width:  6em;\n",
       "            background-color: #3b4cc0;\n",
       "            color: #f1f1f1;\n",
       "        }    #T_526b06f6_5c74_11e9_a257_9cda3ea81686row12_col3 {\n",
       "            min-width:  6em;\n",
       "            background-color: #7396f5;\n",
       "            color: #000000;\n",
       "        }    #T_526b06f6_5c74_11e9_a257_9cda3ea81686row12_col4 {\n",
       "            min-width:  6em;\n",
       "            background-color: #d85646;\n",
       "            color: #000000;\n",
       "        }    #T_526b06f6_5c74_11e9_a257_9cda3ea81686row13_col0 {\n",
       "            min-width:  6em;\n",
       "            background-color: #688aef;\n",
       "            color: #000000;\n",
       "        }    #T_526b06f6_5c74_11e9_a257_9cda3ea81686row13_col1 {\n",
       "            min-width:  6em;\n",
       "            background-color: #88abfd;\n",
       "            color: #000000;\n",
       "        }    #T_526b06f6_5c74_11e9_a257_9cda3ea81686row13_col2 {\n",
       "            min-width:  6em;\n",
       "            background-color: #7a9df8;\n",
       "            color: #000000;\n",
       "        }    #T_526b06f6_5c74_11e9_a257_9cda3ea81686row13_col3 {\n",
       "            min-width:  6em;\n",
       "            background-color: #6384eb;\n",
       "            color: #000000;\n",
       "        }    #T_526b06f6_5c74_11e9_a257_9cda3ea81686row13_col4 {\n",
       "            min-width:  6em;\n",
       "            background-color: #94b6ff;\n",
       "            color: #000000;\n",
       "        }    #T_526b06f6_5c74_11e9_a257_9cda3ea81686row14_col0 {\n",
       "            min-width:  6em;\n",
       "            background-color: #3b4cc0;\n",
       "            color: #f1f1f1;\n",
       "        }    #T_526b06f6_5c74_11e9_a257_9cda3ea81686row14_col1 {\n",
       "            min-width:  6em;\n",
       "            background-color: #3b4cc0;\n",
       "            color: #f1f1f1;\n",
       "        }    #T_526b06f6_5c74_11e9_a257_9cda3ea81686row14_col2 {\n",
       "            min-width:  6em;\n",
       "            background-color: #6788ee;\n",
       "            color: #000000;\n",
       "        }    #T_526b06f6_5c74_11e9_a257_9cda3ea81686row14_col3 {\n",
       "            min-width:  6em;\n",
       "            background-color: #3b4cc0;\n",
       "            color: #f1f1f1;\n",
       "        }    #T_526b06f6_5c74_11e9_a257_9cda3ea81686row14_col4 {\n",
       "            min-width:  6em;\n",
       "            background-color: #3b4cc0;\n",
       "            color: #f1f1f1;\n",
       "        }</style><table id=\"T_526b06f6_5c74_11e9_a257_9cda3ea81686\" ><thead>    <tr>        <th class=\"blank\" ></th>        <th class=\"blank level0\" ></th>        <th class=\"col_heading level0 col0\" >accuracy</th>        <th class=\"col_heading level0 col1\" >precision</th>        <th class=\"col_heading level0 col2\" >recall</th>        <th class=\"col_heading level0 col3\" >f1</th>        <th class=\"col_heading level0 col4\" >specificity</th>    </tr>    <tr>        <th class=\"index_name level0\" >vectorizer</th>        <th class=\"index_name level1\" >classifier</th>        <th class=\"blank\" ></th>        <th class=\"blank\" ></th>        <th class=\"blank\" ></th>        <th class=\"blank\" ></th>        <th class=\"blank\" ></th>    </tr></thead><tbody>\n",
       "                <tr>\n",
       "                        <th id=\"T_526b06f6_5c74_11e9_a257_9cda3ea81686level0_row0\" class=\"row_heading level0 row0\" rowspan=2>TfidfVectorizer</th>\n",
       "                        <th id=\"T_526b06f6_5c74_11e9_a257_9cda3ea81686level1_row0\" class=\"row_heading level1 row0\" >LinearSVC</th>\n",
       "                        <td id=\"T_526b06f6_5c74_11e9_a257_9cda3ea81686row0_col0\" class=\"data row0 col0\" >0.890</td>\n",
       "                        <td id=\"T_526b06f6_5c74_11e9_a257_9cda3ea81686row0_col1\" class=\"data row0 col1\" >0.880</td>\n",
       "                        <td id=\"T_526b06f6_5c74_11e9_a257_9cda3ea81686row0_col2\" class=\"data row0 col2\" >0.903</td>\n",
       "                        <td id=\"T_526b06f6_5c74_11e9_a257_9cda3ea81686row0_col3\" class=\"data row0 col3\" >0.891</td>\n",
       "                        <td id=\"T_526b06f6_5c74_11e9_a257_9cda3ea81686row0_col4\" class=\"data row0 col4\" >0.878</td>\n",
       "            </tr>\n",
       "            <tr>\n",
       "                                <th id=\"T_526b06f6_5c74_11e9_a257_9cda3ea81686level1_row1\" class=\"row_heading level1 row1\" >LogisticRegression</th>\n",
       "                        <td id=\"T_526b06f6_5c74_11e9_a257_9cda3ea81686row1_col0\" class=\"data row1 col0\" >0.881</td>\n",
       "                        <td id=\"T_526b06f6_5c74_11e9_a257_9cda3ea81686row1_col1\" class=\"data row1 col1\" >0.867</td>\n",
       "                        <td id=\"T_526b06f6_5c74_11e9_a257_9cda3ea81686row1_col2\" class=\"data row1 col2\" >0.897</td>\n",
       "                        <td id=\"T_526b06f6_5c74_11e9_a257_9cda3ea81686row1_col3\" class=\"data row1 col3\" >0.882</td>\n",
       "                        <td id=\"T_526b06f6_5c74_11e9_a257_9cda3ea81686row1_col4\" class=\"data row1 col4\" >0.864</td>\n",
       "            </tr>\n",
       "            <tr>\n",
       "                        <th id=\"T_526b06f6_5c74_11e9_a257_9cda3ea81686level0_row2\" class=\"row_heading level0 row2\" >CountVectorizer_NonBin</th>\n",
       "                        <th id=\"T_526b06f6_5c74_11e9_a257_9cda3ea81686level1_row2\" class=\"row_heading level1 row2\" >LogisticRegression</th>\n",
       "                        <td id=\"T_526b06f6_5c74_11e9_a257_9cda3ea81686row2_col0\" class=\"data row2 col0\" >0.877</td>\n",
       "                        <td id=\"T_526b06f6_5c74_11e9_a257_9cda3ea81686row2_col1\" class=\"data row2 col1\" >0.871</td>\n",
       "                        <td id=\"T_526b06f6_5c74_11e9_a257_9cda3ea81686row2_col2\" class=\"data row2 col2\" >0.882</td>\n",
       "                        <td id=\"T_526b06f6_5c74_11e9_a257_9cda3ea81686row2_col3\" class=\"data row2 col3\" >0.877</td>\n",
       "                        <td id=\"T_526b06f6_5c74_11e9_a257_9cda3ea81686row2_col4\" class=\"data row2 col4\" >0.871</td>\n",
       "            </tr>\n",
       "            <tr>\n",
       "                        <th id=\"T_526b06f6_5c74_11e9_a257_9cda3ea81686level0_row3\" class=\"row_heading level0 row3\" >CountVectorizer_Bin</th>\n",
       "                        <th id=\"T_526b06f6_5c74_11e9_a257_9cda3ea81686level1_row3\" class=\"row_heading level1 row3\" >LogisticRegression</th>\n",
       "                        <td id=\"T_526b06f6_5c74_11e9_a257_9cda3ea81686row3_col0\" class=\"data row3 col0\" >0.874</td>\n",
       "                        <td id=\"T_526b06f6_5c74_11e9_a257_9cda3ea81686row3_col1\" class=\"data row3 col1\" >0.866</td>\n",
       "                        <td id=\"T_526b06f6_5c74_11e9_a257_9cda3ea81686row3_col2\" class=\"data row3 col2\" >0.882</td>\n",
       "                        <td id=\"T_526b06f6_5c74_11e9_a257_9cda3ea81686row3_col3\" class=\"data row3 col3\" >0.874</td>\n",
       "                        <td id=\"T_526b06f6_5c74_11e9_a257_9cda3ea81686row3_col4\" class=\"data row3 col4\" >0.866</td>\n",
       "            </tr>\n",
       "            <tr>\n",
       "                        <th id=\"T_526b06f6_5c74_11e9_a257_9cda3ea81686level0_row4\" class=\"row_heading level0 row4\" rowspan=2>CountVectorizer_NonBin</th>\n",
       "                        <th id=\"T_526b06f6_5c74_11e9_a257_9cda3ea81686level1_row4\" class=\"row_heading level1 row4\" >LGBMClassifier</th>\n",
       "                        <td id=\"T_526b06f6_5c74_11e9_a257_9cda3ea81686row4_col0\" class=\"data row4 col0\" >0.863</td>\n",
       "                        <td id=\"T_526b06f6_5c74_11e9_a257_9cda3ea81686row4_col1\" class=\"data row4 col1\" >0.852</td>\n",
       "                        <td id=\"T_526b06f6_5c74_11e9_a257_9cda3ea81686row4_col2\" class=\"data row4 col2\" >0.877</td>\n",
       "                        <td id=\"T_526b06f6_5c74_11e9_a257_9cda3ea81686row4_col3\" class=\"data row4 col3\" >0.864</td>\n",
       "                        <td id=\"T_526b06f6_5c74_11e9_a257_9cda3ea81686row4_col4\" class=\"data row4 col4\" >0.849</td>\n",
       "            </tr>\n",
       "            <tr>\n",
       "                                <th id=\"T_526b06f6_5c74_11e9_a257_9cda3ea81686level1_row5\" class=\"row_heading level1 row5\" >LinearSVC</th>\n",
       "                        <td id=\"T_526b06f6_5c74_11e9_a257_9cda3ea81686row5_col0\" class=\"data row5 col0\" >0.863</td>\n",
       "                        <td id=\"T_526b06f6_5c74_11e9_a257_9cda3ea81686row5_col1\" class=\"data row5 col1\" >0.861</td>\n",
       "                        <td id=\"T_526b06f6_5c74_11e9_a257_9cda3ea81686row5_col2\" class=\"data row5 col2\" >0.864</td>\n",
       "                        <td id=\"T_526b06f6_5c74_11e9_a257_9cda3ea81686row5_col3\" class=\"data row5 col3\" >0.862</td>\n",
       "                        <td id=\"T_526b06f6_5c74_11e9_a257_9cda3ea81686row5_col4\" class=\"data row5 col4\" >0.862</td>\n",
       "            </tr>\n",
       "            <tr>\n",
       "                        <th id=\"T_526b06f6_5c74_11e9_a257_9cda3ea81686level0_row6\" class=\"row_heading level0 row6\" >TfidfVectorizer</th>\n",
       "                        <th id=\"T_526b06f6_5c74_11e9_a257_9cda3ea81686level1_row6\" class=\"row_heading level1 row6\" >MultinomialNB</th>\n",
       "                        <td id=\"T_526b06f6_5c74_11e9_a257_9cda3ea81686row6_col0\" class=\"data row6 col0\" >0.860</td>\n",
       "                        <td id=\"T_526b06f6_5c74_11e9_a257_9cda3ea81686row6_col1\" class=\"data row6 col1\" >0.867</td>\n",
       "                        <td id=\"T_526b06f6_5c74_11e9_a257_9cda3ea81686row6_col2\" class=\"data row6 col2\" >0.849</td>\n",
       "                        <td id=\"T_526b06f6_5c74_11e9_a257_9cda3ea81686row6_col3\" class=\"data row6 col3\" >0.858</td>\n",
       "                        <td id=\"T_526b06f6_5c74_11e9_a257_9cda3ea81686row6_col4\" class=\"data row6 col4\" >0.871</td>\n",
       "            </tr>\n",
       "            <tr>\n",
       "                        <th id=\"T_526b06f6_5c74_11e9_a257_9cda3ea81686level0_row7\" class=\"row_heading level0 row7\" >CountVectorizer_Bin</th>\n",
       "                        <th id=\"T_526b06f6_5c74_11e9_a257_9cda3ea81686level1_row7\" class=\"row_heading level1 row7\" >MultinomialNB</th>\n",
       "                        <td id=\"T_526b06f6_5c74_11e9_a257_9cda3ea81686row7_col0\" class=\"data row7 col0\" >0.858</td>\n",
       "                        <td id=\"T_526b06f6_5c74_11e9_a257_9cda3ea81686row7_col1\" class=\"data row7 col1\" >0.872</td>\n",
       "                        <td id=\"T_526b06f6_5c74_11e9_a257_9cda3ea81686row7_col2\" class=\"data row7 col2\" >0.837</td>\n",
       "                        <td id=\"T_526b06f6_5c74_11e9_a257_9cda3ea81686row7_col3\" class=\"data row7 col3\" >0.854</td>\n",
       "                        <td id=\"T_526b06f6_5c74_11e9_a257_9cda3ea81686row7_col4\" class=\"data row7 col4\" >0.879</td>\n",
       "            </tr>\n",
       "            <tr>\n",
       "                        <th id=\"T_526b06f6_5c74_11e9_a257_9cda3ea81686level0_row8\" class=\"row_heading level0 row8\" >TfidfVectorizer</th>\n",
       "                        <th id=\"T_526b06f6_5c74_11e9_a257_9cda3ea81686level1_row8\" class=\"row_heading level1 row8\" >LGBMClassifier</th>\n",
       "                        <td id=\"T_526b06f6_5c74_11e9_a257_9cda3ea81686row8_col0\" class=\"data row8 col0\" >0.858</td>\n",
       "                        <td id=\"T_526b06f6_5c74_11e9_a257_9cda3ea81686row8_col1\" class=\"data row8 col1\" >0.847</td>\n",
       "                        <td id=\"T_526b06f6_5c74_11e9_a257_9cda3ea81686row8_col2\" class=\"data row8 col2\" >0.871</td>\n",
       "                        <td id=\"T_526b06f6_5c74_11e9_a257_9cda3ea81686row8_col3\" class=\"data row8 col3\" >0.859</td>\n",
       "                        <td id=\"T_526b06f6_5c74_11e9_a257_9cda3ea81686row8_col4\" class=\"data row8 col4\" >0.844</td>\n",
       "            </tr>\n",
       "            <tr>\n",
       "                        <th id=\"T_526b06f6_5c74_11e9_a257_9cda3ea81686level0_row9\" class=\"row_heading level0 row9\" rowspan=3>CountVectorizer_Bin</th>\n",
       "                        <th id=\"T_526b06f6_5c74_11e9_a257_9cda3ea81686level1_row9\" class=\"row_heading level1 row9\" >LinearSVC</th>\n",
       "                        <td id=\"T_526b06f6_5c74_11e9_a257_9cda3ea81686row9_col0\" class=\"data row9 col0\" >0.856</td>\n",
       "                        <td id=\"T_526b06f6_5c74_11e9_a257_9cda3ea81686row9_col1\" class=\"data row9 col1\" >0.852</td>\n",
       "                        <td id=\"T_526b06f6_5c74_11e9_a257_9cda3ea81686row9_col2\" class=\"data row9 col2\" >0.860</td>\n",
       "                        <td id=\"T_526b06f6_5c74_11e9_a257_9cda3ea81686row9_col3\" class=\"data row9 col3\" >0.856</td>\n",
       "                        <td id=\"T_526b06f6_5c74_11e9_a257_9cda3ea81686row9_col4\" class=\"data row9 col4\" >0.852</td>\n",
       "            </tr>\n",
       "            <tr>\n",
       "                                <th id=\"T_526b06f6_5c74_11e9_a257_9cda3ea81686level1_row10\" class=\"row_heading level1 row10\" >LGBMClassifier</th>\n",
       "                        <td id=\"T_526b06f6_5c74_11e9_a257_9cda3ea81686row10_col0\" class=\"data row10 col0\" >0.856</td>\n",
       "                        <td id=\"T_526b06f6_5c74_11e9_a257_9cda3ea81686row10_col1\" class=\"data row10 col1\" >0.845</td>\n",
       "                        <td id=\"T_526b06f6_5c74_11e9_a257_9cda3ea81686row10_col2\" class=\"data row10 col2\" >0.870</td>\n",
       "                        <td id=\"T_526b06f6_5c74_11e9_a257_9cda3ea81686row10_col3\" class=\"data row10 col3\" >0.857</td>\n",
       "                        <td id=\"T_526b06f6_5c74_11e9_a257_9cda3ea81686row10_col4\" class=\"data row10 col4\" >0.843</td>\n",
       "            </tr>\n",
       "            <tr>\n",
       "                                <th id=\"T_526b06f6_5c74_11e9_a257_9cda3ea81686level1_row11\" class=\"row_heading level1 row11\" >RandomForestClassifier</th>\n",
       "                        <td id=\"T_526b06f6_5c74_11e9_a257_9cda3ea81686row11_col0\" class=\"data row11 col0\" >0.856</td>\n",
       "                        <td id=\"T_526b06f6_5c74_11e9_a257_9cda3ea81686row11_col1\" class=\"data row11 col1\" >0.859</td>\n",
       "                        <td id=\"T_526b06f6_5c74_11e9_a257_9cda3ea81686row11_col2\" class=\"data row11 col2\" >0.850</td>\n",
       "                        <td id=\"T_526b06f6_5c74_11e9_a257_9cda3ea81686row11_col3\" class=\"data row11 col3\" >0.854</td>\n",
       "                        <td id=\"T_526b06f6_5c74_11e9_a257_9cda3ea81686row11_col4\" class=\"data row11 col4\" >0.862</td>\n",
       "            </tr>\n",
       "            <tr>\n",
       "                        <th id=\"T_526b06f6_5c74_11e9_a257_9cda3ea81686level0_row12\" class=\"row_heading level0 row12\" rowspan=2>CountVectorizer_NonBin</th>\n",
       "                        <th id=\"T_526b06f6_5c74_11e9_a257_9cda3ea81686level1_row12\" class=\"row_heading level1 row12\" >MultinomialNB</th>\n",
       "                        <td id=\"T_526b06f6_5c74_11e9_a257_9cda3ea81686row12_col0\" class=\"data row12 col0\" >0.855</td>\n",
       "                        <td id=\"T_526b06f6_5c74_11e9_a257_9cda3ea81686row12_col1\" class=\"data row12 col1\" >0.868</td>\n",
       "                        <td id=\"T_526b06f6_5c74_11e9_a257_9cda3ea81686row12_col2\" class=\"data row12 col2\" >0.835</td>\n",
       "                        <td id=\"T_526b06f6_5c74_11e9_a257_9cda3ea81686row12_col3\" class=\"data row12 col3\" >0.852</td>\n",
       "                        <td id=\"T_526b06f6_5c74_11e9_a257_9cda3ea81686row12_col4\" class=\"data row12 col4\" >0.875</td>\n",
       "            </tr>\n",
       "            <tr>\n",
       "                                <th id=\"T_526b06f6_5c74_11e9_a257_9cda3ea81686level1_row13\" class=\"row_heading level1 row13\" >RandomForestClassifier</th>\n",
       "                        <td id=\"T_526b06f6_5c74_11e9_a257_9cda3ea81686row13_col0\" class=\"data row13 col0\" >0.850</td>\n",
       "                        <td id=\"T_526b06f6_5c74_11e9_a257_9cda3ea81686row13_col1\" class=\"data row13 col1\" >0.850</td>\n",
       "                        <td id=\"T_526b06f6_5c74_11e9_a257_9cda3ea81686row13_col2\" class=\"data row13 col2\" >0.849</td>\n",
       "                        <td id=\"T_526b06f6_5c74_11e9_a257_9cda3ea81686row13_col3\" class=\"data row13 col3\" >0.849</td>\n",
       "                        <td id=\"T_526b06f6_5c74_11e9_a257_9cda3ea81686row13_col4\" class=\"data row13 col4\" >0.852</td>\n",
       "            </tr>\n",
       "            <tr>\n",
       "                        <th id=\"T_526b06f6_5c74_11e9_a257_9cda3ea81686level0_row14\" class=\"row_heading level0 row14\" >TfidfVectorizer</th>\n",
       "                        <th id=\"T_526b06f6_5c74_11e9_a257_9cda3ea81686level1_row14\" class=\"row_heading level1 row14\" >RandomForestClassifier</th>\n",
       "                        <td id=\"T_526b06f6_5c74_11e9_a257_9cda3ea81686row14_col0\" class=\"data row14 col0\" >0.844</td>\n",
       "                        <td id=\"T_526b06f6_5c74_11e9_a257_9cda3ea81686row14_col1\" class=\"data row14 col1\" >0.841</td>\n",
       "                        <td id=\"T_526b06f6_5c74_11e9_a257_9cda3ea81686row14_col2\" class=\"data row14 col2\" >0.845</td>\n",
       "                        <td id=\"T_526b06f6_5c74_11e9_a257_9cda3ea81686row14_col3\" class=\"data row14 col3\" >0.843</td>\n",
       "                        <td id=\"T_526b06f6_5c74_11e9_a257_9cda3ea81686row14_col4\" class=\"data row14 col4\" >0.842</td>\n",
       "            </tr>\n",
       "    </tbody></table>"
      ],
      "text/plain": [
       "<pandas.io.formats.style.Styler at 0x154ad074d68>"
      ]
     },
     "execution_count": 20,
     "metadata": {},
     "output_type": "execute_result"
    }
   ],
   "source": [
    "'''metrics_df \\\n",
    "    .sort_values(['accuracy', 'precision', 'recall'], ascending=False).style \\\n",
    "    .format('{:.3f}') \\\n",
    "    .set_properties(**{'min-width': '6em'}) \\\n",
    "    .background_gradient(cmap=\"coolwarm\")'''\n",
    "\n",
    "# Having to write this custom background colouring routine because Pandas and Matplotlib can't \n",
    "#  apply background colours to multiindex DataFrames for some reason (see code above)\n",
    "\n",
    "from matplotlib import colors\n",
    "def my_background_gradient(s, cmap='coolwarm'):\n",
    "    def relative_luminance(rgba):\n",
    "        r, g, b = (x / 12.92 if x <= 0.03928 else ((x + 0.055) / 1.055 ** 2.4) for x in rgba[:3])\n",
    "        return 0.2126 * r + 0.7152 * g + 0.0722 * b\n",
    "    \n",
    "    def font_color(bg_color):\n",
    "        rgba = list(colors.hex2color(bg_color))\n",
    "        return '#f1f1f1' if relative_luminance(rgba) < 0.408 else '#000000'\n",
    "    \n",
    "    m = s.min().min()\n",
    "    M = s.max().max()\n",
    "    norm = colors.Normalize(m, M)\n",
    "    normed = s.apply(norm)\n",
    "    cm = plt.cm.get_cmap(cmap)\n",
    "    c = normed.apply(lambda x: colors.rgb2hex(cm(x)))\n",
    "    ret = c.apply(lambda x: 'background-color:%s;color:%s' % (x, font_color(x)))\n",
    "    return ret\n",
    "\n",
    "metrics_df \\\n",
    "    .sort_values(['accuracy', 'precision', 'recall'], ascending=False).style \\\n",
    "        .format('{:.3f}') \\\n",
    "        .set_properties(**{'min-width': '6em'}) \\\n",
    "        .apply(my_background_gradient, cmap=\"coolwarm\", axis=0)"
   ]
  },
  {
   "cell_type": "code",
   "execution_count": null,
   "metadata": {},
   "outputs": [],
   "source": []
  }
 ],
 "metadata": {
  "kernelspec": {
   "display_name": "Python 3",
   "language": "python",
   "name": "python3"
  },
  "language_info": {
   "codemirror_mode": {
    "name": "ipython",
    "version": 3
   },
   "file_extension": ".py",
   "mimetype": "text/x-python",
   "name": "python",
   "nbconvert_exporter": "python",
   "pygments_lexer": "ipython3",
   "version": "3.7.0"
  },
  "notify_time": "10"
 },
 "nbformat": 4,
 "nbformat_minor": 2
}
