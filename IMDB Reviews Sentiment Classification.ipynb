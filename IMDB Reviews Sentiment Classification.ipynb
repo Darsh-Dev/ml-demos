{
 "cells": [
  {
   "cell_type": "code",
   "execution_count": 1,
   "metadata": {
    "ExecuteTime": {
     "end_time": "2019-04-11T13:06:16.771331Z",
     "start_time": "2019-04-11T13:06:16.760267Z"
    }
   },
   "outputs": [
    {
     "data": {
      "text/html": [
       "<style> .container{ width:90%; } </style>"
      ],
      "text/plain": [
       "<IPython.core.display.HTML object>"
      ]
     },
     "execution_count": 1,
     "metadata": {},
     "output_type": "execute_result"
    }
   ],
   "source": [
    "from IPython.core.display import HTML\n",
    "HTML('<style> .container{ width:90%; } </style>')"
   ]
  },
  {
   "cell_type": "code",
   "execution_count": 2,
   "metadata": {
    "ExecuteTime": {
     "end_time": "2019-04-11T13:06:23.238492Z",
     "start_time": "2019-04-11T13:06:23.232476Z"
    }
   },
   "outputs": [
    {
     "data": {
      "text/plain": [
       "'import sys\\n!{sys.executable} -m pip install numpy\\n!{sys.executable} -m pip install pandas\\n!{sys.executable} -m pip install regex\\n!{sys.executable} -m pip install contractions\\n!{sys.executable} -m pip install nltk\\n!{sys.executable} -m pip install matplotlib\\n!{sys.executable} -m pip install seaborn\\n!{sys.executable} -m pip install sklearn\\n!{sys.executable} -m pip install xgboost\\n!{sys.executable} -m pip install lightgbm\\n!{sys.executable} -m pip install tensorflow\\n!{sys.executable} -m pip install keras\\n!{sys.executable} -m pip install keras_metrics\\n!{sys.executable} -m pip install h5py'"
      ]
     },
     "execution_count": 2,
     "metadata": {},
     "output_type": "execute_result"
    }
   ],
   "source": [
    "'''import sys\n",
    "!{sys.executable} -m pip install numpy\n",
    "!{sys.executable} -m pip install pandas\n",
    "!{sys.executable} -m pip install regex\n",
    "!{sys.executable} -m pip install contractions\n",
    "!{sys.executable} -m pip install nltk\n",
    "!{sys.executable} -m pip install matplotlib\n",
    "!{sys.executable} -m pip install seaborn\n",
    "!{sys.executable} -m pip install sklearn\n",
    "!{sys.executable} -m pip install xgboost\n",
    "!{sys.executable} -m pip install lightgbm\n",
    "!{sys.executable} -m pip install tensorflow\n",
    "!{sys.executable} -m pip install keras\n",
    "!{sys.executable} -m pip install keras_metrics\n",
    "!{sys.executable} -m pip install h5py'''"
   ]
  },
  {
   "cell_type": "code",
   "execution_count": 3,
   "metadata": {
    "ExecuteTime": {
     "end_time": "2019-04-11T13:06:28.698017Z",
     "start_time": "2019-04-11T13:06:24.222052Z"
    }
   },
   "outputs": [],
   "source": [
    "import regex\n",
    "import numpy as np\n",
    "import pandas as pd\n",
    "import matplotlib as mpl\n",
    "import matplotlib.pyplot as plt\n",
    "import seaborn as sns\n",
    "\n",
    "%matplotlib inline"
   ]
  },
  {
   "cell_type": "code",
   "execution_count": 4,
   "metadata": {
    "ExecuteTime": {
     "end_time": "2019-04-11T13:06:29.235329Z",
     "start_time": "2019-04-11T13:06:28.699999Z"
    }
   },
   "outputs": [],
   "source": [
    "train = pd.read_csv('data/imdb_reviews_train.txt', sep=\"\\t\")\n",
    "train.text = train.text.str.strip()\n",
    "train.text = train.text.str.lower()"
   ]
  },
  {
   "cell_type": "code",
   "execution_count": 5,
   "metadata": {
    "ExecuteTime": {
     "end_time": "2019-04-11T13:06:29.253026Z",
     "start_time": "2019-04-11T13:06:29.237003Z"
    }
   },
   "outputs": [
    {
     "data": {
      "text/html": [
       "<div>\n",
       "<style scoped>\n",
       "    .dataframe tbody tr th:only-of-type {\n",
       "        vertical-align: middle;\n",
       "    }\n",
       "\n",
       "    .dataframe tbody tr th {\n",
       "        vertical-align: top;\n",
       "    }\n",
       "\n",
       "    .dataframe thead th {\n",
       "        text-align: right;\n",
       "    }\n",
       "</style>\n",
       "<table border=\"1\" class=\"dataframe\">\n",
       "  <thead>\n",
       "    <tr style=\"text-align: right;\">\n",
       "      <th></th>\n",
       "      <th>text</th>\n",
       "      <th>review</th>\n",
       "    </tr>\n",
       "  </thead>\n",
       "  <tbody>\n",
       "    <tr>\n",
       "      <th>0</th>\n",
       "      <td>story of a man who has unnatural feelings for ...</td>\n",
       "      <td>neg</td>\n",
       "    </tr>\n",
       "    <tr>\n",
       "      <th>1</th>\n",
       "      <td>airport '77 starts as a brand new luxury 747 p...</td>\n",
       "      <td>neg</td>\n",
       "    </tr>\n",
       "    <tr>\n",
       "      <th>2</th>\n",
       "      <td>this film lacked something i couldn't put my f...</td>\n",
       "      <td>neg</td>\n",
       "    </tr>\n",
       "    <tr>\n",
       "      <th>3</th>\n",
       "      <td>sorry everyone,,, i know this is supposed to b...</td>\n",
       "      <td>neg</td>\n",
       "    </tr>\n",
       "    <tr>\n",
       "      <th>4</th>\n",
       "      <td>when i was little my parents took me along to ...</td>\n",
       "      <td>neg</td>\n",
       "    </tr>\n",
       "    <tr>\n",
       "      <th>5</th>\n",
       "      <td>it appears that many critics find the idea of ...</td>\n",
       "      <td>neg</td>\n",
       "    </tr>\n",
       "    <tr>\n",
       "      <th>6</th>\n",
       "      <td>the second attempt by a new york intellectual ...</td>\n",
       "      <td>neg</td>\n",
       "    </tr>\n",
       "    <tr>\n",
       "      <th>7</th>\n",
       "      <td>i don't know who to blame, the timid writers o...</td>\n",
       "      <td>neg</td>\n",
       "    </tr>\n",
       "    <tr>\n",
       "      <th>8</th>\n",
       "      <td>this film is mediocre at best. angie harmon is...</td>\n",
       "      <td>neg</td>\n",
       "    </tr>\n",
       "    <tr>\n",
       "      <th>9</th>\n",
       "      <td>the film is bad. there is no other way to say ...</td>\n",
       "      <td>neg</td>\n",
       "    </tr>\n",
       "  </tbody>\n",
       "</table>\n",
       "</div>"
      ],
      "text/plain": [
       "                                                text review\n",
       "0  story of a man who has unnatural feelings for ...    neg\n",
       "1  airport '77 starts as a brand new luxury 747 p...    neg\n",
       "2  this film lacked something i couldn't put my f...    neg\n",
       "3  sorry everyone,,, i know this is supposed to b...    neg\n",
       "4  when i was little my parents took me along to ...    neg\n",
       "5  it appears that many critics find the idea of ...    neg\n",
       "6  the second attempt by a new york intellectual ...    neg\n",
       "7  i don't know who to blame, the timid writers o...    neg\n",
       "8  this film is mediocre at best. angie harmon is...    neg\n",
       "9  the film is bad. there is no other way to say ...    neg"
      ]
     },
     "execution_count": 5,
     "metadata": {},
     "output_type": "execute_result"
    }
   ],
   "source": [
    "train.head(10)"
   ]
  },
  {
   "cell_type": "code",
   "execution_count": 6,
   "metadata": {
    "ExecuteTime": {
     "end_time": "2019-04-11T13:06:29.263001Z",
     "start_time": "2019-04-11T13:06:29.256002Z"
    }
   },
   "outputs": [
    {
     "data": {
      "text/plain": [
       "'the film is bad. there is no other way to say it. the story is weak and outdated, especially for this country. i don\\'t think most people know what a \"walker\" is or will really care. i felt as if i was watching a movie from the 70\\'s. the subject was just not believable for the year 2007, even being set in dc. i think this rang true for everyone else who watched it too as the applause were low and quick at the end. most didn\\'t stay for the q&a either.<br /><br />i don\\'t think schrader really thought the film out ahead of time. many of the scenes seemed to be cut short as if they were never finished or he just didn\\'t know how to finish them. he jumped from one scene to the next and you had to try and figure out or guess what was going on. i really didn\\'t get woody\\'s (carter) private life or boyfriend either. what were all the \"artistic\" male bondage and torture pictures (from iraq prisons) about? what was he thinking? i think it was his very poor attempt at trying to create this dark private subculture life for woody\\'s character (car). it didn\\'t work. it didn\\'t even seem to make sense really.<br /><br />the only good thing about this film was woody harrelson. he played his character (car) flawlessly. you really did get a great sense of what a \"walker\" may have been like (say twenty years ago). he was great and most likely will never get recognized for it. <br /><br />as for lauren, lily and kristin... boring.<br /><br />don\\'t see it! it is painful! unless you are a true harrelson fan.'"
      ]
     },
     "execution_count": 6,
     "metadata": {},
     "output_type": "execute_result"
    }
   ],
   "source": [
    "train.iloc[9]['text']"
   ]
  },
  {
   "cell_type": "markdown",
   "metadata": {},
   "source": [
    "Replace contractions, e.g. \"didn't\" ==> \"did not\""
   ]
  },
  {
   "cell_type": "code",
   "execution_count": 7,
   "metadata": {
    "ExecuteTime": {
     "end_time": "2019-04-11T13:07:23.440397Z",
     "start_time": "2019-04-11T13:06:29.264999Z"
    }
   },
   "outputs": [
    {
     "data": {
      "text/plain": [
       "'the film is bad. there is no other way to say it. the story is weak and outdated, especially for this country. i do not think most people know what a \"walker\" is or will really care. i felt as if i was watching a movie from the 70\\'s. the subject was just not believable for the year 2007, even being set in dc. i think this rang true for everyone else who watched it too as the applause were low and quick at the end. most did not stay for the q&a either.<br /><br />i do not think schrader really thought the film out ahead of time. many of the scenes seemed to be cut short as if they were never finished or he just did not know how to finish them. he jumped from one scene to the next and you had to try and figure out or guess what was going on. i really did not get woody\\'s (carter) private life or boyfriend either. what were all the \"artistic\" male bondage and torture pictures (from iraq prisons) about? what was he thinking? i think it was his very poor attempt at trying to create this dark private subculture life for woody\\'s character (car). it did not work. it did not even seem to make sense really.<br /><br />the only good thing about this film was woody harrelson. he played his character (car) flawlessly. you really did get a great sense of what a \"walker\" may have been like (say twenty years ago). he was great and most likely will never get recognized for it. <br /><br />as for lauren, lily and kristin... boring.<br /><br />do not see it! it is painful! unless you are a true harrelson fan.'"
      ]
     },
     "execution_count": 7,
     "metadata": {},
     "output_type": "execute_result"
    }
   ],
   "source": [
    "import contractions_fixer\n",
    "train.text = train.text.apply(lambda x: contractions_fixer.fix(x))\n",
    "train.iloc[9].text"
   ]
  },
  {
   "cell_type": "markdown",
   "metadata": {},
   "source": [
    "Replace hyphens, forward slashes and HTML line breaks with spaces; replace ampersands with \" and \""
   ]
  },
  {
   "cell_type": "code",
   "execution_count": 8,
   "metadata": {
    "ExecuteTime": {
     "end_time": "2019-04-11T13:07:24.125405Z",
     "start_time": "2019-04-11T13:07:23.442397Z"
    }
   },
   "outputs": [
    {
     "data": {
      "text/plain": [
       "'the film is bad. there is no other way to say it. the story is weak and outdated, especially for this country. i do not think most people know what a \"walker\" is or will really care. i felt as if i was watching a movie from the 70\\'s. the subject was just not believable for the year 2007, even being set in dc. i think this rang true for everyone else who watched it too as the applause were low and quick at the end. most did not stay for the q and a either.  i do not think schrader really thought the film out ahead of time. many of the scenes seemed to be cut short as if they were never finished or he just did not know how to finish them. he jumped from one scene to the next and you had to try and figure out or guess what was going on. i really did not get woody\\'s (carter) private life or boyfriend either. what were all the \"artistic\" male bondage and torture pictures (from iraq prisons) about? what was he thinking? i think it was his very poor attempt at trying to create this dark private subculture life for woody\\'s character (car). it did not work. it did not even seem to make sense really.  the only good thing about this film was woody harrelson. he played his character (car) flawlessly. you really did get a great sense of what a \"walker\" may have been like (say twenty years ago). he was great and most likely will never get recognized for it.   as for lauren, lily and kristin... boring.  do not see it! it is painful! unless you are a true harrelson fan.'"
      ]
     },
     "execution_count": 8,
     "metadata": {},
     "output_type": "execute_result"
    }
   ],
   "source": [
    "pattern = regex.compile(\"(<br\\s*/>)|(\\-)|(\\/)\")\n",
    "train.text = train.text.apply(lambda x: pattern.sub(\" \", x))\n",
    "pattern = regex.compile(\"&\")\n",
    "train.text = train.text.apply(lambda x: pattern.sub(\" and \", x))\n",
    "train.iloc[9].text"
   ]
  },
  {
   "cell_type": "markdown",
   "metadata": {},
   "source": [
    "Remove punctuation symbols"
   ]
  },
  {
   "cell_type": "code",
   "execution_count": 9,
   "metadata": {
    "ExecuteTime": {
     "end_time": "2019-04-11T13:07:25.270608Z",
     "start_time": "2019-04-11T13:07:24.127402Z"
    }
   },
   "outputs": [
    {
     "data": {
      "text/plain": [
       "'the film is bad there is no other way to say it the story is weak and outdated especially for this country i do not think most people know what a walker is or will really care i felt as if i was watching a movie from the 70s the subject was just not believable for the year 2007 even being set in dc i think this rang true for everyone else who watched it too as the applause were low and quick at the end most did not stay for the q and a either  i do not think schrader really thought the film out ahead of time many of the scenes seemed to be cut short as if they were never finished or he just did not know how to finish them he jumped from one scene to the next and you had to try and figure out or guess what was going on i really did not get woodys carter private life or boyfriend either what were all the artistic male bondage and torture pictures from iraq prisons about what was he thinking i think it was his very poor attempt at trying to create this dark private subculture life for woodys character car it did not work it did not even seem to make sense really  the only good thing about this film was woody harrelson he played his character car flawlessly you really did get a great sense of what a walker may have been like say twenty years ago he was great and most likely will never get recognized for it   as for lauren lily and kristin boring  do not see it it is painful unless you are a true harrelson fan'"
      ]
     },
     "execution_count": 9,
     "metadata": {},
     "output_type": "execute_result"
    }
   ],
   "source": [
    "import string\n",
    "pattern = regex.compile('[{}]'.format(regex.escape(string.punctuation)))\n",
    "train.text = train.text.apply(lambda x: pattern.sub(\"\", x))\n",
    "train.iloc[9].text"
   ]
  },
  {
   "cell_type": "markdown",
   "metadata": {},
   "source": [
    "Regex to remove every instance of a full stop word from the text"
   ]
  },
  {
   "cell_type": "code",
   "execution_count": 10,
   "metadata": {
    "ExecuteTime": {
     "end_time": "2019-04-11T13:07:39.045290Z",
     "start_time": "2019-04-11T13:07:25.272642Z"
    }
   },
   "outputs": [
    {
     "name": "stderr",
     "output_type": "stream",
     "text": [
      "[nltk_data] Downloading package stopwords to C:\\Users\\Jorge de\n",
      "[nltk_data]     Bustos\\AppData\\Roaming\\nltk_data...\n",
      "[nltk_data]   Package stopwords is already up-to-date!\n"
     ]
    },
    {
     "data": {
      "text/plain": [
       "' film  bad     way  say   story  weak  outdated especially   country    think  people know   walker    really care  felt     watching  movie   70s  subject    believable   year 2007 even  set  dc  think  rang true  everyone else  watched     applause  low  quick   end    stay   q   either     think schrader really thought  film  ahead  time many   scenes seemed   cut short     never finished      know   finish   jumped  one scene   next     try  figure   guess   going   really   get woodys carter private life  boyfriend either     artistic male bondage  torture pictures  iraq prisons     thinking  think     poor attempt  trying  create  dark private subculture life  woodys character car    work    even seem  make sense really    good thing   film  woody harrelson  played  character car flawlessly  really  get  great sense    walker may   like say twenty years ago   great   likely  never get recognized       lauren lily  kristin boring    see    painful unless    true harrelson fan'"
      ]
     },
     "execution_count": 10,
     "metadata": {},
     "output_type": "execute_result"
    }
   ],
   "source": [
    "import nltk\n",
    "from nltk.corpus import stopwords \n",
    "nltk.download('stopwords')\n",
    "stop_words = set(stopwords.words('english'))\n",
    "\n",
    "pattern = regex.compile(\"\\\\b(\" + \"|\".join(stop_words) + \")\\\\b\")\n",
    "train.text = train.text.apply(lambda x: pattern.sub(\"\", x))\n",
    "train.iloc[9].text"
   ]
  },
  {
   "cell_type": "code",
   "execution_count": 11,
   "metadata": {
    "ExecuteTime": {
     "end_time": "2019-04-11T13:07:39.553088Z",
     "start_time": "2019-04-11T13:07:39.048220Z"
    }
   },
   "outputs": [],
   "source": [
    "train.to_hdf(\"data/train.hdf5\", \"train\")"
   ]
  },
  {
   "cell_type": "code",
   "execution_count": 12,
   "metadata": {
    "ExecuteTime": {
     "end_time": "2019-04-11T13:07:39.682856Z",
     "start_time": "2019-04-11T13:07:39.554808Z"
    }
   },
   "outputs": [],
   "source": [
    "train = pd.read_hdf(\"data/train.hdf5\", \"train\")"
   ]
  },
  {
   "cell_type": "code",
   "execution_count": 13,
   "metadata": {
    "ExecuteTime": {
     "end_time": "2019-04-11T13:07:39.698850Z",
     "start_time": "2019-04-11T13:07:39.685803Z"
    }
   },
   "outputs": [],
   "source": [
    "metrics_df = pd.DataFrame(columns=['vectorizer', 'classifier', 'accuracy', 'precision', 'recall', 'f1', 'specificity'])\n",
    "metrics_df = metrics_df.set_index(['vectorizer', 'classifier'])"
   ]
  },
  {
   "cell_type": "code",
   "execution_count": 14,
   "metadata": {
    "ExecuteTime": {
     "end_time": "2019-04-11T13:07:39.896808Z",
     "start_time": "2019-04-11T13:07:39.700801Z"
    }
   },
   "outputs": [],
   "source": [
    "import warnings\n",
    "from sklearn.model_selection import train_test_split\n",
    "from sklearn.feature_extraction.text import CountVectorizer, TfidfVectorizer\n",
    "from sklearn.linear_model import LogisticRegression\n",
    "from sklearn.naive_bayes import MultinomialNB\n",
    "from sklearn.svm import LinearSVC\n",
    "from sklearn.ensemble import RandomForestClassifier, GradientBoostingClassifier, AdaBoostClassifier\n",
    "from sklearn.metrics import accuracy_score, confusion_matrix, f1_score, classification_report, auc, \\\n",
    "    roc_auc_score, roc_curve, precision_recall_curve, recall_score, average_precision_score, precision_score\n",
    "from sklearn.externals import joblib\n",
    "from sklearn.exceptions import DataConversionWarning\n",
    "from lightgbm.sklearn import LGBMClassifier\n",
    "\n",
    "warnings.filterwarnings(action='ignore', category=DataConversionWarning)"
   ]
  },
  {
   "cell_type": "code",
   "execution_count": 15,
   "metadata": {
    "ExecuteTime": {
     "end_time": "2019-04-11T13:07:39.907800Z",
     "start_time": "2019-04-11T13:07:39.898802Z"
    }
   },
   "outputs": [],
   "source": [
    "def plot_metrics(classifier, classifier_name, vectorizer_name, X_train, X_val, y_train, y_val):\n",
    "    prediction = classifier.predict(X_val.astype('float32'))\n",
    "    accuracy = accuracy_score(y_val, prediction)\n",
    "    f1 = f1_score(y_val, prediction, pos_label=\"pos\")\n",
    "    recall = recall_score(y_val, prediction, pos_label=\"pos\")\n",
    "    precision = precision_score(y_val, prediction, pos_label=\"pos\")\n",
    "    specificity = recall_score(y_val, prediction, pos_label=\"neg\")\n",
    "    print('Vectorizer: %s. Classifier: %s' % \\\n",
    "          (vectorizer_name, classifier_name))\n",
    "    print('Accuracy: %0.3f. Precision: %0.3f. Recall: %0.3f. F1 Score: %0.3f. Specificity: %0.3f' % \\\n",
    "          (accuracy, precision, recall, f1, specificity))\n",
    "    print(classification_report(y_val, prediction))\n",
    "    plt.figure(figsize=(4,3))\n",
    "    sns.heatmap(confusion_matrix(y_val, prediction), annot=True, fmt=\"d\")\n",
    "    metrics_df.loc[(vectorizer_name, classifier_name), :] = [\n",
    "        accuracy,\n",
    "        precision,\n",
    "        recall,\n",
    "        f1,\n",
    "        specificity,\n",
    "    ]\n",
    "    plt.show()"
   ]
  },
  {
   "cell_type": "code",
   "execution_count": 16,
   "metadata": {
    "ExecuteTime": {
     "end_time": "2019-04-11T13:07:39.920806Z",
     "start_time": "2019-04-11T13:07:39.909801Z"
    }
   },
   "outputs": [],
   "source": [
    "def classify_and_plot(classifier, classifier_name, vectorizer_name, X_train, X_val, y_train, y_val):\n",
    "    classifier.fit(X_train.astype('float32'), y_train)\n",
    "    plot_metrics(classifier, classifier_name, vectorizer_name, X_train, X_val, y_train, y_val)\n",
    "    return classifier"
   ]
  },
  {
   "cell_type": "code",
   "execution_count": 17,
   "metadata": {
    "ExecuteTime": {
     "end_time": "2019-04-11T13:22:52.644574Z",
     "start_time": "2019-04-11T13:07:43.864984Z"
    }
   },
   "outputs": [
    {
     "name": "stdout",
     "output_type": "stream",
     "text": [
      "Vectorizer: CountVectorizer_Bin. Classifier: LogisticRegression\n",
      "Accuracy: 0.874. Precision: 0.866. Recall: 0.882. F1 Score: 0.874. Specificity: 0.866\n",
      "              precision    recall  f1-score   support\n",
      "\n",
      "         neg       0.88      0.87      0.87      2515\n",
      "         pos       0.87      0.88      0.87      2485\n",
      "\n",
      "   micro avg       0.87      0.87      0.87      5000\n",
      "   macro avg       0.87      0.87      0.87      5000\n",
      "weighted avg       0.87      0.87      0.87      5000\n",
      "\n"
     ]
    },
    {
     "data": {
      "image/png": "[encoded data removed]",
      "text/plain": [
       "<Figure size 288x216 with 2 Axes>"
      ]
     },
     "metadata": {
      "needs_background": "light"
     },
     "output_type": "display_data"
    },
    {
     "name": "stdout",
     "output_type": "stream",
     "text": [
      "Vectorizer: CountVectorizer_Bin. Classifier: MultinomialNB\n",
      "Accuracy: 0.858. Precision: 0.872. Recall: 0.837. F1 Score: 0.854. Specificity: 0.879\n",
      "              precision    recall  f1-score   support\n",
      "\n",
      "         neg       0.85      0.88      0.86      2515\n",
      "         pos       0.87      0.84      0.85      2485\n",
      "\n",
      "   micro avg       0.86      0.86      0.86      5000\n",
      "   macro avg       0.86      0.86      0.86      5000\n",
      "weighted avg       0.86      0.86      0.86      5000\n",
      "\n"
     ]
    },
    {
     "data": {
      "image/png": "[encoded data removed]",
      "text/plain": [
       "<Figure size 288x216 with 2 Axes>"
      ]
     },
     "metadata": {
      "needs_background": "light"
     },
     "output_type": "display_data"
    },
    {
     "name": "stdout",
     "output_type": "stream",
     "text": [
      "Vectorizer: CountVectorizer_Bin. Classifier: RandomForestClassifier\n",
      "Accuracy: 0.850. Precision: 0.852. Recall: 0.844. F1 Score: 0.848. Specificity: 0.856\n",
      "              precision    recall  f1-score   support\n",
      "\n",
      "         neg       0.85      0.86      0.85      2515\n",
      "         pos       0.85      0.84      0.85      2485\n",
      "\n",
      "   micro avg       0.85      0.85      0.85      5000\n",
      "   macro avg       0.85      0.85      0.85      5000\n",
      "weighted avg       0.85      0.85      0.85      5000\n",
      "\n"
     ]
    },
    {
     "data": {
      "image/png": "[encoded data removed]",
      "text/plain": [
       "<Figure size 288x216 with 2 Axes>"
      ]
     },
     "metadata": {
      "needs_background": "light"
     },
     "output_type": "display_data"
    },
    {
     "name": "stdout",
     "output_type": "stream",
     "text": [
      "Vectorizer: CountVectorizer_Bin. Classifier: GradientBoostingClassifier\n",
      "Accuracy: 0.814. Precision: 0.785. Recall: 0.863. F1 Score: 0.822. Specificity: 0.766\n",
      "              precision    recall  f1-score   support\n",
      "\n",
      "         neg       0.85      0.77      0.81      2515\n",
      "         pos       0.78      0.86      0.82      2485\n",
      "\n",
      "   micro avg       0.81      0.81      0.81      5000\n",
      "   macro avg       0.82      0.81      0.81      5000\n",
      "weighted avg       0.82      0.81      0.81      5000\n",
      "\n"
     ]
    },
    {
     "data": {
      "image/png": "[encoded data removed]",
      "text/plain": [
       "<Figure size 288x216 with 2 Axes>"
      ]
     },
     "metadata": {
      "needs_background": "light"
     },
     "output_type": "display_data"
    },
    {
     "name": "stdout",
     "output_type": "stream",
     "text": [
      "Vectorizer: CountVectorizer_Bin. Classifier: AdaBoostClassifier\n",
      "Accuracy: 0.826. Precision: 0.816. Recall: 0.840. F1 Score: 0.828. Specificity: 0.813\n",
      "              precision    recall  f1-score   support\n",
      "\n",
      "         neg       0.84      0.81      0.82      2515\n",
      "         pos       0.82      0.84      0.83      2485\n",
      "\n",
      "   micro avg       0.83      0.83      0.83      5000\n",
      "   macro avg       0.83      0.83      0.83      5000\n",
      "weighted avg       0.83      0.83      0.83      5000\n",
      "\n"
     ]
    },
    {
     "data": {
      "image/png": "[encoded data removed]",
      "text/plain": [
       "<Figure size 288x216 with 2 Axes>"
      ]
     },
     "metadata": {
      "needs_background": "light"
     },
     "output_type": "display_data"
    },
    {
     "name": "stdout",
     "output_type": "stream",
     "text": [
      "Vectorizer: CountVectorizer_Bin. Classifier: LGBMClassifier\n",
      "Accuracy: 0.856. Precision: 0.845. Recall: 0.870. F1 Score: 0.857. Specificity: 0.843\n",
      "              precision    recall  f1-score   support\n",
      "\n",
      "         neg       0.87      0.84      0.85      2515\n",
      "         pos       0.85      0.87      0.86      2485\n",
      "\n",
      "   micro avg       0.86      0.86      0.86      5000\n",
      "   macro avg       0.86      0.86      0.86      5000\n",
      "weighted avg       0.86      0.86      0.86      5000\n",
      "\n"
     ]
    },
    {
     "data": {
      "image/png": "[encoded data removed]",
      "text/plain": [
       "<Figure size 288x216 with 2 Axes>"
      ]
     },
     "metadata": {
      "needs_background": "light"
     },
     "output_type": "display_data"
    },
    {
     "name": "stdout",
     "output_type": "stream",
     "text": [
      "Vectorizer: CountVectorizer_Bin. Classifier: LinearSVC\n",
      "Accuracy: 0.856. Precision: 0.852. Recall: 0.860. F1 Score: 0.856. Specificity: 0.852\n",
      "              precision    recall  f1-score   support\n",
      "\n",
      "         neg       0.86      0.85      0.86      2515\n",
      "         pos       0.85      0.86      0.86      2485\n",
      "\n",
      "   micro avg       0.86      0.86      0.86      5000\n",
      "   macro avg       0.86      0.86      0.86      5000\n",
      "weighted avg       0.86      0.86      0.86      5000\n",
      "\n"
     ]
    },
    {
     "data": {
      "image/png": "[encoded data removed]",
      "text/plain": [
       "<Figure size 288x216 with 2 Axes>"
      ]
     },
     "metadata": {
      "needs_background": "light"
     },
     "output_type": "display_data"
    },
    {
     "name": "stdout",
     "output_type": "stream",
     "text": [
      "Vectorizer: CountVectorizer_NonBin. Classifier: LogisticRegression\n",
      "Accuracy: 0.877. Precision: 0.871. Recall: 0.882. F1 Score: 0.877. Specificity: 0.871\n",
      "              precision    recall  f1-score   support\n",
      "\n",
      "         neg       0.88      0.87      0.88      2515\n",
      "         pos       0.87      0.88      0.88      2485\n",
      "\n",
      "   micro avg       0.88      0.88      0.88      5000\n",
      "   macro avg       0.88      0.88      0.88      5000\n",
      "weighted avg       0.88      0.88      0.88      5000\n",
      "\n"
     ]
    },
    {
     "data": {
      "image/png": "[encoded data removed]",
      "text/plain": [
       "<Figure size 288x216 with 2 Axes>"
      ]
     },
     "metadata": {
      "needs_background": "light"
     },
     "output_type": "display_data"
    },
    {
     "name": "stdout",
     "output_type": "stream",
     "text": [
      "Vectorizer: CountVectorizer_NonBin. Classifier: MultinomialNB\n",
      "Accuracy: 0.855. Precision: 0.868. Recall: 0.835. F1 Score: 0.852. Specificity: 0.875\n",
      "              precision    recall  f1-score   support\n",
      "\n",
      "         neg       0.84      0.87      0.86      2515\n",
      "         pos       0.87      0.84      0.85      2485\n",
      "\n",
      "   micro avg       0.86      0.86      0.86      5000\n",
      "   macro avg       0.86      0.86      0.86      5000\n",
      "weighted avg       0.86      0.86      0.86      5000\n",
      "\n"
     ]
    },
    {
     "data": {
      "image/png": "[encoded data removed]",
      "text/plain": [
       "<Figure size 288x216 with 2 Axes>"
      ]
     },
     "metadata": {
      "needs_background": "light"
     },
     "output_type": "display_data"
    },
    {
     "name": "stdout",
     "output_type": "stream",
     "text": [
      "Vectorizer: CountVectorizer_NonBin. Classifier: RandomForestClassifier\n",
      "Accuracy: 0.856. Precision: 0.859. Recall: 0.850. F1 Score: 0.855. Specificity: 0.862\n",
      "              precision    recall  f1-score   support\n",
      "\n",
      "         neg       0.85      0.86      0.86      2515\n",
      "         pos       0.86      0.85      0.85      2485\n",
      "\n",
      "   micro avg       0.86      0.86      0.86      5000\n",
      "   macro avg       0.86      0.86      0.86      5000\n",
      "weighted avg       0.86      0.86      0.86      5000\n",
      "\n"
     ]
    },
    {
     "data": {
      "image/png": "[encoded data removed]",
      "text/plain": [
       "<Figure size 288x216 with 2 Axes>"
      ]
     },
     "metadata": {
      "needs_background": "light"
     },
     "output_type": "display_data"
    },
    {
     "name": "stdout",
     "output_type": "stream",
     "text": [
      "Vectorizer: CountVectorizer_NonBin. Classifier: GradientBoostingClassifier\n",
      "Accuracy: 0.814. Precision: 0.781. Recall: 0.869. F1 Score: 0.823. Specificity: 0.759\n",
      "              precision    recall  f1-score   support\n",
      "\n",
      "         neg       0.85      0.76      0.80      2515\n",
      "         pos       0.78      0.87      0.82      2485\n",
      "\n",
      "   micro avg       0.81      0.81      0.81      5000\n",
      "   macro avg       0.82      0.81      0.81      5000\n",
      "weighted avg       0.82      0.81      0.81      5000\n",
      "\n"
     ]
    },
    {
     "data": {
      "image/png": "[encoded data removed]",
      "text/plain": [
       "<Figure size 288x216 with 2 Axes>"
      ]
     },
     "metadata": {
      "needs_background": "light"
     },
     "output_type": "display_data"
    },
    {
     "name": "stdout",
     "output_type": "stream",
     "text": [
      "Vectorizer: CountVectorizer_NonBin. Classifier: AdaBoostClassifier\n",
      "Accuracy: 0.828. Precision: 0.816. Recall: 0.843. F1 Score: 0.829. Specificity: 0.813\n",
      "              precision    recall  f1-score   support\n",
      "\n",
      "         neg       0.84      0.81      0.83      2515\n",
      "         pos       0.82      0.84      0.83      2485\n",
      "\n",
      "   micro avg       0.83      0.83      0.83      5000\n",
      "   macro avg       0.83      0.83      0.83      5000\n",
      "weighted avg       0.83      0.83      0.83      5000\n",
      "\n"
     ]
    },
    {
     "data": {
      "image/png": "[encoded data removed]",
      "text/plain": [
       "<Figure size 288x216 with 2 Axes>"
      ]
     },
     "metadata": {
      "needs_background": "light"
     },
     "output_type": "display_data"
    },
    {
     "name": "stdout",
     "output_type": "stream",
     "text": [
      "Vectorizer: CountVectorizer_NonBin. Classifier: LGBMClassifier\n",
      "Accuracy: 0.863. Precision: 0.852. Recall: 0.877. F1 Score: 0.864. Specificity: 0.849\n",
      "              precision    recall  f1-score   support\n",
      "\n",
      "         neg       0.88      0.85      0.86      2515\n",
      "         pos       0.85      0.88      0.86      2485\n",
      "\n",
      "   micro avg       0.86      0.86      0.86      5000\n",
      "   macro avg       0.86      0.86      0.86      5000\n",
      "weighted avg       0.86      0.86      0.86      5000\n",
      "\n"
     ]
    },
    {
     "data": {
      "image/png": "[encoded data removed]",
      "text/plain": [
       "<Figure size 288x216 with 2 Axes>"
      ]
     },
     "metadata": {
      "needs_background": "light"
     },
     "output_type": "display_data"
    },
    {
     "name": "stdout",
     "output_type": "stream",
     "text": [
      "Vectorizer: CountVectorizer_NonBin. Classifier: LinearSVC\n",
      "Accuracy: 0.863. Precision: 0.861. Recall: 0.864. F1 Score: 0.862. Specificity: 0.862\n",
      "              precision    recall  f1-score   support\n",
      "\n",
      "         neg       0.86      0.86      0.86      2515\n",
      "         pos       0.86      0.86      0.86      2485\n",
      "\n",
      "   micro avg       0.86      0.86      0.86      5000\n",
      "   macro avg       0.86      0.86      0.86      5000\n",
      "weighted avg       0.86      0.86      0.86      5000\n",
      "\n"
     ]
    },
    {
     "data": {
      "image/png": "[encoded data removed]",
      "text/plain": [
       "<Figure size 288x216 with 2 Axes>"
      ]
     },
     "metadata": {
      "needs_background": "light"
     },
     "output_type": "display_data"
    },
    {
     "name": "stdout",
     "output_type": "stream",
     "text": [
      "Vectorizer: TfidfVectorizer. Classifier: LogisticRegression\n",
      "Accuracy: 0.881. Precision: 0.867. Recall: 0.897. F1 Score: 0.882. Specificity: 0.864\n",
      "              precision    recall  f1-score   support\n",
      "\n",
      "         neg       0.89      0.86      0.88      2515\n",
      "         pos       0.87      0.90      0.88      2485\n",
      "\n",
      "   micro avg       0.88      0.88      0.88      5000\n",
      "   macro avg       0.88      0.88      0.88      5000\n",
      "weighted avg       0.88      0.88      0.88      5000\n",
      "\n"
     ]
    },
    {
     "data": {
      "image/png": "[encoded data removed]",
      "text/plain": [
       "<Figure size 288x216 with 2 Axes>"
      ]
     },
     "metadata": {
      "needs_background": "light"
     },
     "output_type": "display_data"
    },
    {
     "name": "stdout",
     "output_type": "stream",
     "text": [
      "Vectorizer: TfidfVectorizer. Classifier: MultinomialNB\n",
      "Accuracy: 0.860. Precision: 0.867. Recall: 0.849. F1 Score: 0.858. Specificity: 0.871\n",
      "              precision    recall  f1-score   support\n",
      "\n",
      "         neg       0.85      0.87      0.86      2515\n",
      "         pos       0.87      0.85      0.86      2485\n",
      "\n",
      "   micro avg       0.86      0.86      0.86      5000\n",
      "   macro avg       0.86      0.86      0.86      5000\n",
      "weighted avg       0.86      0.86      0.86      5000\n",
      "\n"
     ]
    },
    {
     "data": {
      "image/png": "[encoded data removed]",
      "text/plain": [
       "<Figure size 288x216 with 2 Axes>"
      ]
     },
     "metadata": {
      "needs_background": "light"
     },
     "output_type": "display_data"
    },
    {
     "name": "stdout",
     "output_type": "stream",
     "text": [
      "Vectorizer: TfidfVectorizer. Classifier: RandomForestClassifier\n",
      "Accuracy: 0.851. Precision: 0.850. Recall: 0.849. F1 Score: 0.850. Specificity: 0.852\n",
      "              precision    recall  f1-score   support\n",
      "\n",
      "         neg       0.85      0.85      0.85      2515\n",
      "         pos       0.85      0.85      0.85      2485\n",
      "\n",
      "   micro avg       0.85      0.85      0.85      5000\n",
      "   macro avg       0.85      0.85      0.85      5000\n",
      "weighted avg       0.85      0.85      0.85      5000\n",
      "\n"
     ]
    },
    {
     "data": {
      "image/png": "[encoded data removed]",
      "text/plain": [
       "<Figure size 288x216 with 2 Axes>"
      ]
     },
     "metadata": {
      "needs_background": "light"
     },
     "output_type": "display_data"
    },
    {
     "name": "stdout",
     "output_type": "stream",
     "text": [
      "Vectorizer: TfidfVectorizer. Classifier: GradientBoostingClassifier\n",
      "Accuracy: 0.812. Precision: 0.780. Recall: 0.867. F1 Score: 0.821. Specificity: 0.758\n",
      "              precision    recall  f1-score   support\n",
      "\n",
      "         neg       0.85      0.76      0.80      2515\n",
      "         pos       0.78      0.87      0.82      2485\n",
      "\n",
      "   micro avg       0.81      0.81      0.81      5000\n",
      "   macro avg       0.82      0.81      0.81      5000\n",
      "weighted avg       0.82      0.81      0.81      5000\n",
      "\n"
     ]
    },
    {
     "data": {
      "image/png": "[encoded data removed]",
      "text/plain": [
       "<Figure size 288x216 with 2 Axes>"
      ]
     },
     "metadata": {
      "needs_background": "light"
     },
     "output_type": "display_data"
    },
    {
     "name": "stdout",
     "output_type": "stream",
     "text": [
      "Vectorizer: TfidfVectorizer. Classifier: AdaBoostClassifier\n",
      "Accuracy: 0.822. Precision: 0.808. Recall: 0.841. F1 Score: 0.824. Specificity: 0.803\n",
      "              precision    recall  f1-score   support\n",
      "\n",
      "         neg       0.84      0.80      0.82      2515\n",
      "         pos       0.81      0.84      0.82      2485\n",
      "\n",
      "   micro avg       0.82      0.82      0.82      5000\n",
      "   macro avg       0.82      0.82      0.82      5000\n",
      "weighted avg       0.82      0.82      0.82      5000\n",
      "\n"
     ]
    },
    {
     "data": {
      "image/png": "[encoded data removed]",
      "text/plain": [
       "<Figure size 288x216 with 2 Axes>"
      ]
     },
     "metadata": {
      "needs_background": "light"
     },
     "output_type": "display_data"
    },
    {
     "name": "stdout",
     "output_type": "stream",
     "text": [
      "Vectorizer: TfidfVectorizer. Classifier: LGBMClassifier\n",
      "Accuracy: 0.858. Precision: 0.847. Recall: 0.871. F1 Score: 0.859. Specificity: 0.844\n",
      "              precision    recall  f1-score   support\n",
      "\n",
      "         neg       0.87      0.84      0.86      2515\n",
      "         pos       0.85      0.87      0.86      2485\n",
      "\n",
      "   micro avg       0.86      0.86      0.86      5000\n",
      "   macro avg       0.86      0.86      0.86      5000\n",
      "weighted avg       0.86      0.86      0.86      5000\n",
      "\n"
     ]
    },
    {
     "data": {
      "image/png": "[encoded data removed]",
      "text/plain": [
       "<Figure size 288x216 with 2 Axes>"
      ]
     },
     "metadata": {
      "needs_background": "light"
     },
     "output_type": "display_data"
    },
    {
     "name": "stdout",
     "output_type": "stream",
     "text": [
      "Vectorizer: TfidfVectorizer. Classifier: LinearSVC\n",
      "Accuracy: 0.890. Precision: 0.880. Recall: 0.903. F1 Score: 0.891. Specificity: 0.878\n",
      "              precision    recall  f1-score   support\n",
      "\n",
      "         neg       0.90      0.88      0.89      2515\n",
      "         pos       0.88      0.90      0.89      2485\n",
      "\n",
      "   micro avg       0.89      0.89      0.89      5000\n",
      "   macro avg       0.89      0.89      0.89      5000\n",
      "weighted avg       0.89      0.89      0.89      5000\n",
      "\n"
     ]
    },
    {
     "data": {
      "image/png": "[encoded data removed]",
      "text/plain": [
       "<Figure size 288x216 with 2 Axes>"
      ]
     },
     "metadata": {
      "needs_background": "light"
     },
     "output_type": "display_data"
    }
   ],
   "source": [
    "vectorizers = [\n",
    "    (\"CountVectorizer_Bin\", CountVectorizer(binary=True)),\n",
    "    (\"CountVectorizer_NonBin\", CountVectorizer(binary=False)),\n",
    "    (\"TfidfVectorizer\", TfidfVectorizer()),\n",
    "]\n",
    "\n",
    "for vect in vectorizers:\n",
    "    vectorizer = vect[1]\n",
    "    vectorizer_name = vect[0]\n",
    "    \n",
    "    X = vectorizer.fit_transform(train.text)\n",
    "    y = train.review\n",
    "\n",
    "    X_train, X_val, y_train, y_val = train_test_split(X, y, test_size=0.20, random_state=42)\n",
    "\n",
    "    classifiers = [\n",
    "        (\"LogisticRegression\", LogisticRegression(solver='liblinear', C=0.5)),\n",
    "        (\"MultinomialNB\", MultinomialNB()),\n",
    "        (\"RandomForestClassifier\", RandomForestClassifier(n_estimators=100)),\n",
    "        (\"GradientBoostingClassifier\", GradientBoostingClassifier(n_estimators=100)),\n",
    "        (\"AdaBoostClassifier\", AdaBoostClassifier(n_estimators=100)),\n",
    "        (\"LGBMClassifier\", LGBMClassifier()),\n",
    "        (\"LinearSVC\", LinearSVC(C=0.2)),\n",
    "    ]\n",
    "    \n",
    "    for clas in classifiers:\n",
    "        classifier = clas[1]\n",
    "        classifier_name = clas[0]\n",
    "        classify_and_plot(classifier, classifier_name, vectorizer_name, X_train, X_val, y_train, y_val)"
   ]
  },
  {
   "cell_type": "code",
   "execution_count": 18,
   "metadata": {
    "ExecuteTime": {
     "end_time": "2019-04-11T13:22:53.618193Z",
     "start_time": "2019-04-11T13:22:52.650570Z"
    }
   },
   "outputs": [
    {
     "data": {
      "text/html": [
       "<style  type=\"text/css\" >\n",
       "    #T_e984a5cc_5c5c_11e9_b062_9cda3ea81686row0_col0 {\n",
       "            min-width:  6em;\n",
       "            background-color: #b40426;\n",
       "            color: #f1f1f1;\n",
       "        }    #T_e984a5cc_5c5c_11e9_b062_9cda3ea81686row0_col1 {\n",
       "            min-width:  6em;\n",
       "            background-color: #b40426;\n",
       "            color: #f1f1f1;\n",
       "        }    #T_e984a5cc_5c5c_11e9_b062_9cda3ea81686row0_col2 {\n",
       "            min-width:  6em;\n",
       "            background-color: #b40426;\n",
       "            color: #f1f1f1;\n",
       "        }    #T_e984a5cc_5c5c_11e9_b062_9cda3ea81686row0_col3 {\n",
       "            min-width:  6em;\n",
       "            background-color: #b40426;\n",
       "            color: #f1f1f1;\n",
       "        }    #T_e984a5cc_5c5c_11e9_b062_9cda3ea81686row0_col4 {\n",
       "            min-width:  6em;\n",
       "            background-color: #b50927;\n",
       "            color: #f1f1f1;\n",
       "        }    #T_e984a5cc_5c5c_11e9_b062_9cda3ea81686row1_col0 {\n",
       "            min-width:  6em;\n",
       "            background-color: #dd5f4b;\n",
       "            color: #000000;\n",
       "        }    #T_e984a5cc_5c5c_11e9_b062_9cda3ea81686row1_col1 {\n",
       "            min-width:  6em;\n",
       "            background-color: #dd5f4b;\n",
       "            color: #000000;\n",
       "        }    #T_e984a5cc_5c5c_11e9_b062_9cda3ea81686row1_col2 {\n",
       "            min-width:  6em;\n",
       "            background-color: #d1493f;\n",
       "            color: #f1f1f1;\n",
       "        }    #T_e984a5cc_5c5c_11e9_b062_9cda3ea81686row1_col3 {\n",
       "            min-width:  6em;\n",
       "            background-color: #df634e;\n",
       "            color: #000000;\n",
       "        }    #T_e984a5cc_5c5c_11e9_b062_9cda3ea81686row1_col4 {\n",
       "            min-width:  6em;\n",
       "            background-color: #dc5d4a;\n",
       "            color: #000000;\n",
       "        }    #T_e984a5cc_5c5c_11e9_b062_9cda3ea81686row2_col0 {\n",
       "            min-width:  6em;\n",
       "            background-color: #e9785d;\n",
       "            color: #000000;\n",
       "        }    #T_e984a5cc_5c5c_11e9_b062_9cda3ea81686row2_col1 {\n",
       "            min-width:  6em;\n",
       "            background-color: #d1493f;\n",
       "            color: #f1f1f1;\n",
       "        }    #T_e984a5cc_5c5c_11e9_b062_9cda3ea81686row2_col2 {\n",
       "            min-width:  6em;\n",
       "            background-color: #f7ac8e;\n",
       "            color: #000000;\n",
       "        }    #T_e984a5cc_5c5c_11e9_b062_9cda3ea81686row2_col3 {\n",
       "            min-width:  6em;\n",
       "            background-color: #ee8468;\n",
       "            color: #000000;\n",
       "        }    #T_e984a5cc_5c5c_11e9_b062_9cda3ea81686row2_col4 {\n",
       "            min-width:  6em;\n",
       "            background-color: #cb3e38;\n",
       "            color: #f1f1f1;\n",
       "        }    #T_e984a5cc_5c5c_11e9_b062_9cda3ea81686row3_col0 {\n",
       "            min-width:  6em;\n",
       "            background-color: #ef886b;\n",
       "            color: #000000;\n",
       "        }    #T_e984a5cc_5c5c_11e9_b062_9cda3ea81686row3_col1 {\n",
       "            min-width:  6em;\n",
       "            background-color: #df634e;\n",
       "            color: #000000;\n",
       "        }    #T_e984a5cc_5c5c_11e9_b062_9cda3ea81686row3_col2 {\n",
       "            min-width:  6em;\n",
       "            background-color: #f7ac8e;\n",
       "            color: #000000;\n",
       "        }    #T_e984a5cc_5c5c_11e9_b062_9cda3ea81686row3_col3 {\n",
       "            min-width:  6em;\n",
       "            background-color: #f39475;\n",
       "            color: #000000;\n",
       "        }    #T_e984a5cc_5c5c_11e9_b062_9cda3ea81686row3_col4 {\n",
       "            min-width:  6em;\n",
       "            background-color: #d85646;\n",
       "            color: #000000;\n",
       "        }    #T_e984a5cc_5c5c_11e9_b062_9cda3ea81686row4_col0 {\n",
       "            min-width:  6em;\n",
       "            background-color: #f7bca1;\n",
       "            color: #000000;\n",
       "        }    #T_e984a5cc_5c5c_11e9_b062_9cda3ea81686row4_col1 {\n",
       "            min-width:  6em;\n",
       "            background-color: #f6a586;\n",
       "            color: #000000;\n",
       "        }    #T_e984a5cc_5c5c_11e9_b062_9cda3ea81686row4_col2 {\n",
       "            min-width:  6em;\n",
       "            background-color: #f4c5ad;\n",
       "            color: #000000;\n",
       "        }    #T_e984a5cc_5c5c_11e9_b062_9cda3ea81686row4_col3 {\n",
       "            min-width:  6em;\n",
       "            background-color: #f4c6af;\n",
       "            color: #000000;\n",
       "        }    #T_e984a5cc_5c5c_11e9_b062_9cda3ea81686row4_col4 {\n",
       "            min-width:  6em;\n",
       "            background-color: #f39778;\n",
       "            color: #000000;\n",
       "        }    #T_e984a5cc_5c5c_11e9_b062_9cda3ea81686row5_col0 {\n",
       "            min-width:  6em;\n",
       "            background-color: #f6bea4;\n",
       "            color: #000000;\n",
       "        }    #T_e984a5cc_5c5c_11e9_b062_9cda3ea81686row5_col1 {\n",
       "            min-width:  6em;\n",
       "            background-color: #ec7f63;\n",
       "            color: #000000;\n",
       "        }    #T_e984a5cc_5c5c_11e9_b062_9cda3ea81686row5_col2 {\n",
       "            min-width:  6em;\n",
       "            background-color: #c6d6f1;\n",
       "            color: #000000;\n",
       "        }    #T_e984a5cc_5c5c_11e9_b062_9cda3ea81686row5_col3 {\n",
       "            min-width:  6em;\n",
       "            background-color: #f0cdbb;\n",
       "            color: #000000;\n",
       "        }    #T_e984a5cc_5c5c_11e9_b062_9cda3ea81686row5_col4 {\n",
       "            min-width:  6em;\n",
       "            background-color: #e16751;\n",
       "            color: #000000;\n",
       "        }    #T_e984a5cc_5c5c_11e9_b062_9cda3ea81686row6_col0 {\n",
       "            min-width:  6em;\n",
       "            background-color: #f3c7b1;\n",
       "            color: #000000;\n",
       "        }    #T_e984a5cc_5c5c_11e9_b062_9cda3ea81686row6_col1 {\n",
       "            min-width:  6em;\n",
       "            background-color: #de614d;\n",
       "            color: #000000;\n",
       "        }    #T_e984a5cc_5c5c_11e9_b062_9cda3ea81686row6_col2 {\n",
       "            min-width:  6em;\n",
       "            background-color: #7ea1fa;\n",
       "            color: #000000;\n",
       "        }    #T_e984a5cc_5c5c_11e9_b062_9cda3ea81686row6_col3 {\n",
       "            min-width:  6em;\n",
       "            background-color: #e4d9d2;\n",
       "            color: #000000;\n",
       "        }    #T_e984a5cc_5c5c_11e9_b062_9cda3ea81686row6_col4 {\n",
       "            min-width:  6em;\n",
       "            background-color: #cb3e38;\n",
       "            color: #f1f1f1;\n",
       "        }    #T_e984a5cc_5c5c_11e9_b062_9cda3ea81686row7_col0 {\n",
       "            min-width:  6em;\n",
       "            background-color: #f0cdbb;\n",
       "            color: #000000;\n",
       "        }    #T_e984a5cc_5c5c_11e9_b062_9cda3ea81686row7_col1 {\n",
       "            min-width:  6em;\n",
       "            background-color: #cf453c;\n",
       "            color: #f1f1f1;\n",
       "        }    #T_e984a5cc_5c5c_11e9_b062_9cda3ea81686row7_col2 {\n",
       "            min-width:  6em;\n",
       "            background-color: #4358cb;\n",
       "            color: #f1f1f1;\n",
       "        }    #T_e984a5cc_5c5c_11e9_b062_9cda3ea81686row7_col3 {\n",
       "            min-width:  6em;\n",
       "            background-color: #d6dce4;\n",
       "            color: #000000;\n",
       "        }    #T_e984a5cc_5c5c_11e9_b062_9cda3ea81686row7_col4 {\n",
       "            min-width:  6em;\n",
       "            background-color: #b40426;\n",
       "            color: #f1f1f1;\n",
       "        }    #T_e984a5cc_5c5c_11e9_b062_9cda3ea81686row8_col0 {\n",
       "            min-width:  6em;\n",
       "            background-color: #efcfbf;\n",
       "            color: #000000;\n",
       "        }    #T_e984a5cc_5c5c_11e9_b062_9cda3ea81686row8_col1 {\n",
       "            min-width:  6em;\n",
       "            background-color: #f7b79b;\n",
       "            color: #000000;\n",
       "        }    #T_e984a5cc_5c5c_11e9_b062_9cda3ea81686row8_col2 {\n",
       "            min-width:  6em;\n",
       "            background-color: #e5d8d1;\n",
       "            color: #000000;\n",
       "        }    #T_e984a5cc_5c5c_11e9_b062_9cda3ea81686row8_col3 {\n",
       "            min-width:  6em;\n",
       "            background-color: #e6d7cf;\n",
       "            color: #000000;\n",
       "        }    #T_e984a5cc_5c5c_11e9_b062_9cda3ea81686row8_col4 {\n",
       "            min-width:  6em;\n",
       "            background-color: #f7a889;\n",
       "            color: #000000;\n",
       "        }    #T_e984a5cc_5c5c_11e9_b062_9cda3ea81686row9_col0 {\n",
       "            min-width:  6em;\n",
       "            background-color: #ecd3c5;\n",
       "            color: #000000;\n",
       "        }    #T_e984a5cc_5c5c_11e9_b062_9cda3ea81686row9_col1 {\n",
       "            min-width:  6em;\n",
       "            background-color: #f6a385;\n",
       "            color: #000000;\n",
       "        }    #T_e984a5cc_5c5c_11e9_b062_9cda3ea81686row9_col2 {\n",
       "            min-width:  6em;\n",
       "            background-color: #b7cff9;\n",
       "            color: #000000;\n",
       "        }    #T_e984a5cc_5c5c_11e9_b062_9cda3ea81686row9_col3 {\n",
       "            min-width:  6em;\n",
       "            background-color: #dddcdc;\n",
       "            color: #000000;\n",
       "        }    #T_e984a5cc_5c5c_11e9_b062_9cda3ea81686row9_col4 {\n",
       "            min-width:  6em;\n",
       "            background-color: #f08b6e;\n",
       "            color: #000000;\n",
       "        }    #T_e984a5cc_5c5c_11e9_b062_9cda3ea81686row10_col0 {\n",
       "            min-width:  6em;\n",
       "            background-color: #ecd3c5;\n",
       "            color: #000000;\n",
       "        }    #T_e984a5cc_5c5c_11e9_b062_9cda3ea81686row10_col1 {\n",
       "            min-width:  6em;\n",
       "            background-color: #ef886b;\n",
       "            color: #000000;\n",
       "        }    #T_e984a5cc_5c5c_11e9_b062_9cda3ea81686row10_col2 {\n",
       "            min-width:  6em;\n",
       "            background-color: #82a6fb;\n",
       "            color: #000000;\n",
       "        }    #T_e984a5cc_5c5c_11e9_b062_9cda3ea81686row10_col3 {\n",
       "            min-width:  6em;\n",
       "            background-color: #d7dce3;\n",
       "            color: #000000;\n",
       "        }    #T_e984a5cc_5c5c_11e9_b062_9cda3ea81686row10_col4 {\n",
       "            min-width:  6em;\n",
       "            background-color: #e16751;\n",
       "            color: #000000;\n",
       "        }    #T_e984a5cc_5c5c_11e9_b062_9cda3ea81686row11_col0 {\n",
       "            min-width:  6em;\n",
       "            background-color: #ecd3c5;\n",
       "            color: #000000;\n",
       "        }    #T_e984a5cc_5c5c_11e9_b062_9cda3ea81686row11_col1 {\n",
       "            min-width:  6em;\n",
       "            background-color: #f7bca1;\n",
       "            color: #000000;\n",
       "        }    #T_e984a5cc_5c5c_11e9_b062_9cda3ea81686row11_col2 {\n",
       "            min-width:  6em;\n",
       "            background-color: #e0dbd8;\n",
       "            color: #000000;\n",
       "        }    #T_e984a5cc_5c5c_11e9_b062_9cda3ea81686row11_col3 {\n",
       "            min-width:  6em;\n",
       "            background-color: #e1dad6;\n",
       "            color: #000000;\n",
       "        }    #T_e984a5cc_5c5c_11e9_b062_9cda3ea81686row11_col4 {\n",
       "            min-width:  6em;\n",
       "            background-color: #f7ac8e;\n",
       "            color: #000000;\n",
       "        }    #T_e984a5cc_5c5c_11e9_b062_9cda3ea81686row12_col0 {\n",
       "            min-width:  6em;\n",
       "            background-color: #e9d5cb;\n",
       "            color: #000000;\n",
       "        }    #T_e984a5cc_5c5c_11e9_b062_9cda3ea81686row12_col1 {\n",
       "            min-width:  6em;\n",
       "            background-color: #da5a49;\n",
       "            color: #000000;\n",
       "        }    #T_e984a5cc_5c5c_11e9_b062_9cda3ea81686row12_col2 {\n",
       "            min-width:  6em;\n",
       "            background-color: #3b4cc0;\n",
       "            color: #f1f1f1;\n",
       "        }    #T_e984a5cc_5c5c_11e9_b062_9cda3ea81686row12_col3 {\n",
       "            min-width:  6em;\n",
       "            background-color: #cbd8ee;\n",
       "            color: #000000;\n",
       "        }    #T_e984a5cc_5c5c_11e9_b062_9cda3ea81686row12_col4 {\n",
       "            min-width:  6em;\n",
       "            background-color: #c0282f;\n",
       "            color: #f1f1f1;\n",
       "        }    #T_e984a5cc_5c5c_11e9_b062_9cda3ea81686row13_col0 {\n",
       "            min-width:  6em;\n",
       "            background-color: #dadce0;\n",
       "            color: #000000;\n",
       "        }    #T_e984a5cc_5c5c_11e9_b062_9cda3ea81686row13_col1 {\n",
       "            min-width:  6em;\n",
       "            background-color: #f7ac8e;\n",
       "            color: #000000;\n",
       "        }    #T_e984a5cc_5c5c_11e9_b062_9cda3ea81686row13_col2 {\n",
       "            min-width:  6em;\n",
       "            background-color: #7ea1fa;\n",
       "            color: #000000;\n",
       "        }    #T_e984a5cc_5c5c_11e9_b062_9cda3ea81686row13_col3 {\n",
       "            min-width:  6em;\n",
       "            background-color: #c3d5f4;\n",
       "            color: #000000;\n",
       "        }    #T_e984a5cc_5c5c_11e9_b062_9cda3ea81686row13_col4 {\n",
       "            min-width:  6em;\n",
       "            background-color: #f18f71;\n",
       "            color: #000000;\n",
       "        }    #T_e984a5cc_5c5c_11e9_b062_9cda3ea81686row14_col0 {\n",
       "            min-width:  6em;\n",
       "            background-color: #d8dce2;\n",
       "            color: #000000;\n",
       "        }    #T_e984a5cc_5c5c_11e9_b062_9cda3ea81686row14_col1 {\n",
       "            min-width:  6em;\n",
       "            background-color: #f6a283;\n",
       "            color: #000000;\n",
       "        }    #T_e984a5cc_5c5c_11e9_b062_9cda3ea81686row14_col2 {\n",
       "            min-width:  6em;\n",
       "            background-color: #6384eb;\n",
       "            color: #000000;\n",
       "        }    #T_e984a5cc_5c5c_11e9_b062_9cda3ea81686row14_col3 {\n",
       "            min-width:  6em;\n",
       "            background-color: #bcd2f7;\n",
       "            color: #000000;\n",
       "        }    #T_e984a5cc_5c5c_11e9_b062_9cda3ea81686row14_col4 {\n",
       "            min-width:  6em;\n",
       "            background-color: #ec8165;\n",
       "            color: #000000;\n",
       "        }    #T_e984a5cc_5c5c_11e9_b062_9cda3ea81686row15_col0 {\n",
       "            min-width:  6em;\n",
       "            background-color: #7a9df8;\n",
       "            color: #000000;\n",
       "        }    #T_e984a5cc_5c5c_11e9_b062_9cda3ea81686row15_col1 {\n",
       "            min-width:  6em;\n",
       "            background-color: #b5cdfa;\n",
       "            color: #000000;\n",
       "        }    #T_e984a5cc_5c5c_11e9_b062_9cda3ea81686row15_col2 {\n",
       "            min-width:  6em;\n",
       "            background-color: #5b7ae5;\n",
       "            color: #000000;\n",
       "        }    #T_e984a5cc_5c5c_11e9_b062_9cda3ea81686row15_col3 {\n",
       "            min-width:  6em;\n",
       "            background-color: #5e7de7;\n",
       "            color: #000000;\n",
       "        }    #T_e984a5cc_5c5c_11e9_b062_9cda3ea81686row15_col4 {\n",
       "            min-width:  6em;\n",
       "            background-color: #cfdaea;\n",
       "            color: #000000;\n",
       "        }    #T_e984a5cc_5c5c_11e9_b062_9cda3ea81686row16_col0 {\n",
       "            min-width:  6em;\n",
       "            background-color: #7396f5;\n",
       "            color: #000000;\n",
       "        }    #T_e984a5cc_5c5c_11e9_b062_9cda3ea81686row16_col1 {\n",
       "            min-width:  6em;\n",
       "            background-color: #b3cdfb;\n",
       "            color: #000000;\n",
       "        }    #T_e984a5cc_5c5c_11e9_b062_9cda3ea81686row16_col2 {\n",
       "            min-width:  6em;\n",
       "            background-color: #4e68d8;\n",
       "            color: #000000;\n",
       "        }    #T_e984a5cc_5c5c_11e9_b062_9cda3ea81686row16_col3 {\n",
       "            min-width:  6em;\n",
       "            background-color: #5673e0;\n",
       "            color: #000000;\n",
       "        }    #T_e984a5cc_5c5c_11e9_b062_9cda3ea81686row16_col4 {\n",
       "            min-width:  6em;\n",
       "            background-color: #cfdaea;\n",
       "            color: #000000;\n",
       "        }    #T_e984a5cc_5c5c_11e9_b062_9cda3ea81686row17_col0 {\n",
       "            min-width:  6em;\n",
       "            background-color: #5f7fe8;\n",
       "            color: #000000;\n",
       "        }    #T_e984a5cc_5c5c_11e9_b062_9cda3ea81686row17_col1 {\n",
       "            min-width:  6em;\n",
       "            background-color: #9abbff;\n",
       "            color: #000000;\n",
       "        }    #T_e984a5cc_5c5c_11e9_b062_9cda3ea81686row17_col2 {\n",
       "            min-width:  6em;\n",
       "            background-color: #516ddb;\n",
       "            color: #000000;\n",
       "        }    #T_e984a5cc_5c5c_11e9_b062_9cda3ea81686row17_col3 {\n",
       "            min-width:  6em;\n",
       "            background-color: #465ecf;\n",
       "            color: #f1f1f1;\n",
       "        }    #T_e984a5cc_5c5c_11e9_b062_9cda3ea81686row17_col4 {\n",
       "            min-width:  6em;\n",
       "            background-color: #b7cff9;\n",
       "            color: #000000;\n",
       "        }    #T_e984a5cc_5c5c_11e9_b062_9cda3ea81686row18_col0 {\n",
       "            min-width:  6em;\n",
       "            background-color: #4055c8;\n",
       "            color: #f1f1f1;\n",
       "        }    #T_e984a5cc_5c5c_11e9_b062_9cda3ea81686row18_col1 {\n",
       "            min-width:  6em;\n",
       "            background-color: #4961d2;\n",
       "            color: #f1f1f1;\n",
       "        }    #T_e984a5cc_5c5c_11e9_b062_9cda3ea81686row18_col2 {\n",
       "            min-width:  6em;\n",
       "            background-color: #c3d5f4;\n",
       "            color: #000000;\n",
       "        }    #T_e984a5cc_5c5c_11e9_b062_9cda3ea81686row18_col3 {\n",
       "            min-width:  6em;\n",
       "            background-color: #3d50c3;\n",
       "            color: #f1f1f1;\n",
       "        }    #T_e984a5cc_5c5c_11e9_b062_9cda3ea81686row18_col4 {\n",
       "            min-width:  6em;\n",
       "            background-color: #4e68d8;\n",
       "            color: #000000;\n",
       "        }    #T_e984a5cc_5c5c_11e9_b062_9cda3ea81686row19_col0 {\n",
       "            min-width:  6em;\n",
       "            background-color: #4055c8;\n",
       "            color: #f1f1f1;\n",
       "        }    #T_e984a5cc_5c5c_11e9_b062_9cda3ea81686row19_col1 {\n",
       "            min-width:  6em;\n",
       "            background-color: #3e51c5;\n",
       "            color: #f1f1f1;\n",
       "        }    #T_e984a5cc_5c5c_11e9_b062_9cda3ea81686row19_col2 {\n",
       "            min-width:  6em;\n",
       "            background-color: #dddcdc;\n",
       "            color: #000000;\n",
       "        }    #T_e984a5cc_5c5c_11e9_b062_9cda3ea81686row19_col3 {\n",
       "            min-width:  6em;\n",
       "            background-color: #4055c8;\n",
       "            color: #f1f1f1;\n",
       "        }    #T_e984a5cc_5c5c_11e9_b062_9cda3ea81686row19_col4 {\n",
       "            min-width:  6em;\n",
       "            background-color: #3d50c3;\n",
       "            color: #f1f1f1;\n",
       "        }    #T_e984a5cc_5c5c_11e9_b062_9cda3ea81686row20_col0 {\n",
       "            min-width:  6em;\n",
       "            background-color: #3b4cc0;\n",
       "            color: #f1f1f1;\n",
       "        }    #T_e984a5cc_5c5c_11e9_b062_9cda3ea81686row20_col1 {\n",
       "            min-width:  6em;\n",
       "            background-color: #3b4cc0;\n",
       "            color: #f1f1f1;\n",
       "        }    #T_e984a5cc_5c5c_11e9_b062_9cda3ea81686row20_col2 {\n",
       "            min-width:  6em;\n",
       "            background-color: #d6dce4;\n",
       "            color: #000000;\n",
       "        }    #T_e984a5cc_5c5c_11e9_b062_9cda3ea81686row20_col3 {\n",
       "            min-width:  6em;\n",
       "            background-color: #3b4cc0;\n",
       "            color: #f1f1f1;\n",
       "        }    #T_e984a5cc_5c5c_11e9_b062_9cda3ea81686row20_col4 {\n",
       "            min-width:  6em;\n",
       "            background-color: #3b4cc0;\n",
       "            color: #f1f1f1;\n",
       "        }</style><table id=\"T_e984a5cc_5c5c_11e9_b062_9cda3ea81686\" ><thead>    <tr>        <th class=\"blank\" ></th>        <th class=\"blank level0\" ></th>        <th class=\"col_heading level0 col0\" >accuracy</th>        <th class=\"col_heading level0 col1\" >precision</th>        <th class=\"col_heading level0 col2\" >recall</th>        <th class=\"col_heading level0 col3\" >f1</th>        <th class=\"col_heading level0 col4\" >specificity</th>    </tr>    <tr>        <th class=\"index_name level0\" >vectorizer</th>        <th class=\"index_name level1\" >classifier</th>        <th class=\"blank\" ></th>        <th class=\"blank\" ></th>        <th class=\"blank\" ></th>        <th class=\"blank\" ></th>        <th class=\"blank\" ></th>    </tr></thead><tbody>\n",
       "                <tr>\n",
       "                        <th id=\"T_e984a5cc_5c5c_11e9_b062_9cda3ea81686level0_row0\" class=\"row_heading level0 row0\" rowspan=2>TfidfVectorizer</th>\n",
       "                        <th id=\"T_e984a5cc_5c5c_11e9_b062_9cda3ea81686level1_row0\" class=\"row_heading level1 row0\" >LinearSVC</th>\n",
       "                        <td id=\"T_e984a5cc_5c5c_11e9_b062_9cda3ea81686row0_col0\" class=\"data row0 col0\" >0.890</td>\n",
       "                        <td id=\"T_e984a5cc_5c5c_11e9_b062_9cda3ea81686row0_col1\" class=\"data row0 col1\" >0.880</td>\n",
       "                        <td id=\"T_e984a5cc_5c5c_11e9_b062_9cda3ea81686row0_col2\" class=\"data row0 col2\" >0.903</td>\n",
       "                        <td id=\"T_e984a5cc_5c5c_11e9_b062_9cda3ea81686row0_col3\" class=\"data row0 col3\" >0.891</td>\n",
       "                        <td id=\"T_e984a5cc_5c5c_11e9_b062_9cda3ea81686row0_col4\" class=\"data row0 col4\" >0.878</td>\n",
       "            </tr>\n",
       "            <tr>\n",
       "                                <th id=\"T_e984a5cc_5c5c_11e9_b062_9cda3ea81686level1_row1\" class=\"row_heading level1 row1\" >LogisticRegression</th>\n",
       "                        <td id=\"T_e984a5cc_5c5c_11e9_b062_9cda3ea81686row1_col0\" class=\"data row1 col0\" >0.881</td>\n",
       "                        <td id=\"T_e984a5cc_5c5c_11e9_b062_9cda3ea81686row1_col1\" class=\"data row1 col1\" >0.867</td>\n",
       "                        <td id=\"T_e984a5cc_5c5c_11e9_b062_9cda3ea81686row1_col2\" class=\"data row1 col2\" >0.897</td>\n",
       "                        <td id=\"T_e984a5cc_5c5c_11e9_b062_9cda3ea81686row1_col3\" class=\"data row1 col3\" >0.882</td>\n",
       "                        <td id=\"T_e984a5cc_5c5c_11e9_b062_9cda3ea81686row1_col4\" class=\"data row1 col4\" >0.864</td>\n",
       "            </tr>\n",
       "            <tr>\n",
       "                        <th id=\"T_e984a5cc_5c5c_11e9_b062_9cda3ea81686level0_row2\" class=\"row_heading level0 row2\" >CountVectorizer_NonBin</th>\n",
       "                        <th id=\"T_e984a5cc_5c5c_11e9_b062_9cda3ea81686level1_row2\" class=\"row_heading level1 row2\" >LogisticRegression</th>\n",
       "                        <td id=\"T_e984a5cc_5c5c_11e9_b062_9cda3ea81686row2_col0\" class=\"data row2 col0\" >0.877</td>\n",
       "                        <td id=\"T_e984a5cc_5c5c_11e9_b062_9cda3ea81686row2_col1\" class=\"data row2 col1\" >0.871</td>\n",
       "                        <td id=\"T_e984a5cc_5c5c_11e9_b062_9cda3ea81686row2_col2\" class=\"data row2 col2\" >0.882</td>\n",
       "                        <td id=\"T_e984a5cc_5c5c_11e9_b062_9cda3ea81686row2_col3\" class=\"data row2 col3\" >0.877</td>\n",
       "                        <td id=\"T_e984a5cc_5c5c_11e9_b062_9cda3ea81686row2_col4\" class=\"data row2 col4\" >0.871</td>\n",
       "            </tr>\n",
       "            <tr>\n",
       "                        <th id=\"T_e984a5cc_5c5c_11e9_b062_9cda3ea81686level0_row3\" class=\"row_heading level0 row3\" >CountVectorizer_Bin</th>\n",
       "                        <th id=\"T_e984a5cc_5c5c_11e9_b062_9cda3ea81686level1_row3\" class=\"row_heading level1 row3\" >LogisticRegression</th>\n",
       "                        <td id=\"T_e984a5cc_5c5c_11e9_b062_9cda3ea81686row3_col0\" class=\"data row3 col0\" >0.874</td>\n",
       "                        <td id=\"T_e984a5cc_5c5c_11e9_b062_9cda3ea81686row3_col1\" class=\"data row3 col1\" >0.866</td>\n",
       "                        <td id=\"T_e984a5cc_5c5c_11e9_b062_9cda3ea81686row3_col2\" class=\"data row3 col2\" >0.882</td>\n",
       "                        <td id=\"T_e984a5cc_5c5c_11e9_b062_9cda3ea81686row3_col3\" class=\"data row3 col3\" >0.874</td>\n",
       "                        <td id=\"T_e984a5cc_5c5c_11e9_b062_9cda3ea81686row3_col4\" class=\"data row3 col4\" >0.866</td>\n",
       "            </tr>\n",
       "            <tr>\n",
       "                        <th id=\"T_e984a5cc_5c5c_11e9_b062_9cda3ea81686level0_row4\" class=\"row_heading level0 row4\" rowspan=2>CountVectorizer_NonBin</th>\n",
       "                        <th id=\"T_e984a5cc_5c5c_11e9_b062_9cda3ea81686level1_row4\" class=\"row_heading level1 row4\" >LGBMClassifier</th>\n",
       "                        <td id=\"T_e984a5cc_5c5c_11e9_b062_9cda3ea81686row4_col0\" class=\"data row4 col0\" >0.863</td>\n",
       "                        <td id=\"T_e984a5cc_5c5c_11e9_b062_9cda3ea81686row4_col1\" class=\"data row4 col1\" >0.852</td>\n",
       "                        <td id=\"T_e984a5cc_5c5c_11e9_b062_9cda3ea81686row4_col2\" class=\"data row4 col2\" >0.877</td>\n",
       "                        <td id=\"T_e984a5cc_5c5c_11e9_b062_9cda3ea81686row4_col3\" class=\"data row4 col3\" >0.864</td>\n",
       "                        <td id=\"T_e984a5cc_5c5c_11e9_b062_9cda3ea81686row4_col4\" class=\"data row4 col4\" >0.849</td>\n",
       "            </tr>\n",
       "            <tr>\n",
       "                                <th id=\"T_e984a5cc_5c5c_11e9_b062_9cda3ea81686level1_row5\" class=\"row_heading level1 row5\" >LinearSVC</th>\n",
       "                        <td id=\"T_e984a5cc_5c5c_11e9_b062_9cda3ea81686row5_col0\" class=\"data row5 col0\" >0.863</td>\n",
       "                        <td id=\"T_e984a5cc_5c5c_11e9_b062_9cda3ea81686row5_col1\" class=\"data row5 col1\" >0.861</td>\n",
       "                        <td id=\"T_e984a5cc_5c5c_11e9_b062_9cda3ea81686row5_col2\" class=\"data row5 col2\" >0.864</td>\n",
       "                        <td id=\"T_e984a5cc_5c5c_11e9_b062_9cda3ea81686row5_col3\" class=\"data row5 col3\" >0.862</td>\n",
       "                        <td id=\"T_e984a5cc_5c5c_11e9_b062_9cda3ea81686row5_col4\" class=\"data row5 col4\" >0.862</td>\n",
       "            </tr>\n",
       "            <tr>\n",
       "                        <th id=\"T_e984a5cc_5c5c_11e9_b062_9cda3ea81686level0_row6\" class=\"row_heading level0 row6\" >TfidfVectorizer</th>\n",
       "                        <th id=\"T_e984a5cc_5c5c_11e9_b062_9cda3ea81686level1_row6\" class=\"row_heading level1 row6\" >MultinomialNB</th>\n",
       "                        <td id=\"T_e984a5cc_5c5c_11e9_b062_9cda3ea81686row6_col0\" class=\"data row6 col0\" >0.860</td>\n",
       "                        <td id=\"T_e984a5cc_5c5c_11e9_b062_9cda3ea81686row6_col1\" class=\"data row6 col1\" >0.867</td>\n",
       "                        <td id=\"T_e984a5cc_5c5c_11e9_b062_9cda3ea81686row6_col2\" class=\"data row6 col2\" >0.849</td>\n",
       "                        <td id=\"T_e984a5cc_5c5c_11e9_b062_9cda3ea81686row6_col3\" class=\"data row6 col3\" >0.858</td>\n",
       "                        <td id=\"T_e984a5cc_5c5c_11e9_b062_9cda3ea81686row6_col4\" class=\"data row6 col4\" >0.871</td>\n",
       "            </tr>\n",
       "            <tr>\n",
       "                        <th id=\"T_e984a5cc_5c5c_11e9_b062_9cda3ea81686level0_row7\" class=\"row_heading level0 row7\" >CountVectorizer_Bin</th>\n",
       "                        <th id=\"T_e984a5cc_5c5c_11e9_b062_9cda3ea81686level1_row7\" class=\"row_heading level1 row7\" >MultinomialNB</th>\n",
       "                        <td id=\"T_e984a5cc_5c5c_11e9_b062_9cda3ea81686row7_col0\" class=\"data row7 col0\" >0.858</td>\n",
       "                        <td id=\"T_e984a5cc_5c5c_11e9_b062_9cda3ea81686row7_col1\" class=\"data row7 col1\" >0.872</td>\n",
       "                        <td id=\"T_e984a5cc_5c5c_11e9_b062_9cda3ea81686row7_col2\" class=\"data row7 col2\" >0.837</td>\n",
       "                        <td id=\"T_e984a5cc_5c5c_11e9_b062_9cda3ea81686row7_col3\" class=\"data row7 col3\" >0.854</td>\n",
       "                        <td id=\"T_e984a5cc_5c5c_11e9_b062_9cda3ea81686row7_col4\" class=\"data row7 col4\" >0.879</td>\n",
       "            </tr>\n",
       "            <tr>\n",
       "                        <th id=\"T_e984a5cc_5c5c_11e9_b062_9cda3ea81686level0_row8\" class=\"row_heading level0 row8\" >TfidfVectorizer</th>\n",
       "                        <th id=\"T_e984a5cc_5c5c_11e9_b062_9cda3ea81686level1_row8\" class=\"row_heading level1 row8\" >LGBMClassifier</th>\n",
       "                        <td id=\"T_e984a5cc_5c5c_11e9_b062_9cda3ea81686row8_col0\" class=\"data row8 col0\" >0.858</td>\n",
       "                        <td id=\"T_e984a5cc_5c5c_11e9_b062_9cda3ea81686row8_col1\" class=\"data row8 col1\" >0.847</td>\n",
       "                        <td id=\"T_e984a5cc_5c5c_11e9_b062_9cda3ea81686row8_col2\" class=\"data row8 col2\" >0.871</td>\n",
       "                        <td id=\"T_e984a5cc_5c5c_11e9_b062_9cda3ea81686row8_col3\" class=\"data row8 col3\" >0.859</td>\n",
       "                        <td id=\"T_e984a5cc_5c5c_11e9_b062_9cda3ea81686row8_col4\" class=\"data row8 col4\" >0.844</td>\n",
       "            </tr>\n",
       "            <tr>\n",
       "                        <th id=\"T_e984a5cc_5c5c_11e9_b062_9cda3ea81686level0_row9\" class=\"row_heading level0 row9\" >CountVectorizer_Bin</th>\n",
       "                        <th id=\"T_e984a5cc_5c5c_11e9_b062_9cda3ea81686level1_row9\" class=\"row_heading level1 row9\" >LinearSVC</th>\n",
       "                        <td id=\"T_e984a5cc_5c5c_11e9_b062_9cda3ea81686row9_col0\" class=\"data row9 col0\" >0.856</td>\n",
       "                        <td id=\"T_e984a5cc_5c5c_11e9_b062_9cda3ea81686row9_col1\" class=\"data row9 col1\" >0.852</td>\n",
       "                        <td id=\"T_e984a5cc_5c5c_11e9_b062_9cda3ea81686row9_col2\" class=\"data row9 col2\" >0.860</td>\n",
       "                        <td id=\"T_e984a5cc_5c5c_11e9_b062_9cda3ea81686row9_col3\" class=\"data row9 col3\" >0.856</td>\n",
       "                        <td id=\"T_e984a5cc_5c5c_11e9_b062_9cda3ea81686row9_col4\" class=\"data row9 col4\" >0.852</td>\n",
       "            </tr>\n",
       "            <tr>\n",
       "                        <th id=\"T_e984a5cc_5c5c_11e9_b062_9cda3ea81686level0_row10\" class=\"row_heading level0 row10\" >CountVectorizer_NonBin</th>\n",
       "                        <th id=\"T_e984a5cc_5c5c_11e9_b062_9cda3ea81686level1_row10\" class=\"row_heading level1 row10\" >RandomForestClassifier</th>\n",
       "                        <td id=\"T_e984a5cc_5c5c_11e9_b062_9cda3ea81686row10_col0\" class=\"data row10 col0\" >0.856</td>\n",
       "                        <td id=\"T_e984a5cc_5c5c_11e9_b062_9cda3ea81686row10_col1\" class=\"data row10 col1\" >0.859</td>\n",
       "                        <td id=\"T_e984a5cc_5c5c_11e9_b062_9cda3ea81686row10_col2\" class=\"data row10 col2\" >0.850</td>\n",
       "                        <td id=\"T_e984a5cc_5c5c_11e9_b062_9cda3ea81686row10_col3\" class=\"data row10 col3\" >0.855</td>\n",
       "                        <td id=\"T_e984a5cc_5c5c_11e9_b062_9cda3ea81686row10_col4\" class=\"data row10 col4\" >0.862</td>\n",
       "            </tr>\n",
       "            <tr>\n",
       "                        <th id=\"T_e984a5cc_5c5c_11e9_b062_9cda3ea81686level0_row11\" class=\"row_heading level0 row11\" >CountVectorizer_Bin</th>\n",
       "                        <th id=\"T_e984a5cc_5c5c_11e9_b062_9cda3ea81686level1_row11\" class=\"row_heading level1 row11\" >LGBMClassifier</th>\n",
       "                        <td id=\"T_e984a5cc_5c5c_11e9_b062_9cda3ea81686row11_col0\" class=\"data row11 col0\" >0.856</td>\n",
       "                        <td id=\"T_e984a5cc_5c5c_11e9_b062_9cda3ea81686row11_col1\" class=\"data row11 col1\" >0.845</td>\n",
       "                        <td id=\"T_e984a5cc_5c5c_11e9_b062_9cda3ea81686row11_col2\" class=\"data row11 col2\" >0.870</td>\n",
       "                        <td id=\"T_e984a5cc_5c5c_11e9_b062_9cda3ea81686row11_col3\" class=\"data row11 col3\" >0.857</td>\n",
       "                        <td id=\"T_e984a5cc_5c5c_11e9_b062_9cda3ea81686row11_col4\" class=\"data row11 col4\" >0.843</td>\n",
       "            </tr>\n",
       "            <tr>\n",
       "                        <th id=\"T_e984a5cc_5c5c_11e9_b062_9cda3ea81686level0_row12\" class=\"row_heading level0 row12\" >CountVectorizer_NonBin</th>\n",
       "                        <th id=\"T_e984a5cc_5c5c_11e9_b062_9cda3ea81686level1_row12\" class=\"row_heading level1 row12\" >MultinomialNB</th>\n",
       "                        <td id=\"T_e984a5cc_5c5c_11e9_b062_9cda3ea81686row12_col0\" class=\"data row12 col0\" >0.855</td>\n",
       "                        <td id=\"T_e984a5cc_5c5c_11e9_b062_9cda3ea81686row12_col1\" class=\"data row12 col1\" >0.868</td>\n",
       "                        <td id=\"T_e984a5cc_5c5c_11e9_b062_9cda3ea81686row12_col2\" class=\"data row12 col2\" >0.835</td>\n",
       "                        <td id=\"T_e984a5cc_5c5c_11e9_b062_9cda3ea81686row12_col3\" class=\"data row12 col3\" >0.852</td>\n",
       "                        <td id=\"T_e984a5cc_5c5c_11e9_b062_9cda3ea81686row12_col4\" class=\"data row12 col4\" >0.875</td>\n",
       "            </tr>\n",
       "            <tr>\n",
       "                        <th id=\"T_e984a5cc_5c5c_11e9_b062_9cda3ea81686level0_row13\" class=\"row_heading level0 row13\" >TfidfVectorizer</th>\n",
       "                        <th id=\"T_e984a5cc_5c5c_11e9_b062_9cda3ea81686level1_row13\" class=\"row_heading level1 row13\" >RandomForestClassifier</th>\n",
       "                        <td id=\"T_e984a5cc_5c5c_11e9_b062_9cda3ea81686row13_col0\" class=\"data row13 col0\" >0.851</td>\n",
       "                        <td id=\"T_e984a5cc_5c5c_11e9_b062_9cda3ea81686row13_col1\" class=\"data row13 col1\" >0.850</td>\n",
       "                        <td id=\"T_e984a5cc_5c5c_11e9_b062_9cda3ea81686row13_col2\" class=\"data row13 col2\" >0.849</td>\n",
       "                        <td id=\"T_e984a5cc_5c5c_11e9_b062_9cda3ea81686row13_col3\" class=\"data row13 col3\" >0.850</td>\n",
       "                        <td id=\"T_e984a5cc_5c5c_11e9_b062_9cda3ea81686row13_col4\" class=\"data row13 col4\" >0.852</td>\n",
       "            </tr>\n",
       "            <tr>\n",
       "                        <th id=\"T_e984a5cc_5c5c_11e9_b062_9cda3ea81686level0_row14\" class=\"row_heading level0 row14\" >CountVectorizer_Bin</th>\n",
       "                        <th id=\"T_e984a5cc_5c5c_11e9_b062_9cda3ea81686level1_row14\" class=\"row_heading level1 row14\" >RandomForestClassifier</th>\n",
       "                        <td id=\"T_e984a5cc_5c5c_11e9_b062_9cda3ea81686row14_col0\" class=\"data row14 col0\" >0.850</td>\n",
       "                        <td id=\"T_e984a5cc_5c5c_11e9_b062_9cda3ea81686row14_col1\" class=\"data row14 col1\" >0.852</td>\n",
       "                        <td id=\"T_e984a5cc_5c5c_11e9_b062_9cda3ea81686row14_col2\" class=\"data row14 col2\" >0.844</td>\n",
       "                        <td id=\"T_e984a5cc_5c5c_11e9_b062_9cda3ea81686row14_col3\" class=\"data row14 col3\" >0.848</td>\n",
       "                        <td id=\"T_e984a5cc_5c5c_11e9_b062_9cda3ea81686row14_col4\" class=\"data row14 col4\" >0.856</td>\n",
       "            </tr>\n",
       "            <tr>\n",
       "                        <th id=\"T_e984a5cc_5c5c_11e9_b062_9cda3ea81686level0_row15\" class=\"row_heading level0 row15\" >CountVectorizer_NonBin</th>\n",
       "                        <th id=\"T_e984a5cc_5c5c_11e9_b062_9cda3ea81686level1_row15\" class=\"row_heading level1 row15\" >AdaBoostClassifier</th>\n",
       "                        <td id=\"T_e984a5cc_5c5c_11e9_b062_9cda3ea81686row15_col0\" class=\"data row15 col0\" >0.828</td>\n",
       "                        <td id=\"T_e984a5cc_5c5c_11e9_b062_9cda3ea81686row15_col1\" class=\"data row15 col1\" >0.816</td>\n",
       "                        <td id=\"T_e984a5cc_5c5c_11e9_b062_9cda3ea81686row15_col2\" class=\"data row15 col2\" >0.843</td>\n",
       "                        <td id=\"T_e984a5cc_5c5c_11e9_b062_9cda3ea81686row15_col3\" class=\"data row15 col3\" >0.829</td>\n",
       "                        <td id=\"T_e984a5cc_5c5c_11e9_b062_9cda3ea81686row15_col4\" class=\"data row15 col4\" >0.813</td>\n",
       "            </tr>\n",
       "            <tr>\n",
       "                        <th id=\"T_e984a5cc_5c5c_11e9_b062_9cda3ea81686level0_row16\" class=\"row_heading level0 row16\" >CountVectorizer_Bin</th>\n",
       "                        <th id=\"T_e984a5cc_5c5c_11e9_b062_9cda3ea81686level1_row16\" class=\"row_heading level1 row16\" >AdaBoostClassifier</th>\n",
       "                        <td id=\"T_e984a5cc_5c5c_11e9_b062_9cda3ea81686row16_col0\" class=\"data row16 col0\" >0.826</td>\n",
       "                        <td id=\"T_e984a5cc_5c5c_11e9_b062_9cda3ea81686row16_col1\" class=\"data row16 col1\" >0.816</td>\n",
       "                        <td id=\"T_e984a5cc_5c5c_11e9_b062_9cda3ea81686row16_col2\" class=\"data row16 col2\" >0.840</td>\n",
       "                        <td id=\"T_e984a5cc_5c5c_11e9_b062_9cda3ea81686row16_col3\" class=\"data row16 col3\" >0.828</td>\n",
       "                        <td id=\"T_e984a5cc_5c5c_11e9_b062_9cda3ea81686row16_col4\" class=\"data row16 col4\" >0.813</td>\n",
       "            </tr>\n",
       "            <tr>\n",
       "                        <th id=\"T_e984a5cc_5c5c_11e9_b062_9cda3ea81686level0_row17\" class=\"row_heading level0 row17\" >TfidfVectorizer</th>\n",
       "                        <th id=\"T_e984a5cc_5c5c_11e9_b062_9cda3ea81686level1_row17\" class=\"row_heading level1 row17\" >AdaBoostClassifier</th>\n",
       "                        <td id=\"T_e984a5cc_5c5c_11e9_b062_9cda3ea81686row17_col0\" class=\"data row17 col0\" >0.822</td>\n",
       "                        <td id=\"T_e984a5cc_5c5c_11e9_b062_9cda3ea81686row17_col1\" class=\"data row17 col1\" >0.808</td>\n",
       "                        <td id=\"T_e984a5cc_5c5c_11e9_b062_9cda3ea81686row17_col2\" class=\"data row17 col2\" >0.841</td>\n",
       "                        <td id=\"T_e984a5cc_5c5c_11e9_b062_9cda3ea81686row17_col3\" class=\"data row17 col3\" >0.824</td>\n",
       "                        <td id=\"T_e984a5cc_5c5c_11e9_b062_9cda3ea81686row17_col4\" class=\"data row17 col4\" >0.803</td>\n",
       "            </tr>\n",
       "            <tr>\n",
       "                        <th id=\"T_e984a5cc_5c5c_11e9_b062_9cda3ea81686level0_row18\" class=\"row_heading level0 row18\" >CountVectorizer_Bin</th>\n",
       "                        <th id=\"T_e984a5cc_5c5c_11e9_b062_9cda3ea81686level1_row18\" class=\"row_heading level1 row18\" >GradientBoostingClassifier</th>\n",
       "                        <td id=\"T_e984a5cc_5c5c_11e9_b062_9cda3ea81686row18_col0\" class=\"data row18 col0\" >0.814</td>\n",
       "                        <td id=\"T_e984a5cc_5c5c_11e9_b062_9cda3ea81686row18_col1\" class=\"data row18 col1\" >0.785</td>\n",
       "                        <td id=\"T_e984a5cc_5c5c_11e9_b062_9cda3ea81686row18_col2\" class=\"data row18 col2\" >0.863</td>\n",
       "                        <td id=\"T_e984a5cc_5c5c_11e9_b062_9cda3ea81686row18_col3\" class=\"data row18 col3\" >0.822</td>\n",
       "                        <td id=\"T_e984a5cc_5c5c_11e9_b062_9cda3ea81686row18_col4\" class=\"data row18 col4\" >0.766</td>\n",
       "            </tr>\n",
       "            <tr>\n",
       "                        <th id=\"T_e984a5cc_5c5c_11e9_b062_9cda3ea81686level0_row19\" class=\"row_heading level0 row19\" >CountVectorizer_NonBin</th>\n",
       "                        <th id=\"T_e984a5cc_5c5c_11e9_b062_9cda3ea81686level1_row19\" class=\"row_heading level1 row19\" >GradientBoostingClassifier</th>\n",
       "                        <td id=\"T_e984a5cc_5c5c_11e9_b062_9cda3ea81686row19_col0\" class=\"data row19 col0\" >0.814</td>\n",
       "                        <td id=\"T_e984a5cc_5c5c_11e9_b062_9cda3ea81686row19_col1\" class=\"data row19 col1\" >0.781</td>\n",
       "                        <td id=\"T_e984a5cc_5c5c_11e9_b062_9cda3ea81686row19_col2\" class=\"data row19 col2\" >0.869</td>\n",
       "                        <td id=\"T_e984a5cc_5c5c_11e9_b062_9cda3ea81686row19_col3\" class=\"data row19 col3\" >0.823</td>\n",
       "                        <td id=\"T_e984a5cc_5c5c_11e9_b062_9cda3ea81686row19_col4\" class=\"data row19 col4\" >0.759</td>\n",
       "            </tr>\n",
       "            <tr>\n",
       "                        <th id=\"T_e984a5cc_5c5c_11e9_b062_9cda3ea81686level0_row20\" class=\"row_heading level0 row20\" >TfidfVectorizer</th>\n",
       "                        <th id=\"T_e984a5cc_5c5c_11e9_b062_9cda3ea81686level1_row20\" class=\"row_heading level1 row20\" >GradientBoostingClassifier</th>\n",
       "                        <td id=\"T_e984a5cc_5c5c_11e9_b062_9cda3ea81686row20_col0\" class=\"data row20 col0\" >0.812</td>\n",
       "                        <td id=\"T_e984a5cc_5c5c_11e9_b062_9cda3ea81686row20_col1\" class=\"data row20 col1\" >0.780</td>\n",
       "                        <td id=\"T_e984a5cc_5c5c_11e9_b062_9cda3ea81686row20_col2\" class=\"data row20 col2\" >0.867</td>\n",
       "                        <td id=\"T_e984a5cc_5c5c_11e9_b062_9cda3ea81686row20_col3\" class=\"data row20 col3\" >0.821</td>\n",
       "                        <td id=\"T_e984a5cc_5c5c_11e9_b062_9cda3ea81686row20_col4\" class=\"data row20 col4\" >0.758</td>\n",
       "            </tr>\n",
       "    </tbody></table>"
      ],
      "text/plain": [
       "<pandas.io.formats.style.Styler at 0x20cb7ebb9b0>"
      ]
     },
     "execution_count": 18,
     "metadata": {},
     "output_type": "execute_result"
    }
   ],
   "source": [
    "'''metrics_df \\\n",
    "    .sort_values(['accuracy', 'precision', 'recall'], ascending=False).style \\\n",
    "    .format('{:.3f}') \\\n",
    "    .set_properties(**{'min-width': '6em'}) \\\n",
    "    .background_gradient(cmap=\"coolwarm\")'''\n",
    "\n",
    "# Having to write this custom background colouring routine because Pandas and Matplotlib can't \n",
    "#  apply background colours to multiindex DataFrames for some reason (see code above)\n",
    "\n",
    "from matplotlib import colors\n",
    "def my_background_gradient(s, cmap='coolwarm'):\n",
    "    def relative_luminance(rgba):\n",
    "        r, g, b = (x / 12.92 if x <= 0.03928 else ((x + 0.055) / 1.055 ** 2.4) for x in rgba[:3])\n",
    "        return 0.2126 * r + 0.7152 * g + 0.0722 * b\n",
    "    \n",
    "    def font_color(bg_color):\n",
    "        rgba = list(colors.hex2color(bg_color))\n",
    "        return '#f1f1f1' if relative_luminance(rgba) < 0.408 else '#000000'\n",
    "    \n",
    "    m = s.min().min()\n",
    "    M = s.max().max()\n",
    "    norm = colors.Normalize(m, M)\n",
    "    normed = s.apply(norm)\n",
    "    cm = plt.cm.get_cmap(cmap)\n",
    "    c = normed.apply(lambda x: colors.rgb2hex(cm(x)))\n",
    "    ret = c.apply(lambda x: 'background-color:%s;color:%s' % (x, font_color(x)))\n",
    "    return ret\n",
    "\n",
    "metrics_df \\\n",
    "    .sort_values(['accuracy', 'precision', 'recall'], ascending=False).style \\\n",
    "        .format('{:.3f}') \\\n",
    "        .set_properties(**{'min-width': '6em'}) \\\n",
    "        .apply(my_background_gradient, cmap=\"coolwarm\", axis=0)"
   ]
  },
  {
   "cell_type": "code",
   "execution_count": null,
   "metadata": {},
   "outputs": [],
   "source": []
  }
 ],
 "metadata": {
  "kernelspec": {
   "display_name": "Python 3",
   "language": "python",
   "name": "python3"
  },
  "language_info": {
   "codemirror_mode": {
    "name": "ipython",
    "version": 3
   },
   "file_extension": ".py",
   "mimetype": "text/x-python",
   "name": "python",
   "nbconvert_exporter": "python",
   "pygments_lexer": "ipython3",
   "version": "3.7.0"
  },
  "notify_time": "10"
 },
 "nbformat": 4,
 "nbformat_minor": 2
}
